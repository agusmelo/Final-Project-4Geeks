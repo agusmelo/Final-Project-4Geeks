{
 "cells": [
  {
   "cell_type": "code",
   "execution_count": 85,
   "metadata": {},
   "outputs": [
    {
     "name": "stdout",
     "output_type": "stream",
     "text": [
      "Requirement already satisfied: pip in /home/gitpod/.pyenv/versions/3.8.13/lib/python3.8/site-packages (22.2.2)\n",
      "Requirement already satisfied: pandas==1.4.2 in /home/gitpod/.pyenv/versions/3.8.13/lib/python3.8/site-packages (from -r ../requirements.txt (line 1)) (1.4.2)\n",
      "Requirement already satisfied: python-dotenv==0.20.0 in /home/gitpod/.pyenv/versions/3.8.13/lib/python3.8/site-packages (from -r ../requirements.txt (line 2)) (0.20.0)\n",
      "Requirement already satisfied: requests==2.27.1 in /home/gitpod/.pyenv/versions/3.8.13/lib/python3.8/site-packages (from -r ../requirements.txt (line 3)) (2.27.1)\n",
      "Requirement already satisfied: numpy>=1.18.5 in /home/gitpod/.pyenv/versions/3.8.13/lib/python3.8/site-packages (from -r ../requirements.txt (line 4)) (1.23.2)\n",
      "Requirement already satisfied: matplotlib>=3.2.2 in /home/gitpod/.pyenv/versions/3.8.13/lib/python3.8/site-packages (from -r ../requirements.txt (line 5)) (3.5.3)\n",
      "Requirement already satisfied: sklearn in /home/gitpod/.pyenv/versions/3.8.13/lib/python3.8/site-packages (from -r ../requirements.txt (line 6)) (0.0)\n",
      "Requirement already satisfied: seaborn in /home/gitpod/.pyenv/versions/3.8.13/lib/python3.8/site-packages (from -r ../requirements.txt (line 7)) (0.11.2)\n",
      "Requirement already satisfied: statsmodels in /home/gitpod/.pyenv/versions/3.8.13/lib/python3.8/site-packages (from -r ../requirements.txt (line 8)) (0.13.2)\n",
      "Collecting imblearn\n",
      "  Downloading imblearn-0.0-py2.py3-none-any.whl (1.9 kB)\n",
      "Requirement already satisfied: pytz>=2020.1 in /home/gitpod/.pyenv/versions/3.8.13/lib/python3.8/site-packages (from pandas==1.4.2->-r ../requirements.txt (line 1)) (2022.2.1)\n",
      "Requirement already satisfied: python-dateutil>=2.8.1 in /home/gitpod/.pyenv/versions/3.8.13/lib/python3.8/site-packages (from pandas==1.4.2->-r ../requirements.txt (line 1)) (2.8.2)\n",
      "Requirement already satisfied: charset-normalizer~=2.0.0 in /home/gitpod/.pyenv/versions/3.8.13/lib/python3.8/site-packages (from requests==2.27.1->-r ../requirements.txt (line 3)) (2.0.12)\n",
      "Requirement already satisfied: idna<4,>=2.5 in /home/gitpod/.pyenv/versions/3.8.13/lib/python3.8/site-packages (from requests==2.27.1->-r ../requirements.txt (line 3)) (3.3)\n",
      "Requirement already satisfied: certifi>=2017.4.17 in /home/gitpod/.pyenv/versions/3.8.13/lib/python3.8/site-packages (from requests==2.27.1->-r ../requirements.txt (line 3)) (2022.6.15)\n",
      "Requirement already satisfied: urllib3<1.27,>=1.21.1 in /home/gitpod/.pyenv/versions/3.8.13/lib/python3.8/site-packages (from requests==2.27.1->-r ../requirements.txt (line 3)) (1.26.11)\n",
      "Requirement already satisfied: cycler>=0.10 in /home/gitpod/.pyenv/versions/3.8.13/lib/python3.8/site-packages (from matplotlib>=3.2.2->-r ../requirements.txt (line 5)) (0.11.0)\n",
      "Requirement already satisfied: kiwisolver>=1.0.1 in /home/gitpod/.pyenv/versions/3.8.13/lib/python3.8/site-packages (from matplotlib>=3.2.2->-r ../requirements.txt (line 5)) (1.4.4)\n",
      "Requirement already satisfied: fonttools>=4.22.0 in /home/gitpod/.pyenv/versions/3.8.13/lib/python3.8/site-packages (from matplotlib>=3.2.2->-r ../requirements.txt (line 5)) (4.36.0)\n",
      "Requirement already satisfied: pillow>=6.2.0 in /home/gitpod/.pyenv/versions/3.8.13/lib/python3.8/site-packages (from matplotlib>=3.2.2->-r ../requirements.txt (line 5)) (9.2.0)\n",
      "Requirement already satisfied: pyparsing>=2.2.1 in /home/gitpod/.pyenv/versions/3.8.13/lib/python3.8/site-packages (from matplotlib>=3.2.2->-r ../requirements.txt (line 5)) (3.0.9)\n",
      "Requirement already satisfied: packaging>=20.0 in /home/gitpod/.pyenv/versions/3.8.13/lib/python3.8/site-packages (from matplotlib>=3.2.2->-r ../requirements.txt (line 5)) (21.3)\n",
      "Requirement already satisfied: scikit-learn in /home/gitpod/.pyenv/versions/3.8.13/lib/python3.8/site-packages (from sklearn->-r ../requirements.txt (line 6)) (1.1.2)\n",
      "Requirement already satisfied: scipy>=1.0 in /home/gitpod/.pyenv/versions/3.8.13/lib/python3.8/site-packages (from seaborn->-r ../requirements.txt (line 7)) (1.9.0)\n",
      "Requirement already satisfied: patsy>=0.5.2 in /home/gitpod/.pyenv/versions/3.8.13/lib/python3.8/site-packages (from statsmodels->-r ../requirements.txt (line 8)) (0.5.2)\n",
      "Collecting imbalanced-learn\n",
      "  Downloading imbalanced_learn-0.9.1-py3-none-any.whl (199 kB)\n",
      "\u001b[2K     \u001b[90m━━━━━━━━━━━━━━━━━━━━━━━━━━━━━━━━━━━━━━━\u001b[0m \u001b[32m199.3/199.3 kB\u001b[0m \u001b[31m7.8 MB/s\u001b[0m eta \u001b[36m0:00:00\u001b[0m\n",
      "\u001b[?25hRequirement already satisfied: six in /home/gitpod/.pyenv/versions/3.8.13/lib/python3.8/site-packages (from patsy>=0.5.2->statsmodels->-r ../requirements.txt (line 8)) (1.16.0)\n",
      "Requirement already satisfied: joblib>=1.0.0 in /home/gitpod/.pyenv/versions/3.8.13/lib/python3.8/site-packages (from imbalanced-learn->imblearn->-r ../requirements.txt (line 9)) (1.1.0)\n",
      "Requirement already satisfied: threadpoolctl>=2.0.0 in /home/gitpod/.pyenv/versions/3.8.13/lib/python3.8/site-packages (from imbalanced-learn->imblearn->-r ../requirements.txt (line 9)) (3.1.0)\n",
      "Installing collected packages: imbalanced-learn, imblearn\n",
      "Successfully installed imbalanced-learn-0.9.1 imblearn-0.0\n"
     ]
    }
   ],
   "source": [
    "!pip install --upgrade pip\n",
    "!pip install -r ../requirements.txt"
   ]
  },
  {
   "cell_type": "code",
   "execution_count": 2,
   "metadata": {},
   "outputs": [],
   "source": [
    "import pandas as pd\n",
    "import numpy as np\n",
    "import matplotlib.pyplot as plt\n",
    "import seaborn as sns\n",
    "from sklearn.impute import SimpleImputer"
   ]
  },
  {
   "cell_type": "code",
   "execution_count": 3,
   "metadata": {},
   "outputs": [],
   "source": [
    "# Fuente: https://www.kaggle.com/datasets/adityaramachandran27/nasa-near-earth-objects-information"
   ]
  },
  {
   "cell_type": "code",
   "execution_count": 4,
   "metadata": {},
   "outputs": [],
   "source": [
    "# !unzip ../data/nasa_neo.zip\n",
    "# !mv nasa_neo.csv ../data"
   ]
  },
  {
   "cell_type": "code",
   "execution_count": 5,
   "metadata": {},
   "outputs": [],
   "source": [
    "df_raw = pd.read_csv('../data/nasa_neo.csv')"
   ]
  },
  {
   "cell_type": "markdown",
   "metadata": {},
   "source": [
    "### Objetivos de estudio\n",
    "\n",
    "- Analizar el dataset, buscar correlaciones entre variables y transformar datos\n",
    "- Evaluar como solucionar la problematica de que el dataset es desbalanceado en la columna target de interes\n",
    "- Aplicar algoritmos de clasificacion para determinar si un NEO tiene peligro potencial de impacto"
   ]
  },
  {
   "cell_type": "markdown",
   "metadata": {},
   "source": [
    "### Diccionario de datos:\n",
    "\n",
    "- Unnamed: 0: Default index\n",
    "\n",
    "- id: A unique ID given by NASA\n",
    "\n",
    "- neo_reference_id: A unique ID given by NASA to all NEO, same as the ID\n",
    "\n",
    "- name: Official name given by NASA\n",
    "\n",
    "- name_limited: Normal name without the scientific notations\n",
    "\n",
    "- designation: The number used in the official name given by NASA\n",
    "\n",
    "- absolute_magnitude_h: Absolute magnitude (M) is a measure of the luminosity of a celestial object, on an inverse logarithmic astronomical\n",
    "\n",
    "- is_potentially_hazardous_asteroid: Boolean value which tells if the object poses a threat to earth or not\n",
    "\n",
    "- is_sentry_object: Boolean value which tells if the object is present in the sentry tracking system or not (Sentry: https://en.wikipedia.org/wiki/Sentry_(monitoring_system))\n",
    "\n",
    "- kilometers_estimated_diameter_min: Minimum estimated diameter in kilometer\n",
    "\n",
    "- kilometers_estimated_diameter_max: Maximum estimated diameter in kilometer\n",
    "\n",
    "- orbit_id: A unique ID for the orbit of the object\n",
    "\n",
    "- orbit_class_type: Classification of the object orbit into classes\n",
    "\n",
    "    - (AMO is referring to Amor asteroids: near-Earth asteroids. The orbital perihelion of these objects is close to, but greater than, the orbital aphelion of Earth (a > 1.0 AU and 1.017 AU < q < 1.3 AU).\n",
    "\n",
    "    - APO is referring to Apollo asteroids: near-Earth asteroid orbits which cross the Earth's orbit (a > 1.0 AU and q < 1.017 AU).)\n",
    "\n",
    "    - (Abajo hay mas info sobre el tema, incluyendo las orbitas de tipo ATE e IEO)\n",
    "\n",
    "- perihelion_distance: Has the perihelion distance (the point nearest to the Earth in the path of an orbiting celestial body)\n",
    "\n",
    "- aphelion_distance: Has the aphelion distance (the point in the orbit of a planet, asteroid, or object at which it is furthest from the Earth)\n",
    "\n",
    "- first_observation_date: Date when the object was first observed\n",
    "\n",
    "- last_observation_date: Date when the object was last observed\n",
    "\n",
    "- orbit_class_description: The description of the orbit\n",
    "\n",
    "(Diccionario extrído de la fuente)"
   ]
  },
  {
   "cell_type": "markdown",
   "metadata": {},
   "source": [
    "Asteroids are dynamically classified as \"Near-Earth\" if their perihelion distance is less than 1.3 AU. They are further divided into groups based on their semi-major axis (a), perihelion distance (q), and aphelion distance (Q).\n",
    "\n",
    "- Apollos (APO) cross Earth's orbit and have a semi-major axis of more than 1 AU\n",
    "- Amors (AMO) have orbits strictly outside Earth's orbit\n",
    "- Atens (ATE) cross Earth's orbit and have a semi-major axis of less than 1 AU\n",
    "- Atiras (IEO) have orbits strictly inside Earth's orbit\n",
    "\n",
    "(Fuente: https://www.comet-toolbox.com/neos.html)"
   ]
  },
  {
   "cell_type": "code",
   "execution_count": 6,
   "metadata": {},
   "outputs": [
    {
     "name": "stdout",
     "output_type": "stream",
     "text": [
      "<class 'pandas.core.frame.DataFrame'>\n",
      "RangeIndex: 24000 entries, 0 to 23999\n",
      "Data columns (total 18 columns):\n",
      " #   Column                             Non-Null Count  Dtype  \n",
      "---  ------                             --------------  -----  \n",
      " 0   Unnamed: 0                         24000 non-null  int64  \n",
      " 1   id                                 24000 non-null  int64  \n",
      " 2   neo_reference_id                   24000 non-null  int64  \n",
      " 3   name                               24000 non-null  object \n",
      " 4   name_limited                       144 non-null    object \n",
      " 5   designation                        24000 non-null  object \n",
      " 6   absolute_magnitude_h               23992 non-null  float64\n",
      " 7   is_potentially_hazardous_asteroid  24000 non-null  bool   \n",
      " 8   is_sentry_object                   24000 non-null  bool   \n",
      " 9   kilometers_estimated_diameter_min  23992 non-null  float64\n",
      " 10  kilometers_estimated_diameter_max  23992 non-null  float64\n",
      " 11  orbit_id                           24000 non-null  object \n",
      " 12  orbit_class_type                   24000 non-null  object \n",
      " 13  perihelion_distance                24000 non-null  float64\n",
      " 14  aphelion_distance                  24000 non-null  float64\n",
      " 15  first_observation_date             24000 non-null  object \n",
      " 16  last_observation_date              24000 non-null  object \n",
      " 17  orbit_class_description            24000 non-null  object \n",
      "dtypes: bool(2), float64(5), int64(3), object(8)\n",
      "memory usage: 3.0+ MB\n"
     ]
    }
   ],
   "source": [
    "# info del dataset\n",
    "\n",
    "df_raw.info()"
   ]
  },
  {
   "cell_type": "markdown",
   "metadata": {},
   "source": [
    "Observar que hay datos faltantes en columnas como 'absolute_magnitude_h ' y 'name_limited'. En el segundo caso es porque NASA no le asigna nombres propios a todos los cuerpos"
   ]
  },
  {
   "cell_type": "code",
   "execution_count": 7,
   "metadata": {},
   "outputs": [],
   "source": [
    "# Drop de columna Unnamed (index de sobra)\n",
    "\n",
    "df_raw.drop(columns = ['Unnamed: 0'], inplace = True)"
   ]
  },
  {
   "cell_type": "code",
   "execution_count": 8,
   "metadata": {},
   "outputs": [
    {
     "data": {
      "text/html": [
       "<div>\n",
       "<style scoped>\n",
       "    .dataframe tbody tr th:only-of-type {\n",
       "        vertical-align: middle;\n",
       "    }\n",
       "\n",
       "    .dataframe tbody tr th {\n",
       "        vertical-align: top;\n",
       "    }\n",
       "\n",
       "    .dataframe thead th {\n",
       "        text-align: right;\n",
       "    }\n",
       "</style>\n",
       "<table border=\"1\" class=\"dataframe\">\n",
       "  <thead>\n",
       "    <tr style=\"text-align: right;\">\n",
       "      <th></th>\n",
       "      <th>id</th>\n",
       "      <th>neo_reference_id</th>\n",
       "      <th>absolute_magnitude_h</th>\n",
       "      <th>kilometers_estimated_diameter_min</th>\n",
       "      <th>kilometers_estimated_diameter_max</th>\n",
       "      <th>perihelion_distance</th>\n",
       "      <th>aphelion_distance</th>\n",
       "    </tr>\n",
       "  </thead>\n",
       "  <tbody>\n",
       "    <tr>\n",
       "      <th>count</th>\n",
       "      <td>2.400000e+04</td>\n",
       "      <td>2.400000e+04</td>\n",
       "      <td>23992.000000</td>\n",
       "      <td>23992.000000</td>\n",
       "      <td>23992.000000</td>\n",
       "      <td>24000.000000</td>\n",
       "      <td>24000.000000</td>\n",
       "    </tr>\n",
       "    <tr>\n",
       "      <th>mean</th>\n",
       "      <td>7.275111e+06</td>\n",
       "      <td>7.275111e+06</td>\n",
       "      <td>22.942274</td>\n",
       "      <td>0.167777</td>\n",
       "      <td>0.375160</td>\n",
       "      <td>0.915225</td>\n",
       "      <td>2.653104</td>\n",
       "    </tr>\n",
       "    <tr>\n",
       "      <th>std</th>\n",
       "      <td>1.333987e+07</td>\n",
       "      <td>1.333987e+07</td>\n",
       "      <td>2.952871</td>\n",
       "      <td>0.293000</td>\n",
       "      <td>0.655169</td>\n",
       "      <td>0.232201</td>\n",
       "      <td>4.468233</td>\n",
       "    </tr>\n",
       "    <tr>\n",
       "      <th>min</th>\n",
       "      <td>2.001981e+06</td>\n",
       "      <td>2.001981e+06</td>\n",
       "      <td>12.580000</td>\n",
       "      <td>0.000609</td>\n",
       "      <td>0.001362</td>\n",
       "      <td>0.070431</td>\n",
       "      <td>0.653754</td>\n",
       "    </tr>\n",
       "    <tr>\n",
       "      <th>25%</th>\n",
       "      <td>3.409962e+06</td>\n",
       "      <td>3.409962e+06</td>\n",
       "      <td>20.650000</td>\n",
       "      <td>0.024241</td>\n",
       "      <td>0.054205</td>\n",
       "      <td>0.785150</td>\n",
       "      <td>1.706281</td>\n",
       "    </tr>\n",
       "    <tr>\n",
       "      <th>50%</th>\n",
       "      <td>3.703790e+06</td>\n",
       "      <td>3.703790e+06</td>\n",
       "      <td>23.200000</td>\n",
       "      <td>0.060891</td>\n",
       "      <td>0.136157</td>\n",
       "      <td>0.965325</td>\n",
       "      <td>2.480109</td>\n",
       "    </tr>\n",
       "    <tr>\n",
       "      <th>75%</th>\n",
       "      <td>3.803897e+06</td>\n",
       "      <td>3.803897e+06</td>\n",
       "      <td>25.200000</td>\n",
       "      <td>0.197040</td>\n",
       "      <td>0.440595</td>\n",
       "      <td>1.068984</td>\n",
       "      <td>3.397965</td>\n",
       "    </tr>\n",
       "    <tr>\n",
       "      <th>max</th>\n",
       "      <td>5.408749e+07</td>\n",
       "      <td>5.408749e+07</td>\n",
       "      <td>33.200000</td>\n",
       "      <td>8.101305</td>\n",
       "      <td>18.115068</td>\n",
       "      <td>1.299988</td>\n",
       "      <td>631.895456</td>\n",
       "    </tr>\n",
       "  </tbody>\n",
       "</table>\n",
       "</div>"
      ],
      "text/plain": [
       "                 id  neo_reference_id  absolute_magnitude_h  \\\n",
       "count  2.400000e+04      2.400000e+04          23992.000000   \n",
       "mean   7.275111e+06      7.275111e+06             22.942274   \n",
       "std    1.333987e+07      1.333987e+07              2.952871   \n",
       "min    2.001981e+06      2.001981e+06             12.580000   \n",
       "25%    3.409962e+06      3.409962e+06             20.650000   \n",
       "50%    3.703790e+06      3.703790e+06             23.200000   \n",
       "75%    3.803897e+06      3.803897e+06             25.200000   \n",
       "max    5.408749e+07      5.408749e+07             33.200000   \n",
       "\n",
       "       kilometers_estimated_diameter_min  kilometers_estimated_diameter_max  \\\n",
       "count                       23992.000000                       23992.000000   \n",
       "mean                            0.167777                           0.375160   \n",
       "std                             0.293000                           0.655169   \n",
       "min                             0.000609                           0.001362   \n",
       "25%                             0.024241                           0.054205   \n",
       "50%                             0.060891                           0.136157   \n",
       "75%                             0.197040                           0.440595   \n",
       "max                             8.101305                          18.115068   \n",
       "\n",
       "       perihelion_distance  aphelion_distance  \n",
       "count         24000.000000       24000.000000  \n",
       "mean              0.915225           2.653104  \n",
       "std               0.232201           4.468233  \n",
       "min               0.070431           0.653754  \n",
       "25%               0.785150           1.706281  \n",
       "50%               0.965325           2.480109  \n",
       "75%               1.068984           3.397965  \n",
       "max               1.299988         631.895456  "
      ]
     },
     "execution_count": 8,
     "metadata": {},
     "output_type": "execute_result"
    }
   ],
   "source": [
    "df_raw.describe()"
   ]
  },
  {
   "cell_type": "code",
   "execution_count": 9,
   "metadata": {},
   "outputs": [
    {
     "data": {
      "text/html": [
       "<div>\n",
       "<style scoped>\n",
       "    .dataframe tbody tr th:only-of-type {\n",
       "        vertical-align: middle;\n",
       "    }\n",
       "\n",
       "    .dataframe tbody tr th {\n",
       "        vertical-align: top;\n",
       "    }\n",
       "\n",
       "    .dataframe thead th {\n",
       "        text-align: right;\n",
       "    }\n",
       "</style>\n",
       "<table border=\"1\" class=\"dataframe\">\n",
       "  <thead>\n",
       "    <tr style=\"text-align: right;\">\n",
       "      <th></th>\n",
       "      <th>name</th>\n",
       "      <th>name_limited</th>\n",
       "      <th>designation</th>\n",
       "      <th>is_potentially_hazardous_asteroid</th>\n",
       "      <th>is_sentry_object</th>\n",
       "      <th>orbit_id</th>\n",
       "      <th>orbit_class_type</th>\n",
       "      <th>first_observation_date</th>\n",
       "      <th>last_observation_date</th>\n",
       "      <th>orbit_class_description</th>\n",
       "    </tr>\n",
       "  </thead>\n",
       "  <tbody>\n",
       "    <tr>\n",
       "      <th>count</th>\n",
       "      <td>24000</td>\n",
       "      <td>144</td>\n",
       "      <td>24000</td>\n",
       "      <td>24000</td>\n",
       "      <td>24000</td>\n",
       "      <td>24000</td>\n",
       "      <td>24000</td>\n",
       "      <td>24000</td>\n",
       "      <td>24000</td>\n",
       "      <td>24000</td>\n",
       "    </tr>\n",
       "    <tr>\n",
       "      <th>unique</th>\n",
       "      <td>24000</td>\n",
       "      <td>144</td>\n",
       "      <td>24000</td>\n",
       "      <td>2</td>\n",
       "      <td>2</td>\n",
       "      <td>352</td>\n",
       "      <td>4</td>\n",
       "      <td>5964</td>\n",
       "      <td>5016</td>\n",
       "      <td>4</td>\n",
       "    </tr>\n",
       "    <tr>\n",
       "      <th>top</th>\n",
       "      <td>1981 Midas (1973 EA)</td>\n",
       "      <td>Midas</td>\n",
       "      <td>1981</td>\n",
       "      <td>False</td>\n",
       "      <td>False</td>\n",
       "      <td>7</td>\n",
       "      <td>APO</td>\n",
       "      <td>2014-04-23</td>\n",
       "      <td>2022-04-15</td>\n",
       "      <td>Near-Earth asteroid orbits which cross the Ear...</td>\n",
       "    </tr>\n",
       "    <tr>\n",
       "      <th>freq</th>\n",
       "      <td>1</td>\n",
       "      <td>1</td>\n",
       "      <td>1</td>\n",
       "      <td>21906</td>\n",
       "      <td>22934</td>\n",
       "      <td>1485</td>\n",
       "      <td>13245</td>\n",
       "      <td>67</td>\n",
       "      <td>40</td>\n",
       "      <td>13245</td>\n",
       "    </tr>\n",
       "  </tbody>\n",
       "</table>\n",
       "</div>"
      ],
      "text/plain": [
       "                        name name_limited designation  \\\n",
       "count                  24000          144       24000   \n",
       "unique                 24000          144       24000   \n",
       "top     1981 Midas (1973 EA)        Midas        1981   \n",
       "freq                       1            1           1   \n",
       "\n",
       "       is_potentially_hazardous_asteroid is_sentry_object orbit_id  \\\n",
       "count                              24000            24000    24000   \n",
       "unique                                 2                2      352   \n",
       "top                                False            False        7   \n",
       "freq                               21906            22934     1485   \n",
       "\n",
       "       orbit_class_type first_observation_date last_observation_date  \\\n",
       "count             24000                  24000                 24000   \n",
       "unique                4                   5964                  5016   \n",
       "top                 APO             2014-04-23            2022-04-15   \n",
       "freq              13245                     67                    40   \n",
       "\n",
       "                                  orbit_class_description  \n",
       "count                                               24000  \n",
       "unique                                                  4  \n",
       "top     Near-Earth asteroid orbits which cross the Ear...  \n",
       "freq                                                13245  "
      ]
     },
     "execution_count": 9,
     "metadata": {},
     "output_type": "execute_result"
    }
   ],
   "source": [
    "df_raw.describe(include = ['object','bool'])"
   ]
  },
  {
   "cell_type": "markdown",
   "metadata": {},
   "source": [
    "Podemos ver que la asignacion de nombres por parte de la NASA es unica, ya que en las columnas 'name', 'name_limited' y 'designation' tenemos todos valores unicos. Vamos a chequear tambien en la columna 'id' si se cumple"
   ]
  },
  {
   "cell_type": "code",
   "execution_count": 10,
   "metadata": {},
   "outputs": [
    {
     "data": {
      "text/plain": [
       "False"
      ]
     },
     "execution_count": 10,
     "metadata": {},
     "output_type": "execute_result"
    }
   ],
   "source": [
    "df_raw['id'].duplicated().any()"
   ]
  },
  {
   "cell_type": "code",
   "execution_count": 11,
   "metadata": {},
   "outputs": [
    {
     "data": {
      "text/html": [
       "<div>\n",
       "<style scoped>\n",
       "    .dataframe tbody tr th:only-of-type {\n",
       "        vertical-align: middle;\n",
       "    }\n",
       "\n",
       "    .dataframe tbody tr th {\n",
       "        vertical-align: top;\n",
       "    }\n",
       "\n",
       "    .dataframe thead th {\n",
       "        text-align: right;\n",
       "    }\n",
       "</style>\n",
       "<table border=\"1\" class=\"dataframe\">\n",
       "  <thead>\n",
       "    <tr style=\"text-align: right;\">\n",
       "      <th></th>\n",
       "      <th>id</th>\n",
       "      <th>neo_reference_id</th>\n",
       "      <th>name</th>\n",
       "      <th>name_limited</th>\n",
       "      <th>designation</th>\n",
       "      <th>absolute_magnitude_h</th>\n",
       "      <th>is_potentially_hazardous_asteroid</th>\n",
       "      <th>is_sentry_object</th>\n",
       "      <th>kilometers_estimated_diameter_min</th>\n",
       "      <th>kilometers_estimated_diameter_max</th>\n",
       "      <th>orbit_id</th>\n",
       "      <th>orbit_class_type</th>\n",
       "      <th>perihelion_distance</th>\n",
       "      <th>aphelion_distance</th>\n",
       "      <th>first_observation_date</th>\n",
       "      <th>last_observation_date</th>\n",
       "      <th>orbit_class_description</th>\n",
       "    </tr>\n",
       "  </thead>\n",
       "  <tbody>\n",
       "    <tr>\n",
       "      <th>6275</th>\n",
       "      <td>3435548</td>\n",
       "      <td>3435548</td>\n",
       "      <td>(2008 VH)</td>\n",
       "      <td>NaN</td>\n",
       "      <td>2008 VH</td>\n",
       "      <td>20.00</td>\n",
       "      <td>False</td>\n",
       "      <td>False</td>\n",
       "      <td>0.265800</td>\n",
       "      <td>0.594347</td>\n",
       "      <td>56</td>\n",
       "      <td>AMO</td>\n",
       "      <td>1.135858</td>\n",
       "      <td>3.144335</td>\n",
       "      <td>2008-11-02</td>\n",
       "      <td>2014-05-20</td>\n",
       "      <td>Near-Earth asteroid orbits similar to that of ...</td>\n",
       "    </tr>\n",
       "    <tr>\n",
       "      <th>20935</th>\n",
       "      <td>3878560</td>\n",
       "      <td>3878560</td>\n",
       "      <td>(2019 SC11)</td>\n",
       "      <td>NaN</td>\n",
       "      <td>2019 SC11</td>\n",
       "      <td>23.20</td>\n",
       "      <td>False</td>\n",
       "      <td>False</td>\n",
       "      <td>0.060891</td>\n",
       "      <td>0.136157</td>\n",
       "      <td>4</td>\n",
       "      <td>APO</td>\n",
       "      <td>0.531224</td>\n",
       "      <td>4.348123</td>\n",
       "      <td>2019-09-30</td>\n",
       "      <td>2019-10-05</td>\n",
       "      <td>Near-Earth asteroid orbits which cross the Ear...</td>\n",
       "    </tr>\n",
       "    <tr>\n",
       "      <th>1409</th>\n",
       "      <td>2357622</td>\n",
       "      <td>2357622</td>\n",
       "      <td>357622 (2005 EY95)</td>\n",
       "      <td>NaN</td>\n",
       "      <td>357622</td>\n",
       "      <td>20.34</td>\n",
       "      <td>True</td>\n",
       "      <td>False</td>\n",
       "      <td>0.227277</td>\n",
       "      <td>0.508206</td>\n",
       "      <td>63</td>\n",
       "      <td>APO</td>\n",
       "      <td>0.500349</td>\n",
       "      <td>1.666886</td>\n",
       "      <td>2002-06-04</td>\n",
       "      <td>2022-04-08</td>\n",
       "      <td>Near-Earth asteroid orbits which cross the Ear...</td>\n",
       "    </tr>\n",
       "    <tr>\n",
       "      <th>16685</th>\n",
       "      <td>3781977</td>\n",
       "      <td>3781977</td>\n",
       "      <td>(2017 SV19)</td>\n",
       "      <td>NaN</td>\n",
       "      <td>2017 SV19</td>\n",
       "      <td>25.00</td>\n",
       "      <td>False</td>\n",
       "      <td>False</td>\n",
       "      <td>0.026580</td>\n",
       "      <td>0.059435</td>\n",
       "      <td>8</td>\n",
       "      <td>AMO</td>\n",
       "      <td>1.019968</td>\n",
       "      <td>1.106447</td>\n",
       "      <td>2017-08-24</td>\n",
       "      <td>2017-10-21</td>\n",
       "      <td>Near-Earth asteroid orbits similar to that of ...</td>\n",
       "    </tr>\n",
       "    <tr>\n",
       "      <th>10230</th>\n",
       "      <td>3648540</td>\n",
       "      <td>3648540</td>\n",
       "      <td>(2013 SX19)</td>\n",
       "      <td>NaN</td>\n",
       "      <td>2013 SX19</td>\n",
       "      <td>23.10</td>\n",
       "      <td>False</td>\n",
       "      <td>False</td>\n",
       "      <td>0.063761</td>\n",
       "      <td>0.142574</td>\n",
       "      <td>15</td>\n",
       "      <td>AMO</td>\n",
       "      <td>1.045668</td>\n",
       "      <td>2.208071</td>\n",
       "      <td>2013-09-24</td>\n",
       "      <td>2013-10-12</td>\n",
       "      <td>Near-Earth asteroid orbits similar to that of ...</td>\n",
       "    </tr>\n",
       "  </tbody>\n",
       "</table>\n",
       "</div>"
      ],
      "text/plain": [
       "            id  neo_reference_id                name name_limited designation  \\\n",
       "6275   3435548           3435548           (2008 VH)          NaN     2008 VH   \n",
       "20935  3878560           3878560         (2019 SC11)          NaN   2019 SC11   \n",
       "1409   2357622           2357622  357622 (2005 EY95)          NaN      357622   \n",
       "16685  3781977           3781977         (2017 SV19)          NaN   2017 SV19   \n",
       "10230  3648540           3648540         (2013 SX19)          NaN   2013 SX19   \n",
       "\n",
       "       absolute_magnitude_h  is_potentially_hazardous_asteroid  \\\n",
       "6275                  20.00                              False   \n",
       "20935                 23.20                              False   \n",
       "1409                  20.34                               True   \n",
       "16685                 25.00                              False   \n",
       "10230                 23.10                              False   \n",
       "\n",
       "       is_sentry_object  kilometers_estimated_diameter_min  \\\n",
       "6275              False                           0.265800   \n",
       "20935             False                           0.060891   \n",
       "1409              False                           0.227277   \n",
       "16685             False                           0.026580   \n",
       "10230             False                           0.063761   \n",
       "\n",
       "       kilometers_estimated_diameter_max orbit_id orbit_class_type  \\\n",
       "6275                            0.594347       56              AMO   \n",
       "20935                           0.136157        4              APO   \n",
       "1409                            0.508206       63              APO   \n",
       "16685                           0.059435        8              AMO   \n",
       "10230                           0.142574       15              AMO   \n",
       "\n",
       "       perihelion_distance  aphelion_distance first_observation_date  \\\n",
       "6275              1.135858           3.144335             2008-11-02   \n",
       "20935             0.531224           4.348123             2019-09-30   \n",
       "1409              0.500349           1.666886             2002-06-04   \n",
       "16685             1.019968           1.106447             2017-08-24   \n",
       "10230             1.045668           2.208071             2013-09-24   \n",
       "\n",
       "      last_observation_date                            orbit_class_description  \n",
       "6275             2014-05-20  Near-Earth asteroid orbits similar to that of ...  \n",
       "20935            2019-10-05  Near-Earth asteroid orbits which cross the Ear...  \n",
       "1409             2022-04-08  Near-Earth asteroid orbits which cross the Ear...  \n",
       "16685            2017-10-21  Near-Earth asteroid orbits similar to that of ...  \n",
       "10230            2013-10-12  Near-Earth asteroid orbits similar to that of ...  "
      ]
     },
     "execution_count": 11,
     "metadata": {},
     "output_type": "execute_result"
    }
   ],
   "source": [
    "df_raw.sample(5)"
   ]
  },
  {
   "cell_type": "markdown",
   "metadata": {},
   "source": [
    "#### Observaciones\n",
    "\n",
    "- Las columnas 'id' y 'neo_reference_id' son identicas, asi que nos podemos quedar solo con una de ellas\n",
    "- La columna 'name_limited' es simplemente la extraccion del nombre propio del cuerpo (si es que lo tiene), dato que ya esta en la columna 'name', por lo que no nos presenta informacion relevante, mas alla de sacar la proporcion de cuerpos a los que la NASA le ha asignado un valor propio. \n",
    "- Algo similar sucede con la columna 'designation', la cual tambien es una parte del nombre oficial establecido, y el dato completo del nombre esta en la columna 'name'"
   ]
  },
  {
   "cell_type": "code",
   "execution_count": 12,
   "metadata": {},
   "outputs": [],
   "source": [
    "df_raw.drop(columns = ['neo_reference_id', 'name_limited', 'designation'], inplace = True)"
   ]
  },
  {
   "cell_type": "code",
   "execution_count": 13,
   "metadata": {},
   "outputs": [
    {
     "data": {
      "image/png": "[encoded data removed]",
      "text/plain": [
       "<Figure size 432x288 with 1 Axes>"
      ]
     },
     "metadata": {
      "needs_background": "light"
     },
     "output_type": "display_data"
    }
   ],
   "source": [
    "# is_potentially_hazardous_asteroid\n",
    "\n",
    "ax = sns.countplot(x = df_raw['is_potentially_hazardous_asteroid'])\n",
    "ax.bar_label(ax.containers[0])\n",
    "plt.title('Proporcion True/False en la columna is_potentially_hazardous_asteroid')\n",
    "plt.show()"
   ]
  },
  {
   "cell_type": "code",
   "execution_count": 14,
   "metadata": {},
   "outputs": [
    {
     "data": {
      "image/png": "[encoded data removed]",
      "text/plain": [
       "<Figure size 432x288 with 1 Axes>"
      ]
     },
     "metadata": {
      "needs_background": "light"
     },
     "output_type": "display_data"
    }
   ],
   "source": [
    "# is_sentry_object\n",
    "\n",
    "ax = sns.countplot(x = df_raw['is_sentry_object'])\n",
    "ax.bar_label(ax.containers[0])\n",
    "plt.title('Proporcion True/False en la columna is_sentry_object')\n",
    "plt.show()"
   ]
  },
  {
   "cell_type": "code",
   "execution_count": 15,
   "metadata": {},
   "outputs": [
    {
     "data": {
      "image/png": "[encoded data removed]",
      "text/plain": [
       "<Figure size 432x288 with 1 Axes>"
      ]
     },
     "metadata": {
      "needs_background": "light"
     },
     "output_type": "display_data"
    }
   ],
   "source": [
    "ax = sns.countplot(data = df_raw, x = 'is_sentry_object', hue = 'is_potentially_hazardous_asteroid')\n",
    "ax.bar_label(ax.containers[0])\n",
    "ax.bar_label(ax.containers[1])\n",
    "plt.title('Proporcion True/False en la columna is_sentry_object, separado is_potentially_hazardous_asteroid')\n",
    "plt.show()"
   ]
  },
  {
   "cell_type": "code",
   "execution_count": 16,
   "metadata": {},
   "outputs": [],
   "source": [
    "# Hay registros que son potencialmente peligrosos, pero que no se encuentran en el sistema de monitoreo Sentry"
   ]
  },
  {
   "cell_type": "code",
   "execution_count": 17,
   "metadata": {},
   "outputs": [
    {
     "data": {
      "image/png": "[encoded data removed]",
      "text/plain": [
       "<Figure size 432x288 with 1 Axes>"
      ]
     },
     "metadata": {
      "needs_background": "light"
     },
     "output_type": "display_data"
    }
   ],
   "source": [
    "# Distribucion de categorias en columna 'orbit_class_type'\n",
    "\n",
    "ax = sns.countplot(x = df_raw['orbit_class_type'])\n",
    "ax.bar_label(ax.containers[0])\n",
    "plt.title('Proporciones en la columna orbit_class_type')\n",
    "plt.show()"
   ]
  },
  {
   "cell_type": "code",
   "execution_count": 18,
   "metadata": {},
   "outputs": [
    {
     "data": {
      "image/png": "[encoded data removed]",
      "text/plain": [
       "<Figure size 432x288 with 1 Axes>"
      ]
     },
     "metadata": {
      "needs_background": "light"
     },
     "output_type": "display_data"
    }
   ],
   "source": [
    "ax = sns.countplot(data = df_raw, x = 'orbit_class_type', hue = 'is_potentially_hazardous_asteroid')\n",
    "ax.bar_label(ax.containers[0])\n",
    "ax.bar_label(ax.containers[1])\n",
    "plt.title('Proporciones en la columna orbit_class_type, separado por is_potentially_hazardous_asteroid')\n",
    "plt.show()"
   ]
  },
  {
   "cell_type": "code",
   "execution_count": 19,
   "metadata": {},
   "outputs": [
    {
     "data": {
      "image/png": "[encoded data removed]",
      "text/plain": [
       "<Figure size 432x288 with 1 Axes>"
      ]
     },
     "metadata": {
      "needs_background": "light"
     },
     "output_type": "display_data"
    }
   ],
   "source": [
    "# Distribucion de valores de la columna 'absolute_magnitude_h'\n",
    "\n",
    "df_raw['absolute_magnitude_h'].hist(bins = 20)\n",
    "plt.show()"
   ]
  },
  {
   "cell_type": "code",
   "execution_count": 20,
   "metadata": {},
   "outputs": [
    {
     "data": {
      "image/png": "[encoded data removed]",
      "text/plain": [
       "<Figure size 432x288 with 1 Axes>"
      ]
     },
     "metadata": {
      "needs_background": "light"
     },
     "output_type": "display_data"
    }
   ],
   "source": [
    "# Distribucion de valorea de la columna 'kilometers_estimated_diameter_min'\n",
    "\n",
    "df_raw['kilometers_estimated_diameter_min'].hist(bins=50)\n",
    "plt.show()\n",
    "\n",
    "# El mayor valor registrado es 8.1013048824"
   ]
  },
  {
   "cell_type": "code",
   "execution_count": 21,
   "metadata": {},
   "outputs": [
    {
     "data": {
      "image/png": "[encoded data removed]",
      "text/plain": [
       "<Figure size 432x288 with 1 Axes>"
      ]
     },
     "metadata": {
      "needs_background": "light"
     },
     "output_type": "display_data"
    }
   ],
   "source": [
    "# Se acotan superiormente los valores de la columna para graficar y ver mejor la distribucion, ya que esta presenta distribucion\n",
    "# con marcado sesgo positivo\n",
    "\n",
    "df_raw[df_raw['kilometers_estimated_diameter_min'] < 2]['kilometers_estimated_diameter_min'].hist(bins=20)\n",
    "plt.show()"
   ]
  },
  {
   "cell_type": "code",
   "execution_count": 22,
   "metadata": {},
   "outputs": [
    {
     "data": {
      "image/png": "[encoded data removed]",
      "text/plain": [
       "<Figure size 432x288 with 1 Axes>"
      ]
     },
     "metadata": {
      "needs_background": "light"
     },
     "output_type": "display_data"
    }
   ],
   "source": [
    "# distribucion de valores de la columna 'kilometers_estimated_diameter_max'\n",
    "\n",
    "df_raw['kilometers_estimated_diameter_max'].hist(bins=50)\n",
    "plt.show()\n",
    "\n",
    "# El mayor valor registrado es 18.1150684236"
   ]
  },
  {
   "cell_type": "code",
   "execution_count": 23,
   "metadata": {},
   "outputs": [
    {
     "data": {
      "image/png": "[encoded data removed]",
      "text/plain": [
       "<Figure size 432x288 with 1 Axes>"
      ]
     },
     "metadata": {
      "needs_background": "light"
     },
     "output_type": "display_data"
    }
   ],
   "source": [
    "# Igual que antes, se acotan los valores para poder apreciar mejor la grafica, debido al marcado sesgo positivo de la\n",
    "# distribucion\n",
    "\n",
    "df_raw[df_raw['kilometers_estimated_diameter_max'] < 2]['kilometers_estimated_diameter_max'].hist(bins=20)\n",
    "plt.show()"
   ]
  },
  {
   "cell_type": "code",
   "execution_count": 24,
   "metadata": {},
   "outputs": [
    {
     "data": {
      "image/png": "[encoded data removed]",
      "text/plain": [
       "<Figure size 432x288 with 1 Axes>"
      ]
     },
     "metadata": {
      "needs_background": "light"
     },
     "output_type": "display_data"
    }
   ],
   "source": [
    "# Distribucion de valores de la columna 'perihelion_distance'\n",
    "\n",
    "df_raw['perihelion_distance'].hist(bins=20)\n",
    "plt.show()\n",
    "\n",
    "# La distribucion de esta columna en cambio presenta sesgo negativo"
   ]
  },
  {
   "cell_type": "code",
   "execution_count": 25,
   "metadata": {},
   "outputs": [
    {
     "data": {
      "image/png": "[encoded data removed]",
      "text/plain": [
       "<Figure size 432x288 with 1 Axes>"
      ]
     },
     "metadata": {
      "needs_background": "light"
     },
     "output_type": "display_data"
    }
   ],
   "source": [
    "# Distribucion de valores de la columna 'aphelion_distance'\n",
    "\n",
    "df_raw['aphelion_distance'].hist(bins=20)\n",
    "plt.show()\n",
    "\n",
    "# El vmayor valor registrado es 631.8954563363584"
   ]
  },
  {
   "cell_type": "code",
   "execution_count": 26,
   "metadata": {},
   "outputs": [
    {
     "data": {
      "image/png": "[encoded data removed]",
      "text/plain": [
       "<Figure size 432x288 with 1 Axes>"
      ]
     },
     "metadata": {
      "needs_background": "light"
     },
     "output_type": "display_data"
    }
   ],
   "source": [
    "# Se acotan los valores de la columna para poder apreciar mejor la distribucion\n",
    "\n",
    "df_raw[df_raw['aphelion_distance'] < 10]['aphelion_distance'].hist(bins=20)\n",
    "plt.show()\n",
    "\n",
    "# Efectivamente esta distribucion tambien presenta sesgo positivo"
   ]
  },
  {
   "cell_type": "code",
   "execution_count": 27,
   "metadata": {},
   "outputs": [
    {
     "name": "stdout",
     "output_type": "stream",
     "text": [
      "<class 'pandas.core.frame.DataFrame'>\n",
      "RangeIndex: 24000 entries, 0 to 23999\n",
      "Data columns (total 14 columns):\n",
      " #   Column                             Non-Null Count  Dtype  \n",
      "---  ------                             --------------  -----  \n",
      " 0   id                                 24000 non-null  int64  \n",
      " 1   name                               24000 non-null  object \n",
      " 2   absolute_magnitude_h               23992 non-null  float64\n",
      " 3   is_potentially_hazardous_asteroid  24000 non-null  bool   \n",
      " 4   is_sentry_object                   24000 non-null  bool   \n",
      " 5   kilometers_estimated_diameter_min  23992 non-null  float64\n",
      " 6   kilometers_estimated_diameter_max  23992 non-null  float64\n",
      " 7   orbit_id                           24000 non-null  object \n",
      " 8   orbit_class_type                   24000 non-null  object \n",
      " 9   perihelion_distance                24000 non-null  float64\n",
      " 10  aphelion_distance                  24000 non-null  float64\n",
      " 11  first_observation_date             24000 non-null  object \n",
      " 12  last_observation_date              24000 non-null  object \n",
      " 13  orbit_class_description            24000 non-null  object \n",
      "dtypes: bool(2), float64(5), int64(1), object(6)\n",
      "memory usage: 2.2+ MB\n"
     ]
    }
   ],
   "source": [
    "df_raw.info()"
   ]
  },
  {
   "cell_type": "markdown",
   "metadata": {},
   "source": [
    "#### Transformacion de datos\n",
    "\n",
    "- Vamos a convertir a datatime dtype a las columnas 'first_observation_date' y 'last_observation_date'\n",
    "- Las columnas 'is_potentially_hazardous_asteroid' y 'is_sentry_object' se encodean en 0 y 1\n",
    "- La columna 'orbit_class_type' puede encodearse en 0, 1, 2 y 3 por tener 4 categorias diferentes\n",
    "- La columnas 'orbit_id' podrian pasarse a tipo numerico, verificarlo\n",
    "- Hay columnas que tienen datos faltantes, analizar situacion"
   ]
  },
  {
   "cell_type": "code",
   "execution_count": 28,
   "metadata": {},
   "outputs": [],
   "source": [
    "# df_raw['first_observation_date'] = pd.to_datetime(df_raw['first_observation_date']) - Error: Unknown string format: 2008-??-??\n",
    "\n",
    "# Hay un valor en la columna 'first_observation_date' que vale '2008-??-??', por lo cual\n",
    "# no es posible convertirlo a datetime tipo de dato. Entonces procedemos a borrar ese registro"
   ]
  },
  {
   "cell_type": "code",
   "execution_count": 29,
   "metadata": {},
   "outputs": [
    {
     "data": {
      "text/html": [
       "<div>\n",
       "<style scoped>\n",
       "    .dataframe tbody tr th:only-of-type {\n",
       "        vertical-align: middle;\n",
       "    }\n",
       "\n",
       "    .dataframe tbody tr th {\n",
       "        vertical-align: top;\n",
       "    }\n",
       "\n",
       "    .dataframe thead th {\n",
       "        text-align: right;\n",
       "    }\n",
       "</style>\n",
       "<table border=\"1\" class=\"dataframe\">\n",
       "  <thead>\n",
       "    <tr style=\"text-align: right;\">\n",
       "      <th></th>\n",
       "      <th>id</th>\n",
       "      <th>name</th>\n",
       "      <th>absolute_magnitude_h</th>\n",
       "      <th>is_potentially_hazardous_asteroid</th>\n",
       "      <th>is_sentry_object</th>\n",
       "      <th>kilometers_estimated_diameter_min</th>\n",
       "      <th>kilometers_estimated_diameter_max</th>\n",
       "      <th>orbit_id</th>\n",
       "      <th>orbit_class_type</th>\n",
       "      <th>perihelion_distance</th>\n",
       "      <th>aphelion_distance</th>\n",
       "      <th>first_observation_date</th>\n",
       "      <th>last_observation_date</th>\n",
       "      <th>orbit_class_description</th>\n",
       "    </tr>\n",
       "  </thead>\n",
       "  <tbody>\n",
       "    <tr>\n",
       "      <th>20702</th>\n",
       "      <td>3843794</td>\n",
       "      <td>(2019 RN1)</td>\n",
       "      <td>20.6</td>\n",
       "      <td>False</td>\n",
       "      <td>False</td>\n",
       "      <td>0.20163</td>\n",
       "      <td>0.450858</td>\n",
       "      <td>MPO508629</td>\n",
       "      <td>AMO</td>\n",
       "      <td>1.077174</td>\n",
       "      <td>1.865083</td>\n",
       "      <td>2008-??-??</td>\n",
       "      <td>2019-09-06</td>\n",
       "      <td>Near-Earth asteroid orbits similar to that of ...</td>\n",
       "    </tr>\n",
       "  </tbody>\n",
       "</table>\n",
       "</div>"
      ],
      "text/plain": [
       "            id        name  absolute_magnitude_h  \\\n",
       "20702  3843794  (2019 RN1)                  20.6   \n",
       "\n",
       "       is_potentially_hazardous_asteroid  is_sentry_object  \\\n",
       "20702                              False             False   \n",
       "\n",
       "       kilometers_estimated_diameter_min  kilometers_estimated_diameter_max  \\\n",
       "20702                            0.20163                           0.450858   \n",
       "\n",
       "        orbit_id orbit_class_type  perihelion_distance  aphelion_distance  \\\n",
       "20702  MPO508629              AMO             1.077174           1.865083   \n",
       "\n",
       "      first_observation_date last_observation_date  \\\n",
       "20702             2008-??-??            2019-09-06   \n",
       "\n",
       "                                 orbit_class_description  \n",
       "20702  Near-Earth asteroid orbits similar to that of ...  "
      ]
     },
     "execution_count": 29,
     "metadata": {},
     "output_type": "execute_result"
    }
   ],
   "source": [
    "df_raw[df_raw['first_observation_date'] == '2008-??-??']\n",
    "\n",
    "# El registro a eliminar corresponde a la categoria mayoritaria de la columna 'is_potentially_hazardous_asteroid' "
   ]
  },
  {
   "cell_type": "code",
   "execution_count": 30,
   "metadata": {},
   "outputs": [],
   "source": [
    "df_raw = df_raw.drop(df_raw[df_raw['first_observation_date'] == '2008-??-??'].index[0])"
   ]
  },
  {
   "cell_type": "code",
   "execution_count": 31,
   "metadata": {},
   "outputs": [],
   "source": [
    "# Transformando a datetime tipo de dato\n",
    "\n",
    "df_raw['first_observation_date'] = pd.to_datetime(df_raw['first_observation_date'])\n",
    "df_raw['last_observation_date'] = pd.to_datetime(df_raw['last_observation_date'])\n"
   ]
  },
  {
   "cell_type": "code",
   "execution_count": 32,
   "metadata": {},
   "outputs": [],
   "source": [
    "# Transformacion a 0 y 1 de las columnas 'is_potentially_hazardous_asteroid' y 'is_sentry_object'\n",
    "\n",
    "df_raw['is_potentially_hazardous_asteroid'] = pd.Categorical(df_raw['is_potentially_hazardous_asteroid'])\n",
    "df_raw['is_potentially_hazardous_asteroid'] = df_raw['is_potentially_hazardous_asteroid'].cat.codes\n",
    "\n",
    "df_raw['is_sentry_object'] = pd.Categorical(df_raw['is_sentry_object'])\n",
    "df_raw['is_sentry_object'] = df_raw['is_sentry_object'].cat.codes"
   ]
  },
  {
   "cell_type": "code",
   "execution_count": 33,
   "metadata": {},
   "outputs": [],
   "source": [
    "# Transformando las categorias de 'orbit_class_type' a 0, 1, 2 y 3\n",
    "\n",
    "df_raw['orbit_class_type'] = pd.Categorical(df_raw['orbit_class_type'])\n",
    "df_raw['orbit_class_type'] = df_raw['orbit_class_type'].cat.codes"
   ]
  },
  {
   "cell_type": "code",
   "execution_count": 34,
   "metadata": {},
   "outputs": [
    {
     "data": {
      "text/plain": [
       "9470     24\n",
       "7963      9\n",
       "17777     2\n",
       "23507     3\n",
       "17987    14\n",
       "23917     8\n",
       "20804     5\n",
       "1874     78\n",
       "22471     2\n",
       "18761    17\n",
       "Name: orbit_id, dtype: object"
      ]
     },
     "execution_count": 34,
     "metadata": {},
     "output_type": "execute_result"
    }
   ],
   "source": [
    "# Verificando valores de la columna 'orbit_id'\n",
    "\n",
    "df_raw['orbit_id'].sample(10)"
   ]
  },
  {
   "cell_type": "code",
   "execution_count": 35,
   "metadata": {},
   "outputs": [
    {
     "data": {
      "text/html": [
       "<div>\n",
       "<style scoped>\n",
       "    .dataframe tbody tr th:only-of-type {\n",
       "        vertical-align: middle;\n",
       "    }\n",
       "\n",
       "    .dataframe tbody tr th {\n",
       "        vertical-align: top;\n",
       "    }\n",
       "\n",
       "    .dataframe thead th {\n",
       "        text-align: right;\n",
       "    }\n",
       "</style>\n",
       "<table border=\"1\" class=\"dataframe\">\n",
       "  <thead>\n",
       "    <tr style=\"text-align: right;\">\n",
       "      <th></th>\n",
       "      <th>id</th>\n",
       "      <th>name</th>\n",
       "      <th>absolute_magnitude_h</th>\n",
       "      <th>is_potentially_hazardous_asteroid</th>\n",
       "      <th>is_sentry_object</th>\n",
       "      <th>kilometers_estimated_diameter_min</th>\n",
       "      <th>kilometers_estimated_diameter_max</th>\n",
       "      <th>orbit_id</th>\n",
       "      <th>orbit_class_type</th>\n",
       "      <th>perihelion_distance</th>\n",
       "      <th>aphelion_distance</th>\n",
       "      <th>first_observation_date</th>\n",
       "      <th>last_observation_date</th>\n",
       "      <th>orbit_class_description</th>\n",
       "    </tr>\n",
       "  </thead>\n",
       "  <tbody>\n",
       "    <tr>\n",
       "      <th>10055</th>\n",
       "      <td>3645194</td>\n",
       "      <td>(2013 NE24)</td>\n",
       "      <td>27.3</td>\n",
       "      <td>0</td>\n",
       "      <td>0</td>\n",
       "      <td>0.009216</td>\n",
       "      <td>0.020608</td>\n",
       "      <td>E2021-CI3</td>\n",
       "      <td>1</td>\n",
       "      <td>0.944657</td>\n",
       "      <td>4.634736</td>\n",
       "      <td>2013-07-14</td>\n",
       "      <td>2013-07-15</td>\n",
       "      <td>Near-Earth asteroid orbits which cross the Ear...</td>\n",
       "    </tr>\n",
       "    <tr>\n",
       "      <th>14813</th>\n",
       "      <td>3759689</td>\n",
       "      <td>(2016 RM41)</td>\n",
       "      <td>25.3</td>\n",
       "      <td>0</td>\n",
       "      <td>0</td>\n",
       "      <td>0.023150</td>\n",
       "      <td>0.051765</td>\n",
       "      <td>MPO392510</td>\n",
       "      <td>0</td>\n",
       "      <td>1.050360</td>\n",
       "      <td>4.923787</td>\n",
       "      <td>2016-09-10</td>\n",
       "      <td>2016-09-11</td>\n",
       "      <td>Near-Earth asteroid orbits similar to that of ...</td>\n",
       "    </tr>\n",
       "  </tbody>\n",
       "</table>\n",
       "</div>"
      ],
      "text/plain": [
       "            id         name  absolute_magnitude_h  \\\n",
       "10055  3645194  (2013 NE24)                  27.3   \n",
       "14813  3759689  (2016 RM41)                  25.3   \n",
       "\n",
       "       is_potentially_hazardous_asteroid  is_sentry_object  \\\n",
       "10055                                  0                 0   \n",
       "14813                                  0                 0   \n",
       "\n",
       "       kilometers_estimated_diameter_min  kilometers_estimated_diameter_max  \\\n",
       "10055                           0.009216                           0.020608   \n",
       "14813                           0.023150                           0.051765   \n",
       "\n",
       "        orbit_id  orbit_class_type  perihelion_distance  aphelion_distance  \\\n",
       "10055  E2021-CI3                 1             0.944657           4.634736   \n",
       "14813  MPO392510                 0             1.050360           4.923787   \n",
       "\n",
       "      first_observation_date last_observation_date  \\\n",
       "10055             2013-07-14            2013-07-15   \n",
       "14813             2016-09-10            2016-09-11   \n",
       "\n",
       "                                 orbit_class_description  \n",
       "10055  Near-Earth asteroid orbits which cross the Ear...  \n",
       "14813  Near-Earth asteroid orbits similar to that of ...  "
      ]
     },
     "execution_count": 35,
     "metadata": {},
     "output_type": "execute_result"
    }
   ],
   "source": [
    "df_raw[np.logical_not(df_raw['orbit_id'].str.isnumeric())]\n",
    "\n",
    "# El dataset contiene solamente dos valores no numericos en la columna orbit_id, y ademas pertenecen a la categoria mayoritaria de nuestro target, por lo que podemos eliminarlas"
   ]
  },
  {
   "cell_type": "code",
   "execution_count": 36,
   "metadata": {},
   "outputs": [],
   "source": [
    "df_raw = df_raw.drop(df_raw[df_raw['orbit_id'] == 'E2021-CI3'].index[0])\n",
    "df_raw = df_raw.drop(df_raw[df_raw['orbit_id'] == 'MPO392510'].index[0])"
   ]
  },
  {
   "cell_type": "code",
   "execution_count": 37,
   "metadata": {},
   "outputs": [],
   "source": [
    "df_raw['orbit_id'] = pd.to_numeric(df_raw['orbit_id'])"
   ]
  },
  {
   "cell_type": "code",
   "execution_count": 38,
   "metadata": {},
   "outputs": [],
   "source": [
    "# Terminar de transformar a cateorica las columnas 'name' y 'orbit_class_description'\n",
    "\n",
    "df_raw['name'] = pd.Categorical(df_raw['name'])\n",
    "df_raw['orbit_class_description'] = pd.Categorical(df_raw['orbit_class_description'])"
   ]
  },
  {
   "cell_type": "code",
   "execution_count": 39,
   "metadata": {},
   "outputs": [
    {
     "name": "stdout",
     "output_type": "stream",
     "text": [
      "<class 'pandas.core.frame.DataFrame'>\n",
      "Int64Index: 23997 entries, 0 to 23999\n",
      "Data columns (total 14 columns):\n",
      " #   Column                             Non-Null Count  Dtype         \n",
      "---  ------                             --------------  -----         \n",
      " 0   id                                 23997 non-null  int64         \n",
      " 1   name                               23997 non-null  category      \n",
      " 2   absolute_magnitude_h               23989 non-null  float64       \n",
      " 3   is_potentially_hazardous_asteroid  23997 non-null  int8          \n",
      " 4   is_sentry_object                   23997 non-null  int8          \n",
      " 5   kilometers_estimated_diameter_min  23989 non-null  float64       \n",
      " 6   kilometers_estimated_diameter_max  23989 non-null  float64       \n",
      " 7   orbit_id                           23997 non-null  int64         \n",
      " 8   orbit_class_type                   23997 non-null  int8          \n",
      " 9   perihelion_distance                23997 non-null  float64       \n",
      " 10  aphelion_distance                  23997 non-null  float64       \n",
      " 11  first_observation_date             23997 non-null  datetime64[ns]\n",
      " 12  last_observation_date              23997 non-null  datetime64[ns]\n",
      " 13  orbit_class_description            23997 non-null  category      \n",
      "dtypes: category(2), datetime64[ns](2), float64(5), int64(2), int8(3)\n",
      "memory usage: 2.7 MB\n"
     ]
    }
   ],
   "source": [
    "df_raw.info()\n",
    "\n",
    "# Las columnas 'absolute_magnitude_h', 'kilometers_estimated_diameter_min' y 'kilometers_estimated_diameter_max' presentan valores faltantes\n",
    "# Se procede a llenarlos con las mediana de su columna correspondiente"
   ]
  },
  {
   "cell_type": "code",
   "execution_count": 40,
   "metadata": {},
   "outputs": [],
   "source": [
    "# Sustituyendo los valores faltantes de las columnas 'absolute_magnitude_h', 'kilometers_estimated_diameter_min'\n",
    "# y 'kilometers_estimated_diameter_max' por sus respectivas medianas\n",
    "# Esto porque las columnas 'kilometers_estimated_diameter_min' y 'kilometers_estimated_diameter_max' presentan distribuciones\n",
    "# con sesgo positivo importante.\n",
    "\n",
    "imputer_median1 = SimpleImputer(strategy='median', missing_values=np.nan)\n",
    "df_raw['absolute_magnitude_h'] = imputer_median1.fit_transform(df_raw[['absolute_magnitude_h']])\n",
    "\n",
    "imputer_median2 = SimpleImputer(strategy='median', missing_values=np.nan)\n",
    "df_raw['kilometers_estimated_diameter_min'] = imputer_median2.fit_transform(df_raw[['kilometers_estimated_diameter_min']])\n",
    "\n",
    "imputer_median3 = SimpleImputer(strategy='median', missing_values=np.nan)\n",
    "df_raw['kilometers_estimated_diameter_max'] = imputer_median3.fit_transform(df_raw[['kilometers_estimated_diameter_max']])"
   ]
  },
  {
   "cell_type": "code",
   "execution_count": 41,
   "metadata": {},
   "outputs": [
    {
     "name": "stdout",
     "output_type": "stream",
     "text": [
      "<class 'pandas.core.frame.DataFrame'>\n",
      "Int64Index: 23997 entries, 0 to 23999\n",
      "Data columns (total 14 columns):\n",
      " #   Column                             Non-Null Count  Dtype         \n",
      "---  ------                             --------------  -----         \n",
      " 0   id                                 23997 non-null  int64         \n",
      " 1   name                               23997 non-null  category      \n",
      " 2   absolute_magnitude_h               23997 non-null  float64       \n",
      " 3   is_potentially_hazardous_asteroid  23997 non-null  int8          \n",
      " 4   is_sentry_object                   23997 non-null  int8          \n",
      " 5   kilometers_estimated_diameter_min  23997 non-null  float64       \n",
      " 6   kilometers_estimated_diameter_max  23997 non-null  float64       \n",
      " 7   orbit_id                           23997 non-null  int64         \n",
      " 8   orbit_class_type                   23997 non-null  int8          \n",
      " 9   perihelion_distance                23997 non-null  float64       \n",
      " 10  aphelion_distance                  23997 non-null  float64       \n",
      " 11  first_observation_date             23997 non-null  datetime64[ns]\n",
      " 12  last_observation_date              23997 non-null  datetime64[ns]\n",
      " 13  orbit_class_description            23997 non-null  category      \n",
      "dtypes: category(2), datetime64[ns](2), float64(5), int64(2), int8(3)\n",
      "memory usage: 2.7 MB\n"
     ]
    }
   ],
   "source": [
    "df_raw.info()"
   ]
  },
  {
   "cell_type": "code",
   "execution_count": 42,
   "metadata": {},
   "outputs": [
    {
     "data": {
      "text/html": [
       "<div>\n",
       "<style scoped>\n",
       "    .dataframe tbody tr th:only-of-type {\n",
       "        vertical-align: middle;\n",
       "    }\n",
       "\n",
       "    .dataframe tbody tr th {\n",
       "        vertical-align: top;\n",
       "    }\n",
       "\n",
       "    .dataframe thead th {\n",
       "        text-align: right;\n",
       "    }\n",
       "</style>\n",
       "<table border=\"1\" class=\"dataframe\">\n",
       "  <thead>\n",
       "    <tr style=\"text-align: right;\">\n",
       "      <th></th>\n",
       "      <th>id</th>\n",
       "      <th>name</th>\n",
       "      <th>absolute_magnitude_h</th>\n",
       "      <th>is_potentially_hazardous_asteroid</th>\n",
       "      <th>is_sentry_object</th>\n",
       "      <th>kilometers_estimated_diameter_min</th>\n",
       "      <th>kilometers_estimated_diameter_max</th>\n",
       "      <th>orbit_id</th>\n",
       "      <th>orbit_class_type</th>\n",
       "      <th>perihelion_distance</th>\n",
       "      <th>aphelion_distance</th>\n",
       "      <th>first_observation_date</th>\n",
       "      <th>last_observation_date</th>\n",
       "      <th>orbit_class_description</th>\n",
       "    </tr>\n",
       "  </thead>\n",
       "  <tbody>\n",
       "    <tr>\n",
       "      <th>14772</th>\n",
       "      <td>3759288</td>\n",
       "      <td>(2016 RM20)</td>\n",
       "      <td>26.20</td>\n",
       "      <td>0</td>\n",
       "      <td>0</td>\n",
       "      <td>0.015295</td>\n",
       "      <td>0.034201</td>\n",
       "      <td>5</td>\n",
       "      <td>1</td>\n",
       "      <td>0.976949</td>\n",
       "      <td>1.350236</td>\n",
       "      <td>2016-09-09</td>\n",
       "      <td>2016-09-19</td>\n",
       "      <td>Near-Earth asteroid orbits which cross the Ear...</td>\n",
       "    </tr>\n",
       "    <tr>\n",
       "      <th>8224</th>\n",
       "      <td>3566630</td>\n",
       "      <td>(2011 KK15)</td>\n",
       "      <td>22.30</td>\n",
       "      <td>0</td>\n",
       "      <td>0</td>\n",
       "      <td>0.092163</td>\n",
       "      <td>0.206082</td>\n",
       "      <td>16</td>\n",
       "      <td>1</td>\n",
       "      <td>0.948926</td>\n",
       "      <td>3.923810</td>\n",
       "      <td>2011-05-27</td>\n",
       "      <td>2011-07-03</td>\n",
       "      <td>Near-Earth asteroid orbits which cross the Ear...</td>\n",
       "    </tr>\n",
       "    <tr>\n",
       "      <th>23817</th>\n",
       "      <td>54055025</td>\n",
       "      <td>(2020 TS)</td>\n",
       "      <td>24.70</td>\n",
       "      <td>0</td>\n",
       "      <td>0</td>\n",
       "      <td>0.030518</td>\n",
       "      <td>0.068240</td>\n",
       "      <td>3</td>\n",
       "      <td>1</td>\n",
       "      <td>0.968235</td>\n",
       "      <td>1.613031</td>\n",
       "      <td>2020-10-07</td>\n",
       "      <td>2020-10-10</td>\n",
       "      <td>Near-Earth asteroid orbits which cross the Ear...</td>\n",
       "    </tr>\n",
       "    <tr>\n",
       "      <th>12900</th>\n",
       "      <td>3726443</td>\n",
       "      <td>(2015 QH)</td>\n",
       "      <td>21.00</td>\n",
       "      <td>0</td>\n",
       "      <td>0</td>\n",
       "      <td>0.167708</td>\n",
       "      <td>0.375008</td>\n",
       "      <td>31</td>\n",
       "      <td>0</td>\n",
       "      <td>1.063318</td>\n",
       "      <td>3.821219</td>\n",
       "      <td>2015-05-18</td>\n",
       "      <td>2019-11-04</td>\n",
       "      <td>Near-Earth asteroid orbits similar to that of ...</td>\n",
       "    </tr>\n",
       "    <tr>\n",
       "      <th>1443</th>\n",
       "      <td>2363305</td>\n",
       "      <td>363305 (2002 NV16)</td>\n",
       "      <td>21.37</td>\n",
       "      <td>1</td>\n",
       "      <td>0</td>\n",
       "      <td>0.141434</td>\n",
       "      <td>0.316257</td>\n",
       "      <td>96</td>\n",
       "      <td>1</td>\n",
       "      <td>0.965258</td>\n",
       "      <td>1.509212</td>\n",
       "      <td>2002-07-13</td>\n",
       "      <td>2021-03-15</td>\n",
       "      <td>Near-Earth asteroid orbits which cross the Ear...</td>\n",
       "    </tr>\n",
       "  </tbody>\n",
       "</table>\n",
       "</div>"
      ],
      "text/plain": [
       "             id                name  absolute_magnitude_h  \\\n",
       "14772   3759288         (2016 RM20)                 26.20   \n",
       "8224    3566630         (2011 KK15)                 22.30   \n",
       "23817  54055025           (2020 TS)                 24.70   \n",
       "12900   3726443           (2015 QH)                 21.00   \n",
       "1443    2363305  363305 (2002 NV16)                 21.37   \n",
       "\n",
       "       is_potentially_hazardous_asteroid  is_sentry_object  \\\n",
       "14772                                  0                 0   \n",
       "8224                                   0                 0   \n",
       "23817                                  0                 0   \n",
       "12900                                  0                 0   \n",
       "1443                                   1                 0   \n",
       "\n",
       "       kilometers_estimated_diameter_min  kilometers_estimated_diameter_max  \\\n",
       "14772                           0.015295                           0.034201   \n",
       "8224                            0.092163                           0.206082   \n",
       "23817                           0.030518                           0.068240   \n",
       "12900                           0.167708                           0.375008   \n",
       "1443                            0.141434                           0.316257   \n",
       "\n",
       "       orbit_id  orbit_class_type  perihelion_distance  aphelion_distance  \\\n",
       "14772         5                 1             0.976949           1.350236   \n",
       "8224         16                 1             0.948926           3.923810   \n",
       "23817         3                 1             0.968235           1.613031   \n",
       "12900        31                 0             1.063318           3.821219   \n",
       "1443         96                 1             0.965258           1.509212   \n",
       "\n",
       "      first_observation_date last_observation_date  \\\n",
       "14772             2016-09-09            2016-09-19   \n",
       "8224              2011-05-27            2011-07-03   \n",
       "23817             2020-10-07            2020-10-10   \n",
       "12900             2015-05-18            2019-11-04   \n",
       "1443              2002-07-13            2021-03-15   \n",
       "\n",
       "                                 orbit_class_description  \n",
       "14772  Near-Earth asteroid orbits which cross the Ear...  \n",
       "8224   Near-Earth asteroid orbits which cross the Ear...  \n",
       "23817  Near-Earth asteroid orbits which cross the Ear...  \n",
       "12900  Near-Earth asteroid orbits similar to that of ...  \n",
       "1443   Near-Earth asteroid orbits which cross the Ear...  "
      ]
     },
     "execution_count": 42,
     "metadata": {},
     "output_type": "execute_result"
    }
   ],
   "source": [
    "df_raw.sample(5)"
   ]
  },
  {
   "cell_type": "code",
   "execution_count": 43,
   "metadata": {},
   "outputs": [
    {
     "data": {
      "text/plain": [
       "['Near-Earth asteroid orbits which cross the Ea..., 'Near-Earth asteroid orbits similar to that of..., 'Near-Earth asteroid orbits similar to that of..., 'An asteroid orbit contained entirely within t...]\n",
       "Categories (4, object): ['An asteroid orbit contained entirely within t..., 'Near-Earth asteroid orbits similar to that of..., 'Near-Earth asteroid orbits similar to that of..., 'Near-Earth asteroid orbits which cross the Ea...]"
      ]
     },
     "execution_count": 43,
     "metadata": {},
     "output_type": "execute_result"
    }
   ],
   "source": [
    "# Vamos a hacer un analisis de la columna 'orbit_class_description' para observar las descripciones y evaluar si pueden haber aportes valiosos de informacion\n",
    "\n",
    "df_raw['orbit_class_description'].unique()"
   ]
  },
  {
   "cell_type": "code",
   "execution_count": 44,
   "metadata": {},
   "outputs": [],
   "source": [
    "# La columna solo contiene 4 tipos de descripciones, entonces vamos a encodearla\n",
    "\n",
    "df_raw['orbit_class_description'] = pd.Categorical(df_raw['orbit_class_description'])\n",
    "df_raw['orbit_class_description'] = df_raw['orbit_class_description'].cat.codes"
   ]
  },
  {
   "cell_type": "code",
   "execution_count": 45,
   "metadata": {},
   "outputs": [
    {
     "data": {
      "image/png": "[encoded data removed]",
      "text/plain": [
       "<Figure size 864x720 with 2 Axes>"
      ]
     },
     "metadata": {
      "needs_background": "light"
     },
     "output_type": "display_data"
    }
   ],
   "source": [
    "# Correlaciones\n",
    "\n",
    "fig, ax = plt.subplots(figsize = (12,10))\n",
    "sns.heatmap(df_raw.corr(), annot = True, ax=ax)\n",
    "plt.show()"
   ]
  },
  {
   "cell_type": "code",
   "execution_count": 46,
   "metadata": {},
   "outputs": [
    {
     "data": {
      "image/png": "[encoded data removed]",
      "text/plain": [
       "<Figure size 864x720 with 2 Axes>"
      ]
     },
     "metadata": {
      "needs_background": "light"
     },
     "output_type": "display_data"
    }
   ],
   "source": [
    "# Buscar correlaciones con columnas de identificacion (id y orbit_id) no tiene sentido asi que volvemos a hacer la correlacion sin ellas\n",
    "\n",
    "df_wo_ids = df_raw.drop(columns = ['id', 'orbit_id'])\n",
    "\n",
    "fig, ax = plt.subplots(figsize = (12,10))\n",
    "sns.heatmap(df_wo_ids.corr(), annot = True, ax=ax)\n",
    "plt.show()"
   ]
  },
  {
   "cell_type": "markdown",
   "metadata": {},
   "source": [
    "#### Observaciones:\n",
    "(Consideramos fuerte correlacion por encima de 0.75 (o por debajo de -0.75))\n",
    "\n",
    "No hay correlaciones fuertes respecto a nuestro target\n",
    "\n",
    "Las columnas 'kilometers_estimated_diameter_min' y 'kilometers_estimated_diameter_max' presentan las mismas correlaciones con las demas variables, ya que sus valores son muy similares, por lo que para la aplicacion de algoritmos de clasificacion solo es necesario quedarnos con una de ellas"
   ]
  },
  {
   "cell_type": "code",
   "execution_count": 47,
   "metadata": {},
   "outputs": [
    {
     "data": {
      "text/plain": [
       "0.20735343592599492"
      ]
     },
     "execution_count": 47,
     "metadata": {},
     "output_type": "execute_result"
    }
   ],
   "source": [
    "diff = df_raw['kilometers_estimated_diameter_max'] - df_raw['kilometers_estimated_diameter_min']\n",
    "diff.mean()\n",
    "\n",
    "#Aqui corroboramos que la diferencia entre ambas columnas es muy pequeña, como habiamos mencionado anteriormente"
   ]
  },
  {
   "cell_type": "code",
   "execution_count": 48,
   "metadata": {},
   "outputs": [],
   "source": [
    "# Vamos a eliminar la columna kilometers_estimated_diameter_min y renombrar kilometers_estimated_diameter_max a kilometers_estimated_diameter\n",
    "\n",
    "df_raw.drop(columns = ['kilometers_estimated_diameter_min'], inplace = True)\n",
    "df_raw.rename(columns = {'kilometers_estimated_diameter_max':'kilometers_estimated_diameter'}, inplace = True)"
   ]
  },
  {
   "cell_type": "code",
   "execution_count": 49,
   "metadata": {},
   "outputs": [
    {
     "name": "stdout",
     "output_type": "stream",
     "text": [
      "<class 'pandas.core.frame.DataFrame'>\n",
      "Int64Index: 23997 entries, 0 to 23999\n",
      "Data columns (total 13 columns):\n",
      " #   Column                             Non-Null Count  Dtype         \n",
      "---  ------                             --------------  -----         \n",
      " 0   id                                 23997 non-null  int64         \n",
      " 1   name                               23997 non-null  category      \n",
      " 2   absolute_magnitude_h               23997 non-null  float64       \n",
      " 3   is_potentially_hazardous_asteroid  23997 non-null  int8          \n",
      " 4   is_sentry_object                   23997 non-null  int8          \n",
      " 5   kilometers_estimated_diameter      23997 non-null  float64       \n",
      " 6   orbit_id                           23997 non-null  int64         \n",
      " 7   orbit_class_type                   23997 non-null  int8          \n",
      " 8   perihelion_distance                23997 non-null  float64       \n",
      " 9   aphelion_distance                  23997 non-null  float64       \n",
      " 10  first_observation_date             23997 non-null  datetime64[ns]\n",
      " 11  last_observation_date              23997 non-null  datetime64[ns]\n",
      " 12  orbit_class_description            23997 non-null  int8          \n",
      "dtypes: category(1), datetime64[ns](2), float64(4), int64(2), int8(4)\n",
      "memory usage: 2.5 MB\n"
     ]
    }
   ],
   "source": [
    "df_raw.info()"
   ]
  },
  {
   "cell_type": "code",
   "execution_count": 86,
   "metadata": {},
   "outputs": [],
   "source": [
    "df_raw.to_csv('../data/df_proccessed.csv')"
   ]
  },
  {
   "cell_type": "code",
   "execution_count": 56,
   "metadata": {},
   "outputs": [],
   "source": [
    "from sklearn.model_selection import train_test_split\n",
    "\n",
    "y = df_raw['is_potentially_hazardous_asteroid']\n",
    "X = df_raw.drop(columns = ['is_potentially_hazardous_asteroid', 'name', 'id', 'first_observation_date', 'last_observation_date'])\n",
    "\n",
    "X_train, X_rem, y_train, y_rem = train_test_split(X,y, train_size=0.8)\n",
    "X_valid, X_test, y_valid, y_test = train_test_split(X_rem,y_rem, test_size=0.5)\n",
    "\n",
    "X_united = pd.concat([X_train, X_valid])\n",
    "y_united = pd.concat([y_train, y_valid])"
   ]
  },
  {
   "cell_type": "code",
   "execution_count": null,
   "metadata": {},
   "outputs": [],
   "source": [
    "# Rf de prueba"
   ]
  },
  {
   "cell_type": "code",
   "execution_count": 80,
   "metadata": {},
   "outputs": [],
   "source": [
    "from sklearn.ensemble import RandomForestClassifier\n",
    "from sklearn.model_selection import train_test_split\n",
    "from sklearn.metrics import classification_report\n",
    "from sklearn.metrics import confusion_matrix, accuracy_score\n",
    "from sklearn.model_selection import RepeatedStratifiedKFold\n",
    "from sklearn.model_selection import cross_val_score\n",
    "from sklearn.metrics import roc_auc_score"
   ]
  },
  {
   "cell_type": "code",
   "execution_count": 62,
   "metadata": {},
   "outputs": [
    {
     "data": {
      "text/html": [
       "<style>#sk-container-id-3 {color: black;background-color: white;}#sk-container-id-3 pre{padding: 0;}#sk-container-id-3 div.sk-toggleable {background-color: white;}#sk-container-id-3 label.sk-toggleable__label {cursor: pointer;display: block;width: 100%;margin-bottom: 0;padding: 0.3em;box-sizing: border-box;text-align: center;}#sk-container-id-3 label.sk-toggleable__label-arrow:before {content: \"▸\";float: left;margin-right: 0.25em;color: #696969;}#sk-container-id-3 label.sk-toggleable__label-arrow:hover:before {color: black;}#sk-container-id-3 div.sk-estimator:hover label.sk-toggleable__label-arrow:before {color: black;}#sk-container-id-3 div.sk-toggleable__content {max-height: 0;max-width: 0;overflow: hidden;text-align: left;background-color: #f0f8ff;}#sk-container-id-3 div.sk-toggleable__content pre {margin: 0.2em;color: black;border-radius: 0.25em;background-color: #f0f8ff;}#sk-container-id-3 input.sk-toggleable__control:checked~div.sk-toggleable__content {max-height: 200px;max-width: 100%;overflow: auto;}#sk-container-id-3 input.sk-toggleable__control:checked~label.sk-toggleable__label-arrow:before {content: \"▾\";}#sk-container-id-3 div.sk-estimator input.sk-toggleable__control:checked~label.sk-toggleable__label {background-color: #d4ebff;}#sk-container-id-3 div.sk-label input.sk-toggleable__control:checked~label.sk-toggleable__label {background-color: #d4ebff;}#sk-container-id-3 input.sk-hidden--visually {border: 0;clip: rect(1px 1px 1px 1px);clip: rect(1px, 1px, 1px, 1px);height: 1px;margin: -1px;overflow: hidden;padding: 0;position: absolute;width: 1px;}#sk-container-id-3 div.sk-estimator {font-family: monospace;background-color: #f0f8ff;border: 1px dotted black;border-radius: 0.25em;box-sizing: border-box;margin-bottom: 0.5em;}#sk-container-id-3 div.sk-estimator:hover {background-color: #d4ebff;}#sk-container-id-3 div.sk-parallel-item::after {content: \"\";width: 100%;border-bottom: 1px solid gray;flex-grow: 1;}#sk-container-id-3 div.sk-label:hover label.sk-toggleable__label {background-color: #d4ebff;}#sk-container-id-3 div.sk-serial::before {content: \"\";position: absolute;border-left: 1px solid gray;box-sizing: border-box;top: 0;bottom: 0;left: 50%;z-index: 0;}#sk-container-id-3 div.sk-serial {display: flex;flex-direction: column;align-items: center;background-color: white;padding-right: 0.2em;padding-left: 0.2em;position: relative;}#sk-container-id-3 div.sk-item {position: relative;z-index: 1;}#sk-container-id-3 div.sk-parallel {display: flex;align-items: stretch;justify-content: center;background-color: white;position: relative;}#sk-container-id-3 div.sk-item::before, #sk-container-id-3 div.sk-parallel-item::before {content: \"\";position: absolute;border-left: 1px solid gray;box-sizing: border-box;top: 0;bottom: 0;left: 50%;z-index: -1;}#sk-container-id-3 div.sk-parallel-item {display: flex;flex-direction: column;z-index: 1;position: relative;background-color: white;}#sk-container-id-3 div.sk-parallel-item:first-child::after {align-self: flex-end;width: 50%;}#sk-container-id-3 div.sk-parallel-item:last-child::after {align-self: flex-start;width: 50%;}#sk-container-id-3 div.sk-parallel-item:only-child::after {width: 0;}#sk-container-id-3 div.sk-dashed-wrapped {border: 1px dashed gray;margin: 0 0.4em 0.5em 0.4em;box-sizing: border-box;padding-bottom: 0.4em;background-color: white;}#sk-container-id-3 div.sk-label label {font-family: monospace;font-weight: bold;display: inline-block;line-height: 1.2em;}#sk-container-id-3 div.sk-label-container {text-align: center;}#sk-container-id-3 div.sk-container {/* jupyter's `normalize.less` sets `[hidden] { display: none; }` but bootstrap.min.css set `[hidden] { display: none !important; }` so we also need the `!important` here to be able to override the default hidden behavior on the sphinx rendered scikit-learn.org. See: https://github.com/scikit-learn/scikit-learn/issues/21755 */display: inline-block !important;position: relative;}#sk-container-id-3 div.sk-text-repr-fallback {display: none;}</style><div id=\"sk-container-id-3\" class=\"sk-top-container\"><div class=\"sk-text-repr-fallback\"><pre>RandomForestClassifier(random_state=42)</pre><b>In a Jupyter environment, please rerun this cell to show the HTML representation or trust the notebook. <br />On GitHub, the HTML representation is unable to render, please try loading this page with nbviewer.org.</b></div><div class=\"sk-container\" hidden><div class=\"sk-item\"><div class=\"sk-estimator sk-toggleable\"><input class=\"sk-toggleable__control sk-hidden--visually\" id=\"sk-estimator-id-3\" type=\"checkbox\" checked><label for=\"sk-estimator-id-3\" class=\"sk-toggleable__label sk-toggleable__label-arrow\">RandomForestClassifier</label><div class=\"sk-toggleable__content\"><pre>RandomForestClassifier(random_state=42)</pre></div></div></div></div></div>"
      ],
      "text/plain": [
       "RandomForestClassifier(random_state=42)"
      ]
     },
     "execution_count": 62,
     "metadata": {},
     "output_type": "execute_result"
    }
   ],
   "source": [
    "clf = RandomForestClassifier(random_state=42)\n",
    "clf.fit(X_train,y_train)"
   ]
  },
  {
   "cell_type": "code",
   "execution_count": 63,
   "metadata": {},
   "outputs": [],
   "source": [
    "y_pred = clf.predict(X_valid)"
   ]
  },
  {
   "cell_type": "code",
   "execution_count": 91,
   "metadata": {},
   "outputs": [
    {
     "data": {
      "image/png": "[encoded data removed]",
      "text/plain": [
       "<Figure size 432x288 with 2 Axes>"
      ]
     },
     "metadata": {
      "needs_background": "light"
     },
     "output_type": "display_data"
    },
    {
     "name": "stdout",
     "output_type": "stream",
     "text": [
      "Accuraccy score: 0.9195833333333333\n",
      "classification report: \n",
      "              precision    recall  f1-score   support\n",
      "\n",
      "           0       0.94      0.97      0.96      2188\n",
      "           1       0.57      0.35      0.44       212\n",
      "\n",
      "    accuracy                           0.92      2400\n",
      "   macro avg       0.76      0.66      0.70      2400\n",
      "weighted avg       0.91      0.92      0.91      2400\n",
      "\n",
      "Mean ROC AUC: 0.950\n"
     ]
    }
   ],
   "source": [
    "sns.heatmap(confusion_matrix(y_valid,y_pred), annot= True , fmt='d')\n",
    "plt.show()\n",
    "\n",
    "print(f'Accuraccy score: {accuracy_score(y_valid,y_pred)}')\n",
    "print(f'classification report: \\n{classification_report(y_valid,y_pred)}')\n",
    "\n",
    "cv = RepeatedStratifiedKFold(n_splits=10, n_repeats=3, random_state=1)\n",
    "scores = cross_val_score(clf, X_united, y_united, scoring='roc_auc', cv=cv, n_jobs=-1)\n",
    "print('Mean ROC AUC: %.3f' % np.mean(scores))"
   ]
  },
  {
   "cell_type": "code",
   "execution_count": null,
   "metadata": {},
   "outputs": [],
   "source": [
    "# Los datos en principio dan bien, pero se puede apreciar el peso que tiene en la precision de la categoria 1 el tema de que el dataset sea desbalanceado"
   ]
  },
  {
   "cell_type": "markdown",
   "metadata": {},
   "source": [
    "## Problema del dataset desbalanceado"
   ]
  },
  {
   "cell_type": "code",
   "execution_count": null,
   "metadata": {},
   "outputs": [],
   "source": [
    "# Vamos a aplicar diferentes tecnicas de ataque al problema, relativas a RandomForest, y veremos cual de todas es la que tiene mejor performance\n",
    "# Fuente: https://www.aprendemachinelearning.com/clasificacion-con-datos-desbalanceados/\n",
    "# Fuente: https://machinelearningmastery.com/bagging-and-random-forest-for-imbalanced-classification/"
   ]
  },
  {
   "cell_type": "code",
   "execution_count": 92,
   "metadata": {},
   "outputs": [
    {
     "name": "stdout",
     "output_type": "stream",
     "text": [
      "Mean ROC AUC: 0.920\n"
     ]
    }
   ],
   "source": [
    "# 1) Class Weighting\n",
    "\n",
    "# A simple technique for modifying a decision tree for imbalanced classification is to change\n",
    "# the weight that each class has when calculating the “impurity” score of a chosen split point.\n",
    "# Impurity measures how mixed the groups of samples are for a given split in the training dataset \n",
    "# and is typically measured with Gini or entropy. The calculation can be biased so that a mixture\n",
    "#  in favor of the minority class is favored, allowing some false positives for the majority class.\n",
    "# This modification of random forest is referred to as Weighted Random Forest.\n",
    "\n",
    "clf = RandomForestClassifier(n_estimators=10, class_weight='balanced', random_state=42)\n",
    "\n",
    "cv = RepeatedStratifiedKFold(n_splits=10, n_repeats=3, random_state=1)\n",
    "scores = cross_val_score(clf, X_united, y_united, scoring='roc_auc', cv=cv, n_jobs=-1)\n",
    "print('Mean ROC AUC: %.3f' % np.mean(scores))"
   ]
  },
  {
   "cell_type": "code",
   "execution_count": 93,
   "metadata": {},
   "outputs": [
    {
     "name": "stdout",
     "output_type": "stream",
     "text": [
      "Mean ROC AUC: 0.918\n"
     ]
    }
   ],
   "source": [
    "# 2) Bootstrap Class Weighting\n",
    "\n",
    "# Given that each decision tree is constructed from a bootstrap sample \n",
    "# (e.g. random selection with replacement), the class distribution in \n",
    "# the data sample will be different for each tree. As such, it might be \n",
    "# interesting to change the class weighting based on the class distribution \n",
    "# in each bootstrap sample, instead of the entire training dataset. This can \n",
    "# be achieved by setting the class_weight argument to the value ‘balanced_subsample‘.\n",
    "\n",
    "clf = RandomForestClassifier(n_estimators=10, class_weight='balanced_subsample', random_state=42)\n",
    "\n",
    "cv = RepeatedStratifiedKFold(n_splits=10, n_repeats=3, random_state=1)\n",
    "scores = cross_val_score(clf, X_united, y_united, scoring='roc_auc', cv=cv, n_jobs=-1)\n",
    "print('Mean ROC AUC: %.3f' % np.mean(scores))"
   ]
  },
  {
   "cell_type": "code",
   "execution_count": 94,
   "metadata": {},
   "outputs": [
    {
     "name": "stdout",
     "output_type": "stream",
     "text": [
      "Mean ROC AUC: 0.942\n"
     ]
    }
   ],
   "source": [
    "# 3) Random Undersampling\n",
    "\n",
    "# Another useful modification to random forest is to perform data resampling on the\n",
    "#  bootstrap sample in order to explicitly change the class distribution. The \n",
    "# BalancedRandomForestClassifier class from the imbalanced-learn library implements \n",
    "# this and performs random undersampling of the majority class in reach bootstrap sample. \n",
    "# This is generally referred to as Balanced Random Forest.from imblearn.ensemble import\n",
    "#  BalancedRandomForestClassifier\n",
    "\n",
    "clf = BalancedRandomForestClassifier(n_estimators=10)\n",
    " \n",
    "cv = RepeatedStratifiedKFold(n_splits=10, n_repeats=3, random_state=1)\n",
    "scores = cross_val_score(clf, X_united, y_united, scoring='roc_auc', cv=cv, n_jobs=-1)\n",
    "print('Mean ROC AUC: %.3f' % np.mean(scores))"
   ]
  },
  {
   "cell_type": "code",
   "execution_count": 95,
   "metadata": {},
   "outputs": [
    {
     "name": "stdout",
     "output_type": "stream",
     "text": [
      "Mean ROC AUC: 0.950\n"
     ]
    }
   ],
   "source": [
    "# 4) Ensemble\n",
    "\n",
    "# The Easy Ensemble involves creating balanced samples of the training dataset by selecting all examples\n",
    "#  from the minority class and a subset from the majority class. Rather than using pruned decision trees, \n",
    "# boosted decision trees are used on each subset, specifically the AdaBoost algorithm. AdaBoost works by \n",
    "# first fitting a decision tree on the dataset, then determining the errors made by the tree and weighing \n",
    "# the examples in the dataset by those errors so that more attention is paid to the misclassified examples \n",
    "# and less to the correctly classified examples. A subsequent tree is then fit on the weighted dataset \n",
    "# intended to correct the errors. The process is then repeated for a given number of decision trees.\n",
    "\n",
    "from imblearn.ensemble import EasyEnsembleClassifier\n",
    "\n",
    "clf = EasyEnsembleClassifier(n_estimators=10)\n",
    "\n",
    "cv = RepeatedStratifiedKFold(n_splits=10, n_repeats=3, random_state=1)\n",
    "scores = cross_val_score(clf, X_united, y_united, scoring='roc_auc', cv=cv, n_jobs=-1)\n",
    "print('Mean ROC AUC: %.3f' % np.mean(scores))"
   ]
  },
  {
   "cell_type": "code",
   "execution_count": null,
   "metadata": {},
   "outputs": [],
   "source": []
  },
  {
   "cell_type": "code",
   "execution_count": null,
   "metadata": {},
   "outputs": [],
   "source": []
  },
  {
   "cell_type": "code",
   "execution_count": null,
   "metadata": {},
   "outputs": [],
   "source": []
  },
  {
   "cell_type": "code",
   "execution_count": null,
   "metadata": {},
   "outputs": [],
   "source": []
  },
  {
   "cell_type": "code",
   "execution_count": null,
   "metadata": {},
   "outputs": [],
   "source": []
  },
  {
   "cell_type": "code",
   "execution_count": null,
   "metadata": {},
   "outputs": [],
   "source": [
    "# ATACAR IMBALANCED SITUATION\n",
    "\n",
    "# Para el resampling, lo saque del code de decision tree\n",
    "\n",
    "# df_majority = df[(df[\"Outcome\"]==0)]\n",
    "# df_minority = df[(df[\"Outcome\"]==1)]\n",
    "# df_minority_upsampled = resample(df_minority,replace=True,n_samples=400,random_state=42)\n",
    "# df = pd.concat([df_minority_upsampled,df_majority])\n",
    "# df[\"Outcome\"].value_counts()"
   ]
  },
  {
   "cell_type": "markdown",
   "metadata": {},
   "source": [
    "## Aplicacion de Decision Tree"
   ]
  },
  {
   "cell_type": "code",
   "execution_count": null,
   "metadata": {},
   "outputs": [],
   "source": []
  },
  {
   "cell_type": "code",
   "execution_count": null,
   "metadata": {},
   "outputs": [],
   "source": []
  },
  {
   "cell_type": "code",
   "execution_count": null,
   "metadata": {},
   "outputs": [],
   "source": []
  },
  {
   "cell_type": "markdown",
   "metadata": {},
   "source": [
    "## Aplicacion de Random Forest"
   ]
  },
  {
   "cell_type": "code",
   "execution_count": null,
   "metadata": {},
   "outputs": [],
   "source": []
  },
  {
   "cell_type": "code",
   "execution_count": null,
   "metadata": {},
   "outputs": [],
   "source": []
  },
  {
   "cell_type": "code",
   "execution_count": null,
   "metadata": {},
   "outputs": [],
   "source": []
  },
  {
   "cell_type": "code",
   "execution_count": null,
   "metadata": {},
   "outputs": [],
   "source": []
  },
  {
   "cell_type": "code",
   "execution_count": null,
   "metadata": {},
   "outputs": [],
   "source": []
  },
  {
   "cell_type": "code",
   "execution_count": null,
   "metadata": {},
   "outputs": [],
   "source": []
  },
  {
   "cell_type": "markdown",
   "metadata": {},
   "source": [
    "## Aplicacion de XGBoost"
   ]
  },
  {
   "cell_type": "code",
   "execution_count": null,
   "metadata": {},
   "outputs": [],
   "source": []
  },
  {
   "cell_type": "code",
   "execution_count": null,
   "metadata": {},
   "outputs": [],
   "source": []
  },
  {
   "cell_type": "code",
   "execution_count": null,
   "metadata": {},
   "outputs": [],
   "source": []
  },
  {
   "cell_type": "code",
   "execution_count": null,
   "metadata": {},
   "outputs": [],
   "source": []
  }
 ],
 "metadata": {
  "kernelspec": {
   "display_name": "Python 3.8.13 64-bit ('3.8.13')",
   "language": "python",
   "name": "python3"
  },
  "language_info": {
   "codemirror_mode": {
    "name": "ipython",
    "version": 3
   },
   "file_extension": ".py",
   "mimetype": "text/x-python",
   "name": "python",
   "nbconvert_exporter": "python",
   "pygments_lexer": "ipython3",
   "version": "3.8.13"
  },
  "orig_nbformat": 4,
  "vscode": {
   "interpreter": {
    "hash": "110cc1dee26208153f2972f08a2ad52b6a56238dc66d48e87fb757ef2996db56"
   }
  }
 },
 "nbformat": 4,
 "nbformat_minor": 2
}
