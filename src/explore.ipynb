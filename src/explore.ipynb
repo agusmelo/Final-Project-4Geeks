{
 "cells": [
  {
   "cell_type": "markdown",
   "metadata": {},
   "source": [
    "## Presentación\n",
    "\n",
    "En esta instancia decidimos trabajar sobre un dataset acerca de Objetos Ceranos a la Tierra, NEO's por sus siglas en inglés (Near Earth Objects), y poder predecir si un cuerpo dado representa un peligro de impacto con la Tierra. Pero nos encontramos con una peculiaridad; el dataset está desbalanceado respecto a nuestra columna de interés a predecir. Esto significa que antes de poder aplicar alogritmos con fin de predicción, debemos hacernos cargo de este problema.\n",
    "\n",
    "A lo largo de nuestro análisis, el enfoque con más peso será buscar la solución a esta problemática, aplicando distintas herramientas y evaluando su desempeño a través de distintas métricas y comparando una a una, así poder llegar a una conlusión sobre cuál método fue el más beneficioso para la performance del algoritmo predictivo, además de poder ejemplificar por que tener un dataset desbalanceado presenta problemas a la hora de predecir."
   ]
  },
  {
   "cell_type": "markdown",
   "metadata": {},
   "source": [
    "### Objetivo general\n",
    "\n",
    "- Evaluar como solucionar la problemática de que el dataset está desbalanceado respecto a la columna de interés a predecir\n",
    "- Exponer los problemas que un dataset representa para el poder predictivo de un algoritmo\n",
    "\n",
    "\n",
    "### Objetivos secundarios\n",
    "- Analizar el dataset, buscar correlaciones entre variables y transformar datos\n",
    "- Aplicar algoritmos de clasificacion para determinar si un NEO tiene peligro potencial de impacto"
   ]
  },
  {
   "cell_type": "markdown",
   "metadata": {},
   "source": [
    "### Diccionario de datos:\n",
    "\n",
    "- Unnamed: 0: Default index\n",
    "\n",
    "- id: A unique ID given by NASA\n",
    "\n",
    "- neo_reference_id: A unique ID given by NASA to all NEO, same as the ID\n",
    "\n",
    "- name: Official name given by NASA\n",
    "\n",
    "- name_limited: Normal name without the scientific notations\n",
    "\n",
    "- designation: The number used in the official name given by NASA\n",
    "\n",
    "- absolute_magnitude_h: Absolute magnitude (M) is a measure of the luminosity of a celestial object, on an inverse logarithmic astronomical\n",
    "\n",
    "- is_potentially_hazardous_asteroid: Boolean value which tells if the object poses a threat to earth or not\n",
    "\n",
    "- is_sentry_object: Boolean value which tells if the object is present in the sentry tracking system or not (Sentry: https://en.wikipedia.org/wiki/Sentry_(monitoring_system))\n",
    "\n",
    "- kilometers_estimated_diameter_min: Minimum estimated diameter in kilometer\n",
    "\n",
    "- kilometers_estimated_diameter_max: Maximum estimated diameter in kilometer\n",
    "\n",
    "- orbit_id: A unique ID for the orbit of the object\n",
    "\n",
    "- orbit_class_type: Classification of the object orbit into classes\n",
    "\n",
    "    - (AMO is referring to Amor asteroids: near-Earth asteroids. The orbital perihelion of these objects is close to, but greater than, the orbital aphelion of Earth (a > 1.0 AU and 1.017 AU < q < 1.3 AU).\n",
    "\n",
    "    - APO is referring to Apollo asteroids: near-Earth asteroid orbits which cross the Earth's orbit (a > 1.0 AU and q < 1.017 AU).)\n",
    "\n",
    "    - (Abajo hay mas info sobre el tema, incluyendo las orbitas de tipo ATE e IEO)\n",
    "\n",
    "- perihelion_distance: Has the perihelion distance (the point nearest to the Earth in the path of an orbiting celestial body)\n",
    "\n",
    "- aphelion_distance: Has the aphelion distance (the point in the orbit of a planet, asteroid, or object at which it is furthest from the Earth)\n",
    "\n",
    "- first_observation_date: Date when the object was first observed\n",
    "\n",
    "- last_observation_date: Date when the object was last observed\n",
    "\n",
    "- orbit_class_description: The description of the orbit\n",
    "\n",
    "(Diccionario extrído de la fuente)"
   ]
  },
  {
   "cell_type": "markdown",
   "metadata": {},
   "source": [
    "#### Más información sobre la clasificación de órbita\n",
    "\n",
    "Asteroids are dynamically classified as \"Near-Earth\" if their perihelion distance is less than 1.3 AU. They are further divided into groups based on their semi-major axis (a), perihelion distance (q), and aphelion distance (Q).\n",
    "\n",
    "- Apollos (APO) cross Earth's orbit and have a semi-major axis of more than 1 AU\n",
    "\n",
    "- Amors (AMO) have orbits strictly outside Earth's orbit\n",
    "\n",
    "- Atens (ATE) cross Earth's orbit and have a semi-major axis of less than 1 AU\n",
    "\n",
    "- Atiras (IEO) have orbits strictly inside Earth's orbit\n",
    "\n",
    "(Fuente: https://www.comet-toolbox.com/neos.html)"
   ]
  },
  {
   "cell_type": "code",
   "execution_count": 13,
   "metadata": {},
   "outputs": [],
   "source": [
    "# Fuente: https://www.kaggle.com/datasets/adityaramachandran27/nasa-near-earth-objects-information"
   ]
  },
  {
   "cell_type": "code",
   "execution_count": 14,
   "metadata": {},
   "outputs": [
    {
     "name": "stdout",
     "output_type": "stream",
     "text": [
      "Requirement already satisfied: pip in /home/gitpod/.pyenv/versions/3.8.13/lib/python3.8/site-packages (22.2.2)\n",
      "Requirement already satisfied: pandas==1.4.2 in /workspace/.pyenv_mirror/user/current/lib/python3.8/site-packages (from -r ../requirements.txt (line 1)) (1.4.2)\n",
      "Requirement already satisfied: python-dotenv==0.20.0 in /workspace/.pyenv_mirror/user/current/lib/python3.8/site-packages (from -r ../requirements.txt (line 2)) (0.20.0)\n",
      "Requirement already satisfied: requests==2.27.1 in /workspace/.pyenv_mirror/user/current/lib/python3.8/site-packages (from -r ../requirements.txt (line 3)) (2.27.1)\n",
      "Requirement already satisfied: numpy>=1.18.5 in /workspace/.pyenv_mirror/user/current/lib/python3.8/site-packages (from -r ../requirements.txt (line 4)) (1.23.2)\n",
      "Requirement already satisfied: matplotlib>=3.2.2 in /workspace/.pyenv_mirror/user/current/lib/python3.8/site-packages (from -r ../requirements.txt (line 5)) (3.5.3)\n",
      "Requirement already satisfied: sklearn in /workspace/.pyenv_mirror/user/current/lib/python3.8/site-packages (from -r ../requirements.txt (line 6)) (0.0)\n",
      "Requirement already satisfied: seaborn in /workspace/.pyenv_mirror/user/current/lib/python3.8/site-packages (from -r ../requirements.txt (line 7)) (0.11.2)\n",
      "Requirement already satisfied: statsmodels in /workspace/.pyenv_mirror/user/current/lib/python3.8/site-packages (from -r ../requirements.txt (line 8)) (0.13.2)\n",
      "Requirement already satisfied: scikit-learn in /workspace/.pyenv_mirror/user/current/lib/python3.8/site-packages (from -r ../requirements.txt (line 9)) (1.1.2)\n",
      "Requirement already satisfied: imblearn in /workspace/.pyenv_mirror/user/current/lib/python3.8/site-packages (from -r ../requirements.txt (line 10)) (0.0)\n",
      "\u001b[31mERROR: Could not find a version that satisfies the requirement collections (from versions: none)\u001b[0m\u001b[31m\n",
      "\u001b[0m\u001b[31mERROR: No matching distribution found for collections\u001b[0m\u001b[31m\n",
      "\u001b[0m"
     ]
    }
   ],
   "source": [
    "!pip install --upgrade pip\n",
    "!pip install -r ../requirements.txt"
   ]
  },
  {
   "cell_type": "code",
   "execution_count": 15,
   "metadata": {},
   "outputs": [],
   "source": [
    "import pandas as pd\n",
    "import numpy as np\n",
    "import matplotlib.pyplot as plt\n",
    "import seaborn as sns\n",
    "from sklearn.impute import SimpleImputer\n",
    "from sklearn.model_selection import train_test_split\n",
    "from sklearn.pipeline import Pipeline"
   ]
  },
  {
   "cell_type": "code",
   "execution_count": 16,
   "metadata": {},
   "outputs": [],
   "source": [
    "# !unzip ../data/nasa_neo.zip\n",
    "# !mv nasa_neo.csv ../data"
   ]
  },
  {
   "cell_type": "code",
   "execution_count": 17,
   "metadata": {},
   "outputs": [],
   "source": [
    "df_raw = pd.read_csv('../data/nasa_neo.csv')"
   ]
  },
  {
   "cell_type": "code",
   "execution_count": 18,
   "metadata": {},
   "outputs": [
    {
     "name": "stdout",
     "output_type": "stream",
     "text": [
      "<class 'pandas.core.frame.DataFrame'>\n",
      "RangeIndex: 24000 entries, 0 to 23999\n",
      "Data columns (total 18 columns):\n",
      " #   Column                             Non-Null Count  Dtype  \n",
      "---  ------                             --------------  -----  \n",
      " 0   Unnamed: 0                         24000 non-null  int64  \n",
      " 1   id                                 24000 non-null  int64  \n",
      " 2   neo_reference_id                   24000 non-null  int64  \n",
      " 3   name                               24000 non-null  object \n",
      " 4   name_limited                       144 non-null    object \n",
      " 5   designation                        24000 non-null  object \n",
      " 6   absolute_magnitude_h               23992 non-null  float64\n",
      " 7   is_potentially_hazardous_asteroid  24000 non-null  bool   \n",
      " 8   is_sentry_object                   24000 non-null  bool   \n",
      " 9   kilometers_estimated_diameter_min  23992 non-null  float64\n",
      " 10  kilometers_estimated_diameter_max  23992 non-null  float64\n",
      " 11  orbit_id                           24000 non-null  object \n",
      " 12  orbit_class_type                   24000 non-null  object \n",
      " 13  perihelion_distance                24000 non-null  float64\n",
      " 14  aphelion_distance                  24000 non-null  float64\n",
      " 15  first_observation_date             24000 non-null  object \n",
      " 16  last_observation_date              24000 non-null  object \n",
      " 17  orbit_class_description            24000 non-null  object \n",
      "dtypes: bool(2), float64(5), int64(3), object(8)\n",
      "memory usage: 3.0+ MB\n"
     ]
    }
   ],
   "source": [
    "# info del dataset\n",
    "\n",
    "df_raw.info()"
   ]
  },
  {
   "cell_type": "markdown",
   "metadata": {},
   "source": [
    "Observar que hay datos faltantes en columnas como 'absolute_magnitude_h ' y 'name_limited'. En el segundo caso es porque NASA no le asigna nombres propios a todos los cuerpos"
   ]
  },
  {
   "cell_type": "code",
   "execution_count": 19,
   "metadata": {},
   "outputs": [],
   "source": [
    "# Drop de columna Unnamed (index de sobra)\n",
    "\n",
    "df_raw.drop(columns = ['Unnamed: 0'], inplace = True)"
   ]
  },
  {
   "cell_type": "code",
   "execution_count": 20,
   "metadata": {},
   "outputs": [
    {
     "data": {
      "text/html": [
       "<div>\n",
       "<style scoped>\n",
       "    .dataframe tbody tr th:only-of-type {\n",
       "        vertical-align: middle;\n",
       "    }\n",
       "\n",
       "    .dataframe tbody tr th {\n",
       "        vertical-align: top;\n",
       "    }\n",
       "\n",
       "    .dataframe thead th {\n",
       "        text-align: right;\n",
       "    }\n",
       "</style>\n",
       "<table border=\"1\" class=\"dataframe\">\n",
       "  <thead>\n",
       "    <tr style=\"text-align: right;\">\n",
       "      <th></th>\n",
       "      <th>id</th>\n",
       "      <th>neo_reference_id</th>\n",
       "      <th>absolute_magnitude_h</th>\n",
       "      <th>kilometers_estimated_diameter_min</th>\n",
       "      <th>kilometers_estimated_diameter_max</th>\n",
       "      <th>perihelion_distance</th>\n",
       "      <th>aphelion_distance</th>\n",
       "    </tr>\n",
       "  </thead>\n",
       "  <tbody>\n",
       "    <tr>\n",
       "      <th>count</th>\n",
       "      <td>2.400000e+04</td>\n",
       "      <td>2.400000e+04</td>\n",
       "      <td>23992.000000</td>\n",
       "      <td>23992.000000</td>\n",
       "      <td>23992.000000</td>\n",
       "      <td>24000.000000</td>\n",
       "      <td>24000.000000</td>\n",
       "    </tr>\n",
       "    <tr>\n",
       "      <th>mean</th>\n",
       "      <td>7.275111e+06</td>\n",
       "      <td>7.275111e+06</td>\n",
       "      <td>22.942274</td>\n",
       "      <td>0.167777</td>\n",
       "      <td>0.375160</td>\n",
       "      <td>0.915225</td>\n",
       "      <td>2.653104</td>\n",
       "    </tr>\n",
       "    <tr>\n",
       "      <th>std</th>\n",
       "      <td>1.333987e+07</td>\n",
       "      <td>1.333987e+07</td>\n",
       "      <td>2.952871</td>\n",
       "      <td>0.293000</td>\n",
       "      <td>0.655169</td>\n",
       "      <td>0.232201</td>\n",
       "      <td>4.468233</td>\n",
       "    </tr>\n",
       "    <tr>\n",
       "      <th>min</th>\n",
       "      <td>2.001981e+06</td>\n",
       "      <td>2.001981e+06</td>\n",
       "      <td>12.580000</td>\n",
       "      <td>0.000609</td>\n",
       "      <td>0.001362</td>\n",
       "      <td>0.070431</td>\n",
       "      <td>0.653754</td>\n",
       "    </tr>\n",
       "    <tr>\n",
       "      <th>25%</th>\n",
       "      <td>3.409962e+06</td>\n",
       "      <td>3.409962e+06</td>\n",
       "      <td>20.650000</td>\n",
       "      <td>0.024241</td>\n",
       "      <td>0.054205</td>\n",
       "      <td>0.785150</td>\n",
       "      <td>1.706281</td>\n",
       "    </tr>\n",
       "    <tr>\n",
       "      <th>50%</th>\n",
       "      <td>3.703790e+06</td>\n",
       "      <td>3.703790e+06</td>\n",
       "      <td>23.200000</td>\n",
       "      <td>0.060891</td>\n",
       "      <td>0.136157</td>\n",
       "      <td>0.965325</td>\n",
       "      <td>2.480109</td>\n",
       "    </tr>\n",
       "    <tr>\n",
       "      <th>75%</th>\n",
       "      <td>3.803897e+06</td>\n",
       "      <td>3.803897e+06</td>\n",
       "      <td>25.200000</td>\n",
       "      <td>0.197040</td>\n",
       "      <td>0.440595</td>\n",
       "      <td>1.068984</td>\n",
       "      <td>3.397965</td>\n",
       "    </tr>\n",
       "    <tr>\n",
       "      <th>max</th>\n",
       "      <td>5.408749e+07</td>\n",
       "      <td>5.408749e+07</td>\n",
       "      <td>33.200000</td>\n",
       "      <td>8.101305</td>\n",
       "      <td>18.115068</td>\n",
       "      <td>1.299988</td>\n",
       "      <td>631.895456</td>\n",
       "    </tr>\n",
       "  </tbody>\n",
       "</table>\n",
       "</div>"
      ],
      "text/plain": [
       "                 id  neo_reference_id  absolute_magnitude_h  \\\n",
       "count  2.400000e+04      2.400000e+04          23992.000000   \n",
       "mean   7.275111e+06      7.275111e+06             22.942274   \n",
       "std    1.333987e+07      1.333987e+07              2.952871   \n",
       "min    2.001981e+06      2.001981e+06             12.580000   \n",
       "25%    3.409962e+06      3.409962e+06             20.650000   \n",
       "50%    3.703790e+06      3.703790e+06             23.200000   \n",
       "75%    3.803897e+06      3.803897e+06             25.200000   \n",
       "max    5.408749e+07      5.408749e+07             33.200000   \n",
       "\n",
       "       kilometers_estimated_diameter_min  kilometers_estimated_diameter_max  \\\n",
       "count                       23992.000000                       23992.000000   \n",
       "mean                            0.167777                           0.375160   \n",
       "std                             0.293000                           0.655169   \n",
       "min                             0.000609                           0.001362   \n",
       "25%                             0.024241                           0.054205   \n",
       "50%                             0.060891                           0.136157   \n",
       "75%                             0.197040                           0.440595   \n",
       "max                             8.101305                          18.115068   \n",
       "\n",
       "       perihelion_distance  aphelion_distance  \n",
       "count         24000.000000       24000.000000  \n",
       "mean              0.915225           2.653104  \n",
       "std               0.232201           4.468233  \n",
       "min               0.070431           0.653754  \n",
       "25%               0.785150           1.706281  \n",
       "50%               0.965325           2.480109  \n",
       "75%               1.068984           3.397965  \n",
       "max               1.299988         631.895456  "
      ]
     },
     "execution_count": 20,
     "metadata": {},
     "output_type": "execute_result"
    }
   ],
   "source": [
    "df_raw.describe()"
   ]
  },
  {
   "cell_type": "code",
   "execution_count": 21,
   "metadata": {},
   "outputs": [
    {
     "data": {
      "text/html": [
       "<div>\n",
       "<style scoped>\n",
       "    .dataframe tbody tr th:only-of-type {\n",
       "        vertical-align: middle;\n",
       "    }\n",
       "\n",
       "    .dataframe tbody tr th {\n",
       "        vertical-align: top;\n",
       "    }\n",
       "\n",
       "    .dataframe thead th {\n",
       "        text-align: right;\n",
       "    }\n",
       "</style>\n",
       "<table border=\"1\" class=\"dataframe\">\n",
       "  <thead>\n",
       "    <tr style=\"text-align: right;\">\n",
       "      <th></th>\n",
       "      <th>name</th>\n",
       "      <th>name_limited</th>\n",
       "      <th>designation</th>\n",
       "      <th>is_potentially_hazardous_asteroid</th>\n",
       "      <th>is_sentry_object</th>\n",
       "      <th>orbit_id</th>\n",
       "      <th>orbit_class_type</th>\n",
       "      <th>first_observation_date</th>\n",
       "      <th>last_observation_date</th>\n",
       "      <th>orbit_class_description</th>\n",
       "    </tr>\n",
       "  </thead>\n",
       "  <tbody>\n",
       "    <tr>\n",
       "      <th>count</th>\n",
       "      <td>24000</td>\n",
       "      <td>144</td>\n",
       "      <td>24000</td>\n",
       "      <td>24000</td>\n",
       "      <td>24000</td>\n",
       "      <td>24000</td>\n",
       "      <td>24000</td>\n",
       "      <td>24000</td>\n",
       "      <td>24000</td>\n",
       "      <td>24000</td>\n",
       "    </tr>\n",
       "    <tr>\n",
       "      <th>unique</th>\n",
       "      <td>24000</td>\n",
       "      <td>144</td>\n",
       "      <td>24000</td>\n",
       "      <td>2</td>\n",
       "      <td>2</td>\n",
       "      <td>352</td>\n",
       "      <td>4</td>\n",
       "      <td>5964</td>\n",
       "      <td>5016</td>\n",
       "      <td>4</td>\n",
       "    </tr>\n",
       "    <tr>\n",
       "      <th>top</th>\n",
       "      <td>1981 Midas (1973 EA)</td>\n",
       "      <td>Midas</td>\n",
       "      <td>1981</td>\n",
       "      <td>False</td>\n",
       "      <td>False</td>\n",
       "      <td>7</td>\n",
       "      <td>APO</td>\n",
       "      <td>2014-04-23</td>\n",
       "      <td>2022-04-15</td>\n",
       "      <td>Near-Earth asteroid orbits which cross the Ear...</td>\n",
       "    </tr>\n",
       "    <tr>\n",
       "      <th>freq</th>\n",
       "      <td>1</td>\n",
       "      <td>1</td>\n",
       "      <td>1</td>\n",
       "      <td>21906</td>\n",
       "      <td>22934</td>\n",
       "      <td>1485</td>\n",
       "      <td>13245</td>\n",
       "      <td>67</td>\n",
       "      <td>40</td>\n",
       "      <td>13245</td>\n",
       "    </tr>\n",
       "  </tbody>\n",
       "</table>\n",
       "</div>"
      ],
      "text/plain": [
       "                        name name_limited designation  \\\n",
       "count                  24000          144       24000   \n",
       "unique                 24000          144       24000   \n",
       "top     1981 Midas (1973 EA)        Midas        1981   \n",
       "freq                       1            1           1   \n",
       "\n",
       "       is_potentially_hazardous_asteroid is_sentry_object orbit_id  \\\n",
       "count                              24000            24000    24000   \n",
       "unique                                 2                2      352   \n",
       "top                                False            False        7   \n",
       "freq                               21906            22934     1485   \n",
       "\n",
       "       orbit_class_type first_observation_date last_observation_date  \\\n",
       "count             24000                  24000                 24000   \n",
       "unique                4                   5964                  5016   \n",
       "top                 APO             2014-04-23            2022-04-15   \n",
       "freq              13245                     67                    40   \n",
       "\n",
       "                                  orbit_class_description  \n",
       "count                                               24000  \n",
       "unique                                                  4  \n",
       "top     Near-Earth asteroid orbits which cross the Ear...  \n",
       "freq                                                13245  "
      ]
     },
     "execution_count": 21,
     "metadata": {},
     "output_type": "execute_result"
    }
   ],
   "source": [
    "df_raw.describe(include = ['object','bool'])"
   ]
  },
  {
   "cell_type": "markdown",
   "metadata": {},
   "source": [
    "Podemos ver que la asignacion de nombres por parte de la NASA es unica, ya que en las columnas 'name', 'name_limited' y 'designation' tenemos todos valores unicos. Vamos a chequear tambien en la columna 'id' si se cumple"
   ]
  },
  {
   "cell_type": "code",
   "execution_count": 22,
   "metadata": {},
   "outputs": [
    {
     "data": {
      "text/plain": [
       "False"
      ]
     },
     "execution_count": 22,
     "metadata": {},
     "output_type": "execute_result"
    }
   ],
   "source": [
    "df_raw['id'].duplicated().any()"
   ]
  },
  {
   "cell_type": "code",
   "execution_count": 23,
   "metadata": {},
   "outputs": [
    {
     "data": {
      "text/html": [
       "<div>\n",
       "<style scoped>\n",
       "    .dataframe tbody tr th:only-of-type {\n",
       "        vertical-align: middle;\n",
       "    }\n",
       "\n",
       "    .dataframe tbody tr th {\n",
       "        vertical-align: top;\n",
       "    }\n",
       "\n",
       "    .dataframe thead th {\n",
       "        text-align: right;\n",
       "    }\n",
       "</style>\n",
       "<table border=\"1\" class=\"dataframe\">\n",
       "  <thead>\n",
       "    <tr style=\"text-align: right;\">\n",
       "      <th></th>\n",
       "      <th>id</th>\n",
       "      <th>neo_reference_id</th>\n",
       "      <th>name</th>\n",
       "      <th>name_limited</th>\n",
       "      <th>designation</th>\n",
       "      <th>absolute_magnitude_h</th>\n",
       "      <th>is_potentially_hazardous_asteroid</th>\n",
       "      <th>is_sentry_object</th>\n",
       "      <th>kilometers_estimated_diameter_min</th>\n",
       "      <th>kilometers_estimated_diameter_max</th>\n",
       "      <th>orbit_id</th>\n",
       "      <th>orbit_class_type</th>\n",
       "      <th>perihelion_distance</th>\n",
       "      <th>aphelion_distance</th>\n",
       "      <th>first_observation_date</th>\n",
       "      <th>last_observation_date</th>\n",
       "      <th>orbit_class_description</th>\n",
       "    </tr>\n",
       "  </thead>\n",
       "  <tbody>\n",
       "    <tr>\n",
       "      <th>9080</th>\n",
       "      <td>3604843</td>\n",
       "      <td>3604843</td>\n",
       "      <td>(2012 KO18)</td>\n",
       "      <td>NaN</td>\n",
       "      <td>2012 KO18</td>\n",
       "      <td>22.1</td>\n",
       "      <td>False</td>\n",
       "      <td>False</td>\n",
       "      <td>0.101054</td>\n",
       "      <td>0.225964</td>\n",
       "      <td>13</td>\n",
       "      <td>APO</td>\n",
       "      <td>0.756234</td>\n",
       "      <td>3.677622</td>\n",
       "      <td>2012-05-22</td>\n",
       "      <td>2012-06-03</td>\n",
       "      <td>Near-Earth asteroid orbits which cross the Ear...</td>\n",
       "    </tr>\n",
       "    <tr>\n",
       "      <th>15455</th>\n",
       "      <td>3766594</td>\n",
       "      <td>3766594</td>\n",
       "      <td>(2017 BY)</td>\n",
       "      <td>NaN</td>\n",
       "      <td>2017 BY</td>\n",
       "      <td>25.5</td>\n",
       "      <td>False</td>\n",
       "      <td>False</td>\n",
       "      <td>0.021113</td>\n",
       "      <td>0.047211</td>\n",
       "      <td>10</td>\n",
       "      <td>APO</td>\n",
       "      <td>0.928147</td>\n",
       "      <td>1.527232</td>\n",
       "      <td>2017-01-20</td>\n",
       "      <td>2017-02-18</td>\n",
       "      <td>Near-Earth asteroid orbits which cross the Ear...</td>\n",
       "    </tr>\n",
       "    <tr>\n",
       "      <th>3672</th>\n",
       "      <td>3137727</td>\n",
       "      <td>3137727</td>\n",
       "      <td>(2002 TX55)</td>\n",
       "      <td>NaN</td>\n",
       "      <td>2002 TX55</td>\n",
       "      <td>23.7</td>\n",
       "      <td>False</td>\n",
       "      <td>False</td>\n",
       "      <td>0.048368</td>\n",
       "      <td>0.108153</td>\n",
       "      <td>19</td>\n",
       "      <td>APO</td>\n",
       "      <td>0.955203</td>\n",
       "      <td>3.514228</td>\n",
       "      <td>2002-10-03</td>\n",
       "      <td>2012-11-16</td>\n",
       "      <td>Near-Earth asteroid orbits which cross the Ear...</td>\n",
       "    </tr>\n",
       "    <tr>\n",
       "      <th>4161</th>\n",
       "      <td>3249232</td>\n",
       "      <td>3249232</td>\n",
       "      <td>(2004 PY27)</td>\n",
       "      <td>NaN</td>\n",
       "      <td>2004 PY27</td>\n",
       "      <td>20.7</td>\n",
       "      <td>False</td>\n",
       "      <td>False</td>\n",
       "      <td>0.192555</td>\n",
       "      <td>0.430566</td>\n",
       "      <td>14</td>\n",
       "      <td>AMO</td>\n",
       "      <td>1.285156</td>\n",
       "      <td>3.320968</td>\n",
       "      <td>2004-08-09</td>\n",
       "      <td>2018-06-07</td>\n",
       "      <td>Near-Earth asteroid orbits similar to that of ...</td>\n",
       "    </tr>\n",
       "    <tr>\n",
       "      <th>2948</th>\n",
       "      <td>3092133</td>\n",
       "      <td>3092133</td>\n",
       "      <td>(1994 XM1)</td>\n",
       "      <td>NaN</td>\n",
       "      <td>1994 XM1</td>\n",
       "      <td>28.2</td>\n",
       "      <td>False</td>\n",
       "      <td>True</td>\n",
       "      <td>0.006089</td>\n",
       "      <td>0.013616</td>\n",
       "      <td>10</td>\n",
       "      <td>APO</td>\n",
       "      <td>0.896428</td>\n",
       "      <td>3.111956</td>\n",
       "      <td>1994-12-09</td>\n",
       "      <td>1994-12-09</td>\n",
       "      <td>Near-Earth asteroid orbits which cross the Ear...</td>\n",
       "    </tr>\n",
       "  </tbody>\n",
       "</table>\n",
       "</div>"
      ],
      "text/plain": [
       "            id  neo_reference_id         name name_limited designation  \\\n",
       "9080   3604843           3604843  (2012 KO18)          NaN   2012 KO18   \n",
       "15455  3766594           3766594    (2017 BY)          NaN     2017 BY   \n",
       "3672   3137727           3137727  (2002 TX55)          NaN   2002 TX55   \n",
       "4161   3249232           3249232  (2004 PY27)          NaN   2004 PY27   \n",
       "2948   3092133           3092133   (1994 XM1)          NaN    1994 XM1   \n",
       "\n",
       "       absolute_magnitude_h  is_potentially_hazardous_asteroid  \\\n",
       "9080                   22.1                              False   \n",
       "15455                  25.5                              False   \n",
       "3672                   23.7                              False   \n",
       "4161                   20.7                              False   \n",
       "2948                   28.2                              False   \n",
       "\n",
       "       is_sentry_object  kilometers_estimated_diameter_min  \\\n",
       "9080              False                           0.101054   \n",
       "15455             False                           0.021113   \n",
       "3672              False                           0.048368   \n",
       "4161              False                           0.192555   \n",
       "2948               True                           0.006089   \n",
       "\n",
       "       kilometers_estimated_diameter_max orbit_id orbit_class_type  \\\n",
       "9080                            0.225964       13              APO   \n",
       "15455                           0.047211       10              APO   \n",
       "3672                            0.108153       19              APO   \n",
       "4161                            0.430566       14              AMO   \n",
       "2948                            0.013616       10              APO   \n",
       "\n",
       "       perihelion_distance  aphelion_distance first_observation_date  \\\n",
       "9080              0.756234           3.677622             2012-05-22   \n",
       "15455             0.928147           1.527232             2017-01-20   \n",
       "3672              0.955203           3.514228             2002-10-03   \n",
       "4161              1.285156           3.320968             2004-08-09   \n",
       "2948              0.896428           3.111956             1994-12-09   \n",
       "\n",
       "      last_observation_date                            orbit_class_description  \n",
       "9080             2012-06-03  Near-Earth asteroid orbits which cross the Ear...  \n",
       "15455            2017-02-18  Near-Earth asteroid orbits which cross the Ear...  \n",
       "3672             2012-11-16  Near-Earth asteroid orbits which cross the Ear...  \n",
       "4161             2018-06-07  Near-Earth asteroid orbits similar to that of ...  \n",
       "2948             1994-12-09  Near-Earth asteroid orbits which cross the Ear...  "
      ]
     },
     "execution_count": 23,
     "metadata": {},
     "output_type": "execute_result"
    }
   ],
   "source": [
    "df_raw.sample(5)"
   ]
  },
  {
   "cell_type": "markdown",
   "metadata": {},
   "source": [
    "#### Observaciones\n",
    "\n",
    "- Las columnas 'id' y 'neo_reference_id' son identicas, asi que nos podemos quedar solo con una de ellas\n",
    "- La columna 'name_limited' es simplemente la extraccion del nombre propio del cuerpo (si es que lo tiene), dato que ya esta en la columna 'name', por lo que no nos presenta informacion relevante, mas alla de sacar la proporcion de cuerpos a los que la NASA le ha asignado un valor propio. \n",
    "- Algo similar sucede con la columna 'designation', la cual tambien es una parte del nombre oficial establecido, y el dato completo del nombre esta en la columna 'name'"
   ]
  },
  {
   "cell_type": "code",
   "execution_count": 24,
   "metadata": {},
   "outputs": [],
   "source": [
    "df_raw.drop(columns = ['neo_reference_id', 'name_limited', 'designation'], inplace = True)"
   ]
  },
  {
   "cell_type": "markdown",
   "metadata": {},
   "source": [
    "## EDA"
   ]
  },
  {
   "cell_type": "code",
   "execution_count": 29,
   "metadata": {},
   "outputs": [],
   "source": [
    "y = df_raw['is_potentially_hazardous_asteroid']\n",
    "X = df_raw.drop(columns = ['is_potentially_hazardous_asteroid'])\n",
    "\n",
    "X_train, X_rem, y_train, y_rem = train_test_split(X,y, train_size=0.8, random_state=42)\n",
    "X_valid, X_test, y_valid, y_test = train_test_split(X_rem,y_rem, test_size=0.5, random_state=42)\n",
    "\n",
    "# Para trabajar en el eda\n",
    "X_united = pd.concat([X_train, X_valid])\n",
    "y_united = pd.concat([y_train, y_valid])\n",
    "df_united = pd.concat([X_united, y_united], axis=1)"
   ]
  },
  {
   "cell_type": "markdown",
   "metadata": {},
   "source": [
    "### Distribución de variables categoricas"
   ]
  },
  {
   "cell_type": "code",
   "execution_count": 30,
   "metadata": {},
   "outputs": [
    {
     "data": {
      "image/png": "[encoded data removed]",
      "text/plain": [
       "<Figure size 432x288 with 1 Axes>"
      ]
     },
     "metadata": {
      "needs_background": "light"
     },
     "output_type": "display_data"
    }
   ],
   "source": [
    "# is_potentially_hazardous_asteroid\n",
    "\n",
    "ax = sns.countplot(x = df_united['is_potentially_hazardous_asteroid'])\n",
    "ax.bar_label(ax.containers[0])\n",
    "plt.title('Proporcion True/False en la columna is_potentially_hazardous_asteroid')\n",
    "plt.show()"
   ]
  },
  {
   "cell_type": "code",
   "execution_count": 31,
   "metadata": {},
   "outputs": [
    {
     "data": {
      "image/png": "[encoded data removed]",
      "text/plain": [
       "<Figure size 432x288 with 1 Axes>"
      ]
     },
     "metadata": {
      "needs_background": "light"
     },
     "output_type": "display_data"
    }
   ],
   "source": [
    "# is_sentry_object\n",
    "\n",
    "ax = sns.countplot(x = df_united['is_sentry_object'])\n",
    "ax.bar_label(ax.containers[0])\n",
    "plt.title('Proporcion True/False en la columna is_sentry_object')\n",
    "plt.show()"
   ]
  },
  {
   "cell_type": "code",
   "execution_count": 32,
   "metadata": {},
   "outputs": [
    {
     "data": {
      "image/png": "[encoded data removed]",
      "text/plain": [
       "<Figure size 432x288 with 1 Axes>"
      ]
     },
     "metadata": {
      "needs_background": "light"
     },
     "output_type": "display_data"
    }
   ],
   "source": [
    "ax = sns.countplot(data = df_united, x = 'is_sentry_object', hue = 'is_potentially_hazardous_asteroid')\n",
    "ax.bar_label(ax.containers[0])\n",
    "ax.bar_label(ax.containers[1])\n",
    "plt.title('Proporcion True/False en la columna is_sentry_object, separado is_potentially_hazardous_asteroid')\n",
    "plt.show()"
   ]
  },
  {
   "cell_type": "markdown",
   "metadata": {},
   "source": [
    "Hay registros que son potencialmente peligrosos, pero que no se encuentran en el sistema de monitoreo Sentry"
   ]
  },
  {
   "cell_type": "code",
   "execution_count": 33,
   "metadata": {},
   "outputs": [
    {
     "data": {
      "image/png": "[encoded data removed]",
      "text/plain": [
       "<Figure size 432x288 with 1 Axes>"
      ]
     },
     "metadata": {
      "needs_background": "light"
     },
     "output_type": "display_data"
    }
   ],
   "source": [
    "# Distribucion de categorias en columna 'orbit_class_type'\n",
    "\n",
    "ax = sns.countplot(x = df_united['orbit_class_type'])\n",
    "ax.bar_label(ax.containers[0])\n",
    "plt.title('Proporciones en la columna orbit_class_type')\n",
    "plt.show()"
   ]
  },
  {
   "cell_type": "code",
   "execution_count": 34,
   "metadata": {},
   "outputs": [
    {
     "data": {
      "image/png": "[encoded data removed]",
      "text/plain": [
       "<Figure size 432x288 with 1 Axes>"
      ]
     },
     "metadata": {
      "needs_background": "light"
     },
     "output_type": "display_data"
    }
   ],
   "source": [
    "ax = sns.countplot(data = df_united, x = 'orbit_class_type', hue = 'is_potentially_hazardous_asteroid')\n",
    "ax.bar_label(ax.containers[0])\n",
    "ax.bar_label(ax.containers[1])\n",
    "plt.title('Proporciones en la columna orbit_class_type, separado por is_potentially_hazardous_asteroid')\n",
    "plt.show()"
   ]
  },
  {
   "cell_type": "markdown",
   "metadata": {},
   "source": [
    "### Distribución de variables continuas"
   ]
  },
  {
   "cell_type": "code",
   "execution_count": 37,
   "metadata": {},
   "outputs": [
    {
     "data": {
      "image/png": "[encoded data removed]",
      "text/plain": [
       "<Figure size 432x288 with 1 Axes>"
      ]
     },
     "metadata": {
      "needs_background": "light"
     },
     "output_type": "display_data"
    }
   ],
   "source": [
    "# Distribucion de valores de la columna 'absolute_magnitude_h'\n",
    "\n",
    "df_united['absolute_magnitude_h'].hist(bins = 20)\n",
    "plt.show()"
   ]
  },
  {
   "cell_type": "code",
   "execution_count": 36,
   "metadata": {},
   "outputs": [
    {
     "data": {
      "image/png": "[encoded data removed]",
      "text/plain": [
       "<Figure size 432x288 with 1 Axes>"
      ]
     },
     "metadata": {
      "needs_background": "light"
     },
     "output_type": "display_data"
    }
   ],
   "source": [
    "# Distribucion de valorea de la columna 'kilometers_estimated_diameter_min'\n",
    "\n",
    "df_united['kilometers_estimated_diameter_min'].hist(bins=50)\n",
    "plt.show()\n",
    "\n",
    "# El mayor valor registrado es 8.1013048824"
   ]
  },
  {
   "cell_type": "markdown",
   "metadata": {},
   "source": [
    "Se acotan superiormente los valores de la columna para graficar y ver mejor la distribución, ya que presenta un marcado sesgo positivo"
   ]
  },
  {
   "cell_type": "code",
   "execution_count": 154,
   "metadata": {},
   "outputs": [
    {
     "data": {
      "image/png": "[encoded data removed]",
      "text/plain": [
       "<Figure size 432x288 with 1 Axes>"
      ]
     },
     "metadata": {
      "needs_background": "light"
     },
     "output_type": "display_data"
    }
   ],
   "source": [
    "\n",
    "df_united[df_united['kilometers_estimated_diameter_min'] < 2]['kilometers_estimated_diameter_min'].hist(bins=20)\n",
    "plt.show()"
   ]
  },
  {
   "cell_type": "code",
   "execution_count": 95,
   "metadata": {},
   "outputs": [
    {
     "data": {
      "image/png": "[encoded data removed]",
      "text/plain": [
       "<Figure size 432x288 with 1 Axes>"
      ]
     },
     "metadata": {
      "needs_background": "light"
     },
     "output_type": "display_data"
    }
   ],
   "source": [
    "# distribucion de valores de la columna 'kilometers_estimated_diameter_max'\n",
    "\n",
    "df_united['kilometers_estimated_diameter_max'].hist(bins=50)\n",
    "plt.show()\n",
    "\n",
    "# El mayor valor registrado es 18.1150684236"
   ]
  },
  {
   "cell_type": "markdown",
   "metadata": {},
   "source": [
    "Igual que antes, se acotan los valores para poder apreciar mejor la grafica, debido al marcado sesgo positivo de la distribución"
   ]
  },
  {
   "cell_type": "code",
   "execution_count": 155,
   "metadata": {},
   "outputs": [
    {
     "data": {
      "image/png": "[encoded data removed]",
      "text/plain": [
       "<Figure size 432x288 with 1 Axes>"
      ]
     },
     "metadata": {
      "needs_background": "light"
     },
     "output_type": "display_data"
    }
   ],
   "source": [
    "\n",
    "df_united[df_united['kilometers_estimated_diameter_max'] < 2]['kilometers_estimated_diameter_max'].hist(bins=20)\n",
    "plt.show()"
   ]
  },
  {
   "cell_type": "code",
   "execution_count": 97,
   "metadata": {},
   "outputs": [
    {
     "data": {
      "image/png": "[encoded data removed]",
      "text/plain": [
       "<Figure size 432x288 with 1 Axes>"
      ]
     },
     "metadata": {
      "needs_background": "light"
     },
     "output_type": "display_data"
    }
   ],
   "source": [
    "# Distribucion de valores de la columna 'perihelion_distance'\n",
    "\n",
    "df_united['perihelion_distance'].hist(bins=20)\n",
    "plt.show()\n",
    "\n",
    "# La distribucion de esta columna en cambio presenta sesgo negativo"
   ]
  },
  {
   "cell_type": "code",
   "execution_count": 98,
   "metadata": {},
   "outputs": [
    {
     "data": {
      "image/png": "[encoded data removed]",
      "text/plain": [
       "<Figure size 432x288 with 1 Axes>"
      ]
     },
     "metadata": {
      "needs_background": "light"
     },
     "output_type": "display_data"
    }
   ],
   "source": [
    "# Distribucion de valores de la columna 'aphelion_distance'\n",
    "\n",
    "df_united['aphelion_distance'].hist(bins=20)\n",
    "plt.show()\n",
    "\n",
    "# El vmayor valor registrado es 631.8954563363584"
   ]
  },
  {
   "cell_type": "markdown",
   "metadata": {},
   "source": [
    "Se acotan los valores de la columna para poder apreciar mejor la distribución"
   ]
  },
  {
   "cell_type": "code",
   "execution_count": 156,
   "metadata": {},
   "outputs": [
    {
     "data": {
      "image/png": "[encoded data removed]",
      "text/plain": [
       "<Figure size 432x288 with 1 Axes>"
      ]
     },
     "metadata": {
      "needs_background": "light"
     },
     "output_type": "display_data"
    }
   ],
   "source": [
    "\n",
    "df_united[df_united['aphelion_distance'] < 10]['aphelion_distance'].hist(bins=20)\n",
    "plt.show()"
   ]
  },
  {
   "cell_type": "markdown",
   "metadata": {},
   "source": [
    "Efectivamente esta distribucion tambien presenta sesgo positivo"
   ]
  },
  {
   "cell_type": "markdown",
   "metadata": {},
   "source": [
    "## Transformacion de datos\n",
    "\n",
    "- Vamos a convertir a datatime dtype a las columnas 'first_observation_date' y 'last_observation_date'\n",
    "\n",
    "- Las columnas 'is_potentially_hazardous_asteroid' y 'is_sentry_object' se encodean en 0 y 1\n",
    "\n",
    "- La columna 'orbit_class_type' puede encodearse en 0, 1, 2 y 3 por tener 4 categorias diferentes\n",
    "\n",
    "- La columnas 'orbit_id' podrían pasarse a tipo numerico, verificarlo\n",
    "\n",
    "- Analizar columna 'orbit_class_description'\n",
    "\n",
    "- Analizar columnas 'kilometers_estimated_diameter_min' y 'kilometers_estimated_diameter_max' para evaluar si las podemos condensar en una sola\n",
    "\n",
    "- Estandarizar todas las variables continuas (MinMaxScaler)\n",
    "\n",
    "- Transformar variables de kilometros a metros"
   ]
  },
  {
   "cell_type": "code",
   "execution_count": 41,
   "metadata": {},
   "outputs": [],
   "source": [
    "# X_train['first_observation_date'] = pd.to_datetime(X_train['first_observation_date']) - Error: Unknown string format: 2008-??-??\n"
   ]
  },
  {
   "cell_type": "markdown",
   "metadata": {},
   "source": [
    "\n",
    "Hay un valor en la columna 'first_observation_date' que vale '2008-??-??', por lo cual no es posible convertirlo a datetime tipo de dato. Entonces procedemos a borrar ese registro"
   ]
  },
  {
   "cell_type": "code",
   "execution_count": 42,
   "metadata": {},
   "outputs": [
    {
     "data": {
      "text/html": [
       "<div>\n",
       "<style scoped>\n",
       "    .dataframe tbody tr th:only-of-type {\n",
       "        vertical-align: middle;\n",
       "    }\n",
       "\n",
       "    .dataframe tbody tr th {\n",
       "        vertical-align: top;\n",
       "    }\n",
       "\n",
       "    .dataframe thead th {\n",
       "        text-align: right;\n",
       "    }\n",
       "</style>\n",
       "<table border=\"1\" class=\"dataframe\">\n",
       "  <thead>\n",
       "    <tr style=\"text-align: right;\">\n",
       "      <th></th>\n",
       "      <th>id</th>\n",
       "      <th>name</th>\n",
       "      <th>absolute_magnitude_h</th>\n",
       "      <th>is_sentry_object</th>\n",
       "      <th>kilometers_estimated_diameter_min</th>\n",
       "      <th>kilometers_estimated_diameter_max</th>\n",
       "      <th>orbit_id</th>\n",
       "      <th>orbit_class_type</th>\n",
       "      <th>perihelion_distance</th>\n",
       "      <th>aphelion_distance</th>\n",
       "      <th>first_observation_date</th>\n",
       "      <th>last_observation_date</th>\n",
       "      <th>orbit_class_description</th>\n",
       "    </tr>\n",
       "  </thead>\n",
       "  <tbody>\n",
       "    <tr>\n",
       "      <th>20702</th>\n",
       "      <td>3843794</td>\n",
       "      <td>(2019 RN1)</td>\n",
       "      <td>20.6</td>\n",
       "      <td>False</td>\n",
       "      <td>0.20163</td>\n",
       "      <td>0.450858</td>\n",
       "      <td>MPO508629</td>\n",
       "      <td>AMO</td>\n",
       "      <td>1.077174</td>\n",
       "      <td>1.865083</td>\n",
       "      <td>2008-??-??</td>\n",
       "      <td>2019-09-06</td>\n",
       "      <td>Near-Earth asteroid orbits similar to that of ...</td>\n",
       "    </tr>\n",
       "  </tbody>\n",
       "</table>\n",
       "</div>"
      ],
      "text/plain": [
       "            id        name  absolute_magnitude_h  is_sentry_object  \\\n",
       "20702  3843794  (2019 RN1)                  20.6             False   \n",
       "\n",
       "       kilometers_estimated_diameter_min  kilometers_estimated_diameter_max  \\\n",
       "20702                            0.20163                           0.450858   \n",
       "\n",
       "        orbit_id orbit_class_type  perihelion_distance  aphelion_distance  \\\n",
       "20702  MPO508629              AMO             1.077174           1.865083   \n",
       "\n",
       "      first_observation_date last_observation_date  \\\n",
       "20702             2008-??-??            2019-09-06   \n",
       "\n",
       "                                 orbit_class_description  \n",
       "20702  Near-Earth asteroid orbits similar to that of ...  "
      ]
     },
     "execution_count": 42,
     "metadata": {},
     "output_type": "execute_result"
    }
   ],
   "source": [
    "X_train[X_train['first_observation_date'] == '2008-??-??']\n"
   ]
  },
  {
   "cell_type": "markdown",
   "metadata": {},
   "source": [
    "\n",
    "El registro a eliminar corresponde a la categoria mayoritaria de la columna 'is_potentially_hazardous_asteroid' "
   ]
  },
  {
   "cell_type": "code",
   "execution_count": 43,
   "metadata": {},
   "outputs": [],
   "source": [
    "X_train = X_train.drop(X_train[X_train['first_observation_date'] == '2008-??-??'].index[0])"
   ]
  },
  {
   "cell_type": "markdown",
   "metadata": {},
   "source": [
    "Transformando a datetime tipo de dato"
   ]
  },
  {
   "cell_type": "code",
   "execution_count": null,
   "metadata": {},
   "outputs": [],
   "source": [
    "X_train['first_observation_date'] = pd.to_datetime(X_train['first_observation_date'])\n",
    "X_train['last_observation_date'] = pd.to_datetime(X_train['last_observation_date'])\n",
    "\n",
    "X_valid['first_observation_date'] = pd.to_datetime(X_valid['first_observation_date'])\n",
    "X_valid['last_observation_date'] = pd.to_datetime(X_valid['last_observation_date'])\n",
    "\n",
    "X_test['first_observation_date'] = pd.to_datetime(X_valid['first_observation_date'])\n",
    "X_test['last_observation_date'] = pd.to_datetime(X_valid['last_observation_date'])"
   ]
  },
  {
   "cell_type": "markdown",
   "metadata": {},
   "source": [
    "Transformacion a 0 y 1 de las columnas 'is_potentially_hazardous_asteroid' y 'is_sentry_object'"
   ]
  },
  {
   "cell_type": "code",
   "execution_count": null,
   "metadata": {},
   "outputs": [],
   "source": [
    "df_raw['is_potentially_hazardous_asteroid'] = pd.Categorical(df_raw['is_potentially_hazardous_asteroid'])\n",
    "df_raw['is_potentially_hazardous_asteroid'] = df_raw['is_potentially_hazardous_asteroid'].cat.codes\n",
    "\n",
    "df_raw['is_sentry_object'] = pd.Categorical(df_raw['is_sentry_object'])\n",
    "df_raw['is_sentry_object'] = df_raw['is_sentry_object'].cat.codes"
   ]
  },
  {
   "cell_type": "markdown",
   "metadata": {},
   "source": [
    "Transformando las categorias de 'orbit_class_type' a 0, 1, 2 y 3"
   ]
  },
  {
   "cell_type": "code",
   "execution_count": null,
   "metadata": {},
   "outputs": [],
   "source": [
    "df_raw['orbit_class_type'] = pd.Categorical(df_raw['orbit_class_type'])\n",
    "df_raw['orbit_class_type'] = df_raw['orbit_class_type'].cat.codes"
   ]
  },
  {
   "cell_type": "markdown",
   "metadata": {},
   "source": [
    "Verificando valores de la columna 'orbit_id' para analizar"
   ]
  },
  {
   "cell_type": "code",
   "execution_count": 159,
   "metadata": {},
   "outputs": [
    {
     "data": {
      "text/plain": [
       "22448     2\n",
       "23542     3\n",
       "4490      8\n",
       "22135     2\n",
       "9384     19\n",
       "9927      6\n",
       "15195     4\n",
       "10731    12\n",
       "9981     14\n",
       "6274     17\n",
       "Name: orbit_id, dtype: object"
      ]
     },
     "execution_count": 159,
     "metadata": {},
     "output_type": "execute_result"
    }
   ],
   "source": [
    "df_raw['orbit_id'].sample(10)"
   ]
  },
  {
   "cell_type": "markdown",
   "metadata": {},
   "source": [
    "Se chequea si todos los valores de esta columna son numéricos"
   ]
  },
  {
   "cell_type": "code",
   "execution_count": 160,
   "metadata": {},
   "outputs": [
    {
     "data": {
      "text/html": [
       "<div>\n",
       "<style scoped>\n",
       "    .dataframe tbody tr th:only-of-type {\n",
       "        vertical-align: middle;\n",
       "    }\n",
       "\n",
       "    .dataframe tbody tr th {\n",
       "        vertical-align: top;\n",
       "    }\n",
       "\n",
       "    .dataframe thead th {\n",
       "        text-align: right;\n",
       "    }\n",
       "</style>\n",
       "<table border=\"1\" class=\"dataframe\">\n",
       "  <thead>\n",
       "    <tr style=\"text-align: right;\">\n",
       "      <th></th>\n",
       "      <th>id</th>\n",
       "      <th>name</th>\n",
       "      <th>absolute_magnitude_h</th>\n",
       "      <th>is_potentially_hazardous_asteroid</th>\n",
       "      <th>is_sentry_object</th>\n",
       "      <th>kilometers_estimated_diameter_min</th>\n",
       "      <th>kilometers_estimated_diameter_max</th>\n",
       "      <th>orbit_id</th>\n",
       "      <th>orbit_class_type</th>\n",
       "      <th>perihelion_distance</th>\n",
       "      <th>aphelion_distance</th>\n",
       "      <th>first_observation_date</th>\n",
       "      <th>last_observation_date</th>\n",
       "      <th>orbit_class_description</th>\n",
       "    </tr>\n",
       "  </thead>\n",
       "  <tbody>\n",
       "    <tr>\n",
       "      <th>10055</th>\n",
       "      <td>3645194</td>\n",
       "      <td>(2013 NE24)</td>\n",
       "      <td>27.3</td>\n",
       "      <td>False</td>\n",
       "      <td>False</td>\n",
       "      <td>0.009216</td>\n",
       "      <td>0.020608</td>\n",
       "      <td>E2021-CI3</td>\n",
       "      <td>1</td>\n",
       "      <td>0.944657</td>\n",
       "      <td>4.634736</td>\n",
       "      <td>2013-07-14</td>\n",
       "      <td>2013-07-15</td>\n",
       "      <td>Near-Earth asteroid orbits which cross the Ear...</td>\n",
       "    </tr>\n",
       "    <tr>\n",
       "      <th>14813</th>\n",
       "      <td>3759689</td>\n",
       "      <td>(2016 RM41)</td>\n",
       "      <td>25.3</td>\n",
       "      <td>False</td>\n",
       "      <td>False</td>\n",
       "      <td>0.023150</td>\n",
       "      <td>0.051765</td>\n",
       "      <td>MPO392510</td>\n",
       "      <td>0</td>\n",
       "      <td>1.050360</td>\n",
       "      <td>4.923787</td>\n",
       "      <td>2016-09-10</td>\n",
       "      <td>2016-09-11</td>\n",
       "      <td>Near-Earth asteroid orbits similar to that of ...</td>\n",
       "    </tr>\n",
       "    <tr>\n",
       "      <th>20702</th>\n",
       "      <td>3843794</td>\n",
       "      <td>(2019 RN1)</td>\n",
       "      <td>20.6</td>\n",
       "      <td>False</td>\n",
       "      <td>False</td>\n",
       "      <td>0.201630</td>\n",
       "      <td>0.450858</td>\n",
       "      <td>MPO508629</td>\n",
       "      <td>0</td>\n",
       "      <td>1.077174</td>\n",
       "      <td>1.865083</td>\n",
       "      <td>2008-??-??</td>\n",
       "      <td>2019-09-06</td>\n",
       "      <td>Near-Earth asteroid orbits similar to that of ...</td>\n",
       "    </tr>\n",
       "  </tbody>\n",
       "</table>\n",
       "</div>"
      ],
      "text/plain": [
       "            id         name  absolute_magnitude_h  \\\n",
       "10055  3645194  (2013 NE24)                  27.3   \n",
       "14813  3759689  (2016 RM41)                  25.3   \n",
       "20702  3843794   (2019 RN1)                  20.6   \n",
       "\n",
       "       is_potentially_hazardous_asteroid  is_sentry_object  \\\n",
       "10055                              False             False   \n",
       "14813                              False             False   \n",
       "20702                              False             False   \n",
       "\n",
       "       kilometers_estimated_diameter_min  kilometers_estimated_diameter_max  \\\n",
       "10055                           0.009216                           0.020608   \n",
       "14813                           0.023150                           0.051765   \n",
       "20702                           0.201630                           0.450858   \n",
       "\n",
       "        orbit_id  orbit_class_type  perihelion_distance  aphelion_distance  \\\n",
       "10055  E2021-CI3                 1             0.944657           4.634736   \n",
       "14813  MPO392510                 0             1.050360           4.923787   \n",
       "20702  MPO508629                 0             1.077174           1.865083   \n",
       "\n",
       "      first_observation_date last_observation_date  \\\n",
       "10055             2013-07-14            2013-07-15   \n",
       "14813             2016-09-10            2016-09-11   \n",
       "20702             2008-??-??            2019-09-06   \n",
       "\n",
       "                                 orbit_class_description  \n",
       "10055  Near-Earth asteroid orbits which cross the Ear...  \n",
       "14813  Near-Earth asteroid orbits similar to that of ...  \n",
       "20702  Near-Earth asteroid orbits similar to that of ...  "
      ]
     },
     "execution_count": 160,
     "metadata": {},
     "output_type": "execute_result"
    }
   ],
   "source": [
    "df_raw[np.logical_not(df_raw['orbit_id'].str.isnumeric())]\n"
   ]
  },
  {
   "cell_type": "markdown",
   "metadata": {},
   "source": [
    "El dataset contiene solamente dos valores no numericos en la columna orbit_id, y ademas pertenecen a la categoria mayoritaria de nuestro target, por lo que podemos eliminarlas"
   ]
  },
  {
   "cell_type": "code",
   "execution_count": 161,
   "metadata": {},
   "outputs": [
    {
     "name": "stderr",
     "output_type": "stream",
     "text": [
      "\n",
      "KeyboardInterrupt\n",
      "\n"
     ]
    }
   ],
   "source": [
    "df_raw = df_raw.drop(df_raw[df_raw['orbit_id'] == 'E2021-CI3'].index[0])\n",
    "df_raw = df_raw.drop(df_raw[df_raw['orbit_id'] == 'MPO392510'].index[0])\n",
    "\n",
    "df_raw['orbit_id'] = pd.to_numeric(df_raw['orbit_id'])"
   ]
  },
  {
   "cell_type": "markdown",
   "metadata": {},
   "source": [
    "Terminar de transformar a cateorica las columnas 'name' y 'orbit_class_description'"
   ]
  },
  {
   "cell_type": "code",
   "execution_count": null,
   "metadata": {},
   "outputs": [],
   "source": [
    "\n",
    "df_raw['name'] = pd.Categorical(df_raw['name'])\n",
    "df_raw['orbit_class_description'] = pd.Categorical(df_raw['orbit_class_description'])"
   ]
  },
  {
   "cell_type": "markdown",
   "metadata": {},
   "source": [
    "Vamos a hacer un analisis de la columna 'orbit_class_description' para observar las descripciones y evaluar si pueden haber aportes valiosos de informacion"
   ]
  },
  {
   "cell_type": "code",
   "execution_count": null,
   "metadata": {},
   "outputs": [
    {
     "data": {
      "text/plain": [
       "array(['Near-Earth asteroid orbits which cross the Earth’s orbit similar to that of 1862 Apollo',\n",
       "       'Near-Earth asteroid orbits similar to that of 1221 Amor',\n",
       "       'Near-Earth asteroid orbits similar to that of 2062 Aten',\n",
       "       'An asteroid orbit contained entirely within the orbit of the Earth - Interior Earth Object'],\n",
       "      dtype=object)"
      ]
     },
     "execution_count": 157,
     "metadata": {},
     "output_type": "execute_result"
    }
   ],
   "source": [
    "\n",
    "df_raw['orbit_class_description'].unique()"
   ]
  },
  {
   "cell_type": "markdown",
   "metadata": {},
   "source": [
    "La columna solo contiene 4 tipos de descripciones, entonces vamos a encodearla"
   ]
  },
  {
   "cell_type": "code",
   "execution_count": null,
   "metadata": {},
   "outputs": [],
   "source": [
    "\n",
    "df_raw['orbit_class_description'] = pd.Categorical(df_raw['orbit_class_description'])\n",
    "df_raw['orbit_class_description'] = df_raw['orbit_class_description'].cat.codes"
   ]
  },
  {
   "cell_type": "markdown",
   "metadata": {},
   "source": [
    "Procedemos a transformar las variables que estan en kilometros a metros"
   ]
  },
  {
   "cell_type": "code",
   "execution_count": 60,
   "metadata": {},
   "outputs": [],
   "source": [
    "df_raw['kilometers_estimated_diameter_min'] = df_raw['kilometers_estimated_diameter_min']*1000\n",
    "df_raw['kilometers_estimated_diameter_max'] = df_raw['kilometers_estimated_diameter_max']*1000\n",
    "\n",
    "df_raw.rename(columns = {'kilometers_estimated_diameter_min':'meters_estimated_diameter_min'}, inplace = True)\n",
    "df_raw.rename(columns = {'kilometers_estimated_diameter_max':'meters_estimated_diameter_max'}, inplace = True)"
   ]
  },
  {
   "cell_type": "markdown",
   "metadata": {},
   "source": [
    "Vamos a introducir una nueva variable, calculada a partir del diámetro. Esta será el volumen del cuerpo, aproximando su forma a un elipsoide  \n",
    "(volumen_elipsoide = (4/3) * $\\pi$ * a * b * c)"
   ]
  },
  {
   "cell_type": "code",
   "execution_count": 50,
   "metadata": {},
   "outputs": [],
   "source": [
    "import math\n",
    "\n",
    "df_raw['volume (m^3)'] = (4/3)*math.pi*((df_raw['kilometers_estimated_diameter_min']/2)**2)*(df_raw['kilometers_estimated_diameter_max']/2)"
   ]
  },
  {
   "cell_type": "code",
   "execution_count": 64,
   "metadata": {},
   "outputs": [
    {
     "data": {
      "text/plain": [
       "count    2.399200e+04\n",
       "mean     2.304462e+08\n",
       "std      5.139744e+09\n",
       "min      2.643313e-01\n",
       "25%      1.667818e+04\n",
       "50%      2.643313e+05\n",
       "75%      8.956711e+06\n",
       "max      6.225132e+11\n",
       "Name: volume (m^3), dtype: float64"
      ]
     },
     "execution_count": 64,
     "metadata": {},
     "output_type": "execute_result"
    }
   ],
   "source": [
    "df_raw['volume (m^3)'].describe()"
   ]
  },
  {
   "cell_type": "code",
   "execution_count": null,
   "metadata": {},
   "outputs": [
    {
     "name": "stdout",
     "output_type": "stream",
     "text": [
      "<class 'pandas.core.frame.DataFrame'>\n",
      "Int64Index: 23997 entries, 0 to 23999\n",
      "Data columns (total 14 columns):\n",
      " #   Column                             Non-Null Count  Dtype         \n",
      "---  ------                             --------------  -----         \n",
      " 0   id                                 23997 non-null  int64         \n",
      " 1   name                               23997 non-null  category      \n",
      " 2   absolute_magnitude_h               23989 non-null  float64       \n",
      " 3   is_potentially_hazardous_asteroid  23997 non-null  int8          \n",
      " 4   is_sentry_object                   23997 non-null  int8          \n",
      " 5   kilometers_estimated_diameter_min  23989 non-null  float64       \n",
      " 6   kilometers_estimated_diameter_max  23989 non-null  float64       \n",
      " 7   orbit_id                           23997 non-null  int64         \n",
      " 8   orbit_class_type                   23997 non-null  int8          \n",
      " 9   perihelion_distance                23997 non-null  float64       \n",
      " 10  aphelion_distance                  23997 non-null  float64       \n",
      " 11  first_observation_date             23997 non-null  datetime64[ns]\n",
      " 12  last_observation_date              23997 non-null  datetime64[ns]\n",
      " 13  orbit_class_description            23997 non-null  category      \n",
      "dtypes: category(2), datetime64[ns](2), float64(5), int64(2), int8(3)\n",
      "memory usage: 2.7 MB\n"
     ]
    }
   ],
   "source": [
    "df_raw.info()"
   ]
  },
  {
   "cell_type": "code",
   "execution_count": 72,
   "metadata": {},
   "outputs": [
    {
     "data": {
      "image/png": "[encoded data removed]",
      "text/plain": [
       "<Figure size 864x720 with 2 Axes>"
      ]
     },
     "metadata": {
      "needs_background": "light"
     },
     "output_type": "display_data"
    }
   ],
   "source": [
    "# Correlaciones\n",
    "\n",
    "fig, ax = plt.subplots(figsize = (12,10))\n",
    "sns.heatmap(df_raw.corr(), annot = True, ax=ax)\n",
    "plt.show()"
   ]
  },
  {
   "cell_type": "code",
   "execution_count": null,
   "metadata": {},
   "outputs": [
    {
     "data": {
      "image/png": "[encoded data removed]",
      "text/plain": [
       "<Figure size 864x720 with 2 Axes>"
      ]
     },
     "metadata": {
      "needs_background": "light"
     },
     "output_type": "display_data"
    }
   ],
   "source": [
    "# Buscar correlaciones con columnas de identificacion (id y orbit_id) no tiene sentido asi que volvemos a hacer la correlacion sin ellas\n",
    "\n",
    "df_wo_ids = df_raw.drop(columns = ['id', 'orbit_id'])\n",
    "\n",
    "fig, ax = plt.subplots(figsize = (12,10))\n",
    "sns.heatmap(df_wo_ids.corr(), annot = True, ax=ax)\n",
    "plt.show()"
   ]
  },
  {
   "cell_type": "markdown",
   "metadata": {},
   "source": [
    "Las columnas 'meters_estimated_diameter_min' y 'meters_estimated_diameter_max' presentan las mismas correlaciones con las demas variables. Como el dataset esta desbalanceado, vamos a estudiar por separado que sucede con los registros donde el target es true y por otra parte con los que son false."
   ]
  },
  {
   "cell_type": "code",
   "execution_count": 73,
   "metadata": {},
   "outputs": [
    {
     "data": {
      "text/plain": [
       "412.4365306006689"
      ]
     },
     "execution_count": 73,
     "metadata": {},
     "output_type": "execute_result"
    }
   ],
   "source": [
    "diff_true = df_raw[df_raw['is_potentially_hazardous_asteroid'] == True]['meters_estimated_diameter_max'] - df_raw[df_raw['is_potentially_hazardous_asteroid'] == True]['meters_estimated_diameter_min']\n",
    "diff_true.mean()"
   ]
  },
  {
   "cell_type": "code",
   "execution_count": 74,
   "metadata": {},
   "outputs": [
    {
     "data": {
      "text/plain": [
       "187.78564559605005"
      ]
     },
     "execution_count": 74,
     "metadata": {},
     "output_type": "execute_result"
    }
   ],
   "source": [
    "diff_false = df_raw[df_raw['is_potentially_hazardous_asteroid'] == False]['meters_estimated_diameter_max'] - df_raw[df_raw['is_potentially_hazardous_asteroid'] == False]['meters_estimated_diameter_min']\n",
    "diff_false.mean()"
   ]
  },
  {
   "cell_type": "code",
   "execution_count": 89,
   "metadata": {},
   "outputs": [
    {
     "data": {
      "image/png": "[encoded data removed]",
      "text/plain": [
       "<Figure size 536.5x360 with 6 Axes>"
      ]
     },
     "metadata": {
      "needs_background": "light"
     },
     "output_type": "display_data"
    }
   ],
   "source": [
    "sns.pairplot(data = df_raw[['meters_estimated_diameter_max','meters_estimated_diameter_min','is_potentially_hazardous_asteroid']], hue = 'is_potentially_hazardous_asteroid')\n",
    "plt.show()"
   ]
  },
  {
   "cell_type": "code",
   "execution_count": 99,
   "metadata": {},
   "outputs": [
    {
     "data": {
      "image/png": "[encoded data removed]",
      "text/plain": [
       "<Figure size 504x504 with 1 Axes>"
      ]
     },
     "metadata": {
      "needs_background": "light"
     },
     "output_type": "display_data"
    }
   ],
   "source": [
    "sns.displot(data = df_raw[df_raw['is_potentially_hazardous_asteroid'] == True]['meters_estimated_diameter_max'], height=7)\n",
    "plt.show()"
   ]
  },
  {
   "cell_type": "code",
   "execution_count": 98,
   "metadata": {},
   "outputs": [
    {
     "data": {
      "image/png": "[encoded data removed]",
      "text/plain": [
       "<Figure size 504x504 with 1 Axes>"
      ]
     },
     "metadata": {
      "needs_background": "light"
     },
     "output_type": "display_data"
    }
   ],
   "source": [
    "\n",
    "sns.displot(data = df_raw[df_raw['is_potentially_hazardous_asteroid'] == False]['meters_estimated_diameter_max'], height=7)\n",
    "plt.show()"
   ]
  },
  {
   "cell_type": "code",
   "execution_count": 114,
   "metadata": {},
   "outputs": [
    {
     "data": {
      "text/plain": [
       "<AxesSubplot:>"
      ]
     },
     "execution_count": 114,
     "metadata": {},
     "output_type": "execute_result"
    },
    {
     "data": {
      "image/png": "[encoded data removed]",
      "text/plain": [
       "<Figure size 432x288 with 1 Axes>"
      ]
     },
     "metadata": {
      "needs_background": "light"
     },
     "output_type": "display_data"
    }
   ],
   "source": [
    "df_raw[(df_raw['meters_estimated_diameter_max'] > 9000) & (df_raw['is_potentially_hazardous_asteroid'] == True)]['meters_estimated_diameter_max'].hist(bins=50)"
   ]
  },
  {
   "cell_type": "code",
   "execution_count": 115,
   "metadata": {},
   "outputs": [
    {
     "data": {
      "text/plain": [
       "count    2093.000000\n",
       "mean      333.668162\n",
       "std       343.619491\n",
       "min        88.014652\n",
       "25%       152.249185\n",
       "50%       225.193047\n",
       "75%       378.926498\n",
       "max      4135.756649\n",
       "Name: meters_estimated_diameter_min, dtype: float64"
      ]
     },
     "execution_count": 115,
     "metadata": {},
     "output_type": "execute_result"
    }
   ],
   "source": [
    "df_raw[df_raw['is_potentially_hazardous_asteroid'] == True]['meters_estimated_diameter_min'].describe()"
   ]
  },
  {
   "cell_type": "code",
   "execution_count": 116,
   "metadata": {},
   "outputs": [
    {
     "data": {
      "text/plain": [
       "count    21899.000000\n",
       "mean       151.921779\n",
       "std        282.653049\n",
       "min          0.608913\n",
       "25%         22.108281\n",
       "50%         53.034072\n",
       "75%        167.708462\n",
       "max       8101.304882\n",
       "Name: meters_estimated_diameter_min, dtype: float64"
      ]
     },
     "execution_count": 116,
     "metadata": {},
     "output_type": "execute_result"
    }
   ],
   "source": [
    "df_raw[df_raw['is_potentially_hazardous_asteroid'] == False]['meters_estimated_diameter_min'].describe()"
   ]
  },
  {
   "cell_type": "code",
   "execution_count": 105,
   "metadata": {},
   "outputs": [
    {
     "data": {
      "text/plain": [
       "count    23992.000000\n",
       "mean       207.383608\n",
       "std        362.168251\n",
       "min          0.752657\n",
       "25%         29.963831\n",
       "50%         75.265739\n",
       "75%        243.555158\n",
       "max      10013.763541\n",
       "dtype: float64"
      ]
     },
     "execution_count": 105,
     "metadata": {},
     "output_type": "execute_result"
    }
   ],
   "source": [
    "diff = df_raw['meters_estimated_diameter_max'] - df_raw['meters_estimated_diameter_min']\n",
    "diff.describe()"
   ]
  },
  {
   "cell_type": "markdown",
   "metadata": {},
   "source": [
    "Corroboramos que la diferencia entre ambas columnas es muy pequeña, como habiamos mencionado anteriormente. Vamos a eliminar la columna kilometers_estimated_diameter_min y renombrar kilometers_estimated_diameter_max a kilometers_estimated_diameter"
   ]
  },
  {
   "cell_type": "code",
   "execution_count": null,
   "metadata": {},
   "outputs": [],
   "source": [
    "mean = (df_raw['meters_estimated_diameter_max'] + df_raw['meters_estimated_diameter_min'])\n",
    "\n",
    "df_raw.drop(columns = ['kilometers_estimated_diameter_min'], inplace = True)\n",
    "df_raw.rename(columns = {'kilometers_estimated_diameter_max':'kilometers_estimated_diameter'}, inplace = True)"
   ]
  },
  {
   "cell_type": "markdown",
   "metadata": {},
   "source": [
    "#### Observaciones:\n",
    "(Consideramos fuerte correlacion por encima de 0.75 (o por debajo de -0.75))\n",
    "\n",
    "No hay correlaciones fuertes respecto a nuestro target"
   ]
  },
  {
   "cell_type": "markdown",
   "metadata": {},
   "source": [
    "Separamos nuestro dataset en entrenamiento, validación y prueba"
   ]
  },
  {
   "cell_type": "markdown",
   "metadata": {},
   "source": [
    "Vamos a aplicar estandarizacion a las variables continuas (MinMaxScaler), estas son 'absolute_magnitude_h', 'kilometers_estimated_diameter', 'perihelion_distance' y 'aphelion_distance'"
   ]
  },
  {
   "cell_type": "code",
   "execution_count": null,
   "metadata": {},
   "outputs": [],
   "source": [
    "from sklearn.preprocessing import MinMaxScaler\n",
    "scaler = MinMaxScaler() #se puede guardar como modelo\n",
    "scaler.fit(X_train[['absolute_magnitude_h', 'kilometers_estimated_diameter', 'perihelion_distance', 'aphelion_distance']]) #solo con train\n",
    "\n",
    "df_raw[['absolute_magnitude_h', 'kilometers_estimated_diameter', 'perihelion_distance', 'aphelion_distance']] = scaler.transform(df_raw[['absolute_magnitude_h', 'kilometers_estimated_diameter', 'perihelion_distance', 'aphelion_distance']])"
   ]
  },
  {
   "cell_type": "code",
   "execution_count": null,
   "metadata": {},
   "outputs": [],
   "source": [
    "df_raw.to_csv('../data/df_proccessed.csv')\n",
    "df = df_raw.copy()"
   ]
  },
  {
   "cell_type": "code",
   "execution_count": null,
   "metadata": {},
   "outputs": [],
   "source": [
    "# , 'name', 'id', 'first_observation_date', 'last_observation_date'"
   ]
  },
  {
   "cell_type": "markdown",
   "metadata": {},
   "source": [
    "Las columnas 'absolute_magnitude_h', 'kilometers_estimated_diameter_min' y 'kilometers_estimated_diameter_max' presentan valores faltantes. Se procede a llenarlos con las mediana de su columna correspondiente solo en el dataset de entrenamiento"
   ]
  },
  {
   "cell_type": "code",
   "execution_count": null,
   "metadata": {},
   "outputs": [],
   "source": [
    "# Sustituyendo los valores faltantes de las columnas 'absolute_magnitude_h', 'kilometers_estimated_diameter_min'\n",
    "# y 'kilometers_estimated_diameter_max' por sus respectivas medianas\n",
    "# Esto porque las columnas 'kilometers_estimated_diameter_min' y 'kilometers_estimated_diameter_max' presentan distribuciones\n",
    "# con sesgo positivo importante.\n",
    "\n",
    "imputer_median1 = SimpleImputer(strategy='median', missing_values=np.nan)\n",
    "df_raw['absolute_magnitude_h'] = imputer_median1.fit_transform(df_raw[['absolute_magnitude_h']])\n",
    "\n",
    "imputer_median2 = SimpleImputer(strategy='median', missing_values=np.nan)\n",
    "df_raw['kilometers_estimated_diameter_min'] = imputer_median2.fit_transform(df_raw[['kilometers_estimated_diameter_min']])\n",
    "\n",
    "imputer_median3 = SimpleImputer(strategy='median', missing_values=np.nan)\n",
    "df_raw['kilometers_estimated_diameter_max'] = imputer_median3.fit_transform(df_raw[['kilometers_estimated_diameter_max']])"
   ]
  },
  {
   "cell_type": "code",
   "execution_count": null,
   "metadata": {},
   "outputs": [],
   "source": [
    "# Funciones\n",
    "\n",
    "def modelAnalysis(clf,y_pred):\n",
    "    sns.heatmap(confusion_matrix(y_valid,y_pred), annot= True , fmt='d')\n",
    "    plt.show()\n",
    "    print(f'Accuraccy score: {accuracy_score(y_valid,y_pred)}')\n",
    "    print(f'classification report: \\n{classification_report(y_valid,y_pred)}')\n",
    "\n",
    "    cv = RepeatedStratifiedKFold(n_splits=10, n_repeats=3, random_state=1)\n",
    "    scores = cross_val_score(clf, X_united, y_united, scoring='roc_auc', cv=cv, n_jobs=-1)\n",
    "    print('Mean ROC AUC: %.3f' % np.mean(scores))"
   ]
  },
  {
   "cell_type": "code",
   "execution_count": null,
   "metadata": {},
   "outputs": [],
   "source": [
    "################################################################################################################"
   ]
  },
  {
   "cell_type": "markdown",
   "metadata": {},
   "source": [
    "## Problema del dataset desbalanceado"
   ]
  },
  {
   "cell_type": "markdown",
   "metadata": {},
   "source": [
    "Primero entrenaremos los modelos con la proporción original del dataset, de esta manera tendremos un punto de referencia a la hora de evaluar las diferentes tecnicas de balanceo a estudiar."
   ]
  },
  {
   "cell_type": "markdown",
   "metadata": {},
   "source": [
    "### Random Forest sin balanceo previo"
   ]
  },
  {
   "cell_type": "code",
   "execution_count": null,
   "metadata": {},
   "outputs": [],
   "source": [
    "from sklearn.ensemble import RandomForestClassifier\n",
    "from sklearn.metrics import classification_report\n",
    "from sklearn.metrics import confusion_matrix, accuracy_score\n",
    "from sklearn.model_selection import RepeatedStratifiedKFold\n",
    "from sklearn.model_selection import cross_val_score\n",
    "from sklearn.metrics import roc_auc_score"
   ]
  },
  {
   "cell_type": "code",
   "execution_count": null,
   "metadata": {},
   "outputs": [
    {
     "data": {
      "text/html": [
       "<style>#sk-container-id-5 {color: black;background-color: white;}#sk-container-id-5 pre{padding: 0;}#sk-container-id-5 div.sk-toggleable {background-color: white;}#sk-container-id-5 label.sk-toggleable__label {cursor: pointer;display: block;width: 100%;margin-bottom: 0;padding: 0.3em;box-sizing: border-box;text-align: center;}#sk-container-id-5 label.sk-toggleable__label-arrow:before {content: \"▸\";float: left;margin-right: 0.25em;color: #696969;}#sk-container-id-5 label.sk-toggleable__label-arrow:hover:before {color: black;}#sk-container-id-5 div.sk-estimator:hover label.sk-toggleable__label-arrow:before {color: black;}#sk-container-id-5 div.sk-toggleable__content {max-height: 0;max-width: 0;overflow: hidden;text-align: left;background-color: #f0f8ff;}#sk-container-id-5 div.sk-toggleable__content pre {margin: 0.2em;color: black;border-radius: 0.25em;background-color: #f0f8ff;}#sk-container-id-5 input.sk-toggleable__control:checked~div.sk-toggleable__content {max-height: 200px;max-width: 100%;overflow: auto;}#sk-container-id-5 input.sk-toggleable__control:checked~label.sk-toggleable__label-arrow:before {content: \"▾\";}#sk-container-id-5 div.sk-estimator input.sk-toggleable__control:checked~label.sk-toggleable__label {background-color: #d4ebff;}#sk-container-id-5 div.sk-label input.sk-toggleable__control:checked~label.sk-toggleable__label {background-color: #d4ebff;}#sk-container-id-5 input.sk-hidden--visually {border: 0;clip: rect(1px 1px 1px 1px);clip: rect(1px, 1px, 1px, 1px);height: 1px;margin: -1px;overflow: hidden;padding: 0;position: absolute;width: 1px;}#sk-container-id-5 div.sk-estimator {font-family: monospace;background-color: #f0f8ff;border: 1px dotted black;border-radius: 0.25em;box-sizing: border-box;margin-bottom: 0.5em;}#sk-container-id-5 div.sk-estimator:hover {background-color: #d4ebff;}#sk-container-id-5 div.sk-parallel-item::after {content: \"\";width: 100%;border-bottom: 1px solid gray;flex-grow: 1;}#sk-container-id-5 div.sk-label:hover label.sk-toggleable__label {background-color: #d4ebff;}#sk-container-id-5 div.sk-serial::before {content: \"\";position: absolute;border-left: 1px solid gray;box-sizing: border-box;top: 0;bottom: 0;left: 50%;z-index: 0;}#sk-container-id-5 div.sk-serial {display: flex;flex-direction: column;align-items: center;background-color: white;padding-right: 0.2em;padding-left: 0.2em;position: relative;}#sk-container-id-5 div.sk-item {position: relative;z-index: 1;}#sk-container-id-5 div.sk-parallel {display: flex;align-items: stretch;justify-content: center;background-color: white;position: relative;}#sk-container-id-5 div.sk-item::before, #sk-container-id-5 div.sk-parallel-item::before {content: \"\";position: absolute;border-left: 1px solid gray;box-sizing: border-box;top: 0;bottom: 0;left: 50%;z-index: -1;}#sk-container-id-5 div.sk-parallel-item {display: flex;flex-direction: column;z-index: 1;position: relative;background-color: white;}#sk-container-id-5 div.sk-parallel-item:first-child::after {align-self: flex-end;width: 50%;}#sk-container-id-5 div.sk-parallel-item:last-child::after {align-self: flex-start;width: 50%;}#sk-container-id-5 div.sk-parallel-item:only-child::after {width: 0;}#sk-container-id-5 div.sk-dashed-wrapped {border: 1px dashed gray;margin: 0 0.4em 0.5em 0.4em;box-sizing: border-box;padding-bottom: 0.4em;background-color: white;}#sk-container-id-5 div.sk-label label {font-family: monospace;font-weight: bold;display: inline-block;line-height: 1.2em;}#sk-container-id-5 div.sk-label-container {text-align: center;}#sk-container-id-5 div.sk-container {/* jupyter's `normalize.less` sets `[hidden] { display: none; }` but bootstrap.min.css set `[hidden] { display: none !important; }` so we also need the `!important` here to be able to override the default hidden behavior on the sphinx rendered scikit-learn.org. See: https://github.com/scikit-learn/scikit-learn/issues/21755 */display: inline-block !important;position: relative;}#sk-container-id-5 div.sk-text-repr-fallback {display: none;}</style><div id=\"sk-container-id-5\" class=\"sk-top-container\"><div class=\"sk-text-repr-fallback\"><pre>RandomForestClassifier(random_state=42)</pre><b>In a Jupyter environment, please rerun this cell to show the HTML representation or trust the notebook. <br />On GitHub, the HTML representation is unable to render, please try loading this page with nbviewer.org.</b></div><div class=\"sk-container\" hidden><div class=\"sk-item\"><div class=\"sk-estimator sk-toggleable\"><input class=\"sk-toggleable__control sk-hidden--visually\" id=\"sk-estimator-id-7\" type=\"checkbox\" checked><label for=\"sk-estimator-id-7\" class=\"sk-toggleable__label sk-toggleable__label-arrow\">RandomForestClassifier</label><div class=\"sk-toggleable__content\"><pre>RandomForestClassifier(random_state=42)</pre></div></div></div></div></div>"
      ],
      "text/plain": [
       "RandomForestClassifier(random_state=42)"
      ]
     },
     "execution_count": 128,
     "metadata": {},
     "output_type": "execute_result"
    }
   ],
   "source": [
    "clf = RandomForestClassifier(random_state=42)\n",
    "clf.fit(X_train,y_train)"
   ]
  },
  {
   "cell_type": "code",
   "execution_count": null,
   "metadata": {},
   "outputs": [],
   "source": [
    "y_pred = clf.predict(X_valid)"
   ]
  },
  {
   "cell_type": "code",
   "execution_count": null,
   "metadata": {},
   "outputs": [
    {
     "data": {
      "image/png": "[encoded data removed]",
      "text/plain": [
       "<Figure size 432x288 with 2 Axes>"
      ]
     },
     "metadata": {
      "needs_background": "light"
     },
     "output_type": "display_data"
    },
    {
     "name": "stdout",
     "output_type": "stream",
     "text": [
      "Accuraccy score: 0.91875\n",
      "classification report: \n",
      "              precision    recall  f1-score   support\n",
      "\n",
      "           0       0.94      0.97      0.96      2186\n",
      "           1       0.56      0.42      0.48       214\n",
      "\n",
      "    accuracy                           0.92      2400\n",
      "   macro avg       0.75      0.69      0.72      2400\n",
      "weighted avg       0.91      0.92      0.91      2400\n",
      "\n",
      "Mean ROC AUC: 0.950\n"
     ]
    }
   ],
   "source": [
    "modelAnalysis(clf,y_pred)"
   ]
  },
  {
   "cell_type": "code",
   "execution_count": null,
   "metadata": {},
   "outputs": [],
   "source": [
    "# Los datos en principio dan bien, pero se puede apreciar el peso que tiene en la precision de la categoria 1 el tema de que el dataset sea desbalanceado"
   ]
  },
  {
   "cell_type": "markdown",
   "metadata": {},
   "source": [
    "### Logistic Regression sin balanceo previo"
   ]
  },
  {
   "cell_type": "code",
   "execution_count": null,
   "metadata": {},
   "outputs": [],
   "source": [
    "from sklearn.linear_model import LogisticRegression\n",
    "from sklearn.feature_selection import RFECV"
   ]
  },
  {
   "cell_type": "markdown",
   "metadata": {},
   "source": [
    "#### Elegimos las features mas imporantes con RFECV"
   ]
  },
  {
   "cell_type": "code",
   "execution_count": null,
   "metadata": {},
   "outputs": [
    {
     "name": "stderr",
     "output_type": "stream",
     "text": [
      "/workspace/.pyenv_mirror/user/current/lib/python3.8/site-packages/sklearn/linear_model/_logistic.py:444: ConvergenceWarning: lbfgs failed to converge (status=1):\n",
      "STOP: TOTAL NO. of ITERATIONS REACHED LIMIT.\n",
      "\n",
      "Increase the number of iterations (max_iter) or scale the data as shown in:\n",
      "    https://scikit-learn.org/stable/modules/preprocessing.html\n",
      "Please also refer to the documentation for alternative solver options:\n",
      "    https://scikit-learn.org/stable/modules/linear_model.html#logistic-regression\n",
      "  n_iter_i = _check_optimize_result(\n",
      "/workspace/.pyenv_mirror/user/current/lib/python3.8/site-packages/sklearn/linear_model/_logistic.py:444: ConvergenceWarning: lbfgs failed to converge (status=1):\n",
      "STOP: TOTAL NO. of ITERATIONS REACHED LIMIT.\n",
      "\n",
      "Increase the number of iterations (max_iter) or scale the data as shown in:\n",
      "    https://scikit-learn.org/stable/modules/preprocessing.html\n",
      "Please also refer to the documentation for alternative solver options:\n",
      "    https://scikit-learn.org/stable/modules/linear_model.html#logistic-regression\n",
      "  n_iter_i = _check_optimize_result(\n",
      "/workspace/.pyenv_mirror/user/current/lib/python3.8/site-packages/sklearn/linear_model/_logistic.py:444: ConvergenceWarning: lbfgs failed to converge (status=1):\n",
      "STOP: TOTAL NO. of ITERATIONS REACHED LIMIT.\n",
      "\n",
      "Increase the number of iterations (max_iter) or scale the data as shown in:\n",
      "    https://scikit-learn.org/stable/modules/preprocessing.html\n",
      "Please also refer to the documentation for alternative solver options:\n",
      "    https://scikit-learn.org/stable/modules/linear_model.html#logistic-regression\n",
      "  n_iter_i = _check_optimize_result(\n",
      "/workspace/.pyenv_mirror/user/current/lib/python3.8/site-packages/sklearn/linear_model/_logistic.py:444: ConvergenceWarning: lbfgs failed to converge (status=1):\n",
      "STOP: TOTAL NO. of ITERATIONS REACHED LIMIT.\n",
      "\n",
      "Increase the number of iterations (max_iter) or scale the data as shown in:\n",
      "    https://scikit-learn.org/stable/modules/preprocessing.html\n",
      "Please also refer to the documentation for alternative solver options:\n",
      "    https://scikit-learn.org/stable/modules/linear_model.html#logistic-regression\n",
      "  n_iter_i = _check_optimize_result(\n",
      "/workspace/.pyenv_mirror/user/current/lib/python3.8/site-packages/sklearn/linear_model/_logistic.py:444: ConvergenceWarning: lbfgs failed to converge (status=1):\n",
      "STOP: TOTAL NO. of ITERATIONS REACHED LIMIT.\n",
      "\n",
      "Increase the number of iterations (max_iter) or scale the data as shown in:\n",
      "    https://scikit-learn.org/stable/modules/preprocessing.html\n",
      "Please also refer to the documentation for alternative solver options:\n",
      "    https://scikit-learn.org/stable/modules/linear_model.html#logistic-regression\n",
      "  n_iter_i = _check_optimize_result(\n",
      "/workspace/.pyenv_mirror/user/current/lib/python3.8/site-packages/sklearn/linear_model/_logistic.py:444: ConvergenceWarning: lbfgs failed to converge (status=1):\n",
      "STOP: TOTAL NO. of ITERATIONS REACHED LIMIT.\n",
      "\n",
      "Increase the number of iterations (max_iter) or scale the data as shown in:\n",
      "    https://scikit-learn.org/stable/modules/preprocessing.html\n",
      "Please also refer to the documentation for alternative solver options:\n",
      "    https://scikit-learn.org/stable/modules/linear_model.html#logistic-regression\n",
      "  n_iter_i = _check_optimize_result(\n",
      "/workspace/.pyenv_mirror/user/current/lib/python3.8/site-packages/sklearn/linear_model/_logistic.py:444: ConvergenceWarning: lbfgs failed to converge (status=1):\n",
      "STOP: TOTAL NO. of ITERATIONS REACHED LIMIT.\n",
      "\n",
      "Increase the number of iterations (max_iter) or scale the data as shown in:\n",
      "    https://scikit-learn.org/stable/modules/preprocessing.html\n",
      "Please also refer to the documentation for alternative solver options:\n",
      "    https://scikit-learn.org/stable/modules/linear_model.html#logistic-regression\n",
      "  n_iter_i = _check_optimize_result(\n",
      "/workspace/.pyenv_mirror/user/current/lib/python3.8/site-packages/sklearn/linear_model/_logistic.py:444: ConvergenceWarning: lbfgs failed to converge (status=1):\n",
      "STOP: TOTAL NO. of ITERATIONS REACHED LIMIT.\n",
      "\n",
      "Increase the number of iterations (max_iter) or scale the data as shown in:\n",
      "    https://scikit-learn.org/stable/modules/preprocessing.html\n",
      "Please also refer to the documentation for alternative solver options:\n",
      "    https://scikit-learn.org/stable/modules/linear_model.html#logistic-regression\n",
      "  n_iter_i = _check_optimize_result(\n",
      "/workspace/.pyenv_mirror/user/current/lib/python3.8/site-packages/sklearn/linear_model/_logistic.py:444: ConvergenceWarning: lbfgs failed to converge (status=1):\n",
      "STOP: TOTAL NO. of ITERATIONS REACHED LIMIT.\n",
      "\n",
      "Increase the number of iterations (max_iter) or scale the data as shown in:\n",
      "    https://scikit-learn.org/stable/modules/preprocessing.html\n",
      "Please also refer to the documentation for alternative solver options:\n",
      "    https://scikit-learn.org/stable/modules/linear_model.html#logistic-regression\n",
      "  n_iter_i = _check_optimize_result(\n",
      "/workspace/.pyenv_mirror/user/current/lib/python3.8/site-packages/sklearn/linear_model/_logistic.py:444: ConvergenceWarning: lbfgs failed to converge (status=1):\n",
      "STOP: TOTAL NO. of ITERATIONS REACHED LIMIT.\n",
      "\n",
      "Increase the number of iterations (max_iter) or scale the data as shown in:\n",
      "    https://scikit-learn.org/stable/modules/preprocessing.html\n",
      "Please also refer to the documentation for alternative solver options:\n",
      "    https://scikit-learn.org/stable/modules/linear_model.html#logistic-regression\n",
      "  n_iter_i = _check_optimize_result(\n",
      "/workspace/.pyenv_mirror/user/current/lib/python3.8/site-packages/sklearn/linear_model/_logistic.py:444: ConvergenceWarning: lbfgs failed to converge (status=1):\n",
      "STOP: TOTAL NO. of ITERATIONS REACHED LIMIT.\n",
      "\n",
      "Increase the number of iterations (max_iter) or scale the data as shown in:\n",
      "    https://scikit-learn.org/stable/modules/preprocessing.html\n",
      "Please also refer to the documentation for alternative solver options:\n",
      "    https://scikit-learn.org/stable/modules/linear_model.html#logistic-regression\n",
      "  n_iter_i = _check_optimize_result(\n",
      "/workspace/.pyenv_mirror/user/current/lib/python3.8/site-packages/sklearn/linear_model/_logistic.py:444: ConvergenceWarning: lbfgs failed to converge (status=1):\n",
      "STOP: TOTAL NO. of ITERATIONS REACHED LIMIT.\n",
      "\n",
      "Increase the number of iterations (max_iter) or scale the data as shown in:\n",
      "    https://scikit-learn.org/stable/modules/preprocessing.html\n",
      "Please also refer to the documentation for alternative solver options:\n",
      "    https://scikit-learn.org/stable/modules/linear_model.html#logistic-regression\n",
      "  n_iter_i = _check_optimize_result(\n",
      "/workspace/.pyenv_mirror/user/current/lib/python3.8/site-packages/sklearn/linear_model/_logistic.py:444: ConvergenceWarning: lbfgs failed to converge (status=1):\n",
      "STOP: TOTAL NO. of ITERATIONS REACHED LIMIT.\n",
      "\n",
      "Increase the number of iterations (max_iter) or scale the data as shown in:\n",
      "    https://scikit-learn.org/stable/modules/preprocessing.html\n",
      "Please also refer to the documentation for alternative solver options:\n",
      "    https://scikit-learn.org/stable/modules/linear_model.html#logistic-regression\n",
      "  n_iter_i = _check_optimize_result(\n",
      "/workspace/.pyenv_mirror/user/current/lib/python3.8/site-packages/sklearn/linear_model/_logistic.py:444: ConvergenceWarning: lbfgs failed to converge (status=1):\n",
      "STOP: TOTAL NO. of ITERATIONS REACHED LIMIT.\n",
      "\n",
      "Increase the number of iterations (max_iter) or scale the data as shown in:\n",
      "    https://scikit-learn.org/stable/modules/preprocessing.html\n",
      "Please also refer to the documentation for alternative solver options:\n",
      "    https://scikit-learn.org/stable/modules/linear_model.html#logistic-regression\n",
      "  n_iter_i = _check_optimize_result(\n"
     ]
    },
    {
     "data": {
      "text/html": [
       "<style>#sk-container-id-6 {color: black;background-color: white;}#sk-container-id-6 pre{padding: 0;}#sk-container-id-6 div.sk-toggleable {background-color: white;}#sk-container-id-6 label.sk-toggleable__label {cursor: pointer;display: block;width: 100%;margin-bottom: 0;padding: 0.3em;box-sizing: border-box;text-align: center;}#sk-container-id-6 label.sk-toggleable__label-arrow:before {content: \"▸\";float: left;margin-right: 0.25em;color: #696969;}#sk-container-id-6 label.sk-toggleable__label-arrow:hover:before {color: black;}#sk-container-id-6 div.sk-estimator:hover label.sk-toggleable__label-arrow:before {color: black;}#sk-container-id-6 div.sk-toggleable__content {max-height: 0;max-width: 0;overflow: hidden;text-align: left;background-color: #f0f8ff;}#sk-container-id-6 div.sk-toggleable__content pre {margin: 0.2em;color: black;border-radius: 0.25em;background-color: #f0f8ff;}#sk-container-id-6 input.sk-toggleable__control:checked~div.sk-toggleable__content {max-height: 200px;max-width: 100%;overflow: auto;}#sk-container-id-6 input.sk-toggleable__control:checked~label.sk-toggleable__label-arrow:before {content: \"▾\";}#sk-container-id-6 div.sk-estimator input.sk-toggleable__control:checked~label.sk-toggleable__label {background-color: #d4ebff;}#sk-container-id-6 div.sk-label input.sk-toggleable__control:checked~label.sk-toggleable__label {background-color: #d4ebff;}#sk-container-id-6 input.sk-hidden--visually {border: 0;clip: rect(1px 1px 1px 1px);clip: rect(1px, 1px, 1px, 1px);height: 1px;margin: -1px;overflow: hidden;padding: 0;position: absolute;width: 1px;}#sk-container-id-6 div.sk-estimator {font-family: monospace;background-color: #f0f8ff;border: 1px dotted black;border-radius: 0.25em;box-sizing: border-box;margin-bottom: 0.5em;}#sk-container-id-6 div.sk-estimator:hover {background-color: #d4ebff;}#sk-container-id-6 div.sk-parallel-item::after {content: \"\";width: 100%;border-bottom: 1px solid gray;flex-grow: 1;}#sk-container-id-6 div.sk-label:hover label.sk-toggleable__label {background-color: #d4ebff;}#sk-container-id-6 div.sk-serial::before {content: \"\";position: absolute;border-left: 1px solid gray;box-sizing: border-box;top: 0;bottom: 0;left: 50%;z-index: 0;}#sk-container-id-6 div.sk-serial {display: flex;flex-direction: column;align-items: center;background-color: white;padding-right: 0.2em;padding-left: 0.2em;position: relative;}#sk-container-id-6 div.sk-item {position: relative;z-index: 1;}#sk-container-id-6 div.sk-parallel {display: flex;align-items: stretch;justify-content: center;background-color: white;position: relative;}#sk-container-id-6 div.sk-item::before, #sk-container-id-6 div.sk-parallel-item::before {content: \"\";position: absolute;border-left: 1px solid gray;box-sizing: border-box;top: 0;bottom: 0;left: 50%;z-index: -1;}#sk-container-id-6 div.sk-parallel-item {display: flex;flex-direction: column;z-index: 1;position: relative;background-color: white;}#sk-container-id-6 div.sk-parallel-item:first-child::after {align-self: flex-end;width: 50%;}#sk-container-id-6 div.sk-parallel-item:last-child::after {align-self: flex-start;width: 50%;}#sk-container-id-6 div.sk-parallel-item:only-child::after {width: 0;}#sk-container-id-6 div.sk-dashed-wrapped {border: 1px dashed gray;margin: 0 0.4em 0.5em 0.4em;box-sizing: border-box;padding-bottom: 0.4em;background-color: white;}#sk-container-id-6 div.sk-label label {font-family: monospace;font-weight: bold;display: inline-block;line-height: 1.2em;}#sk-container-id-6 div.sk-label-container {text-align: center;}#sk-container-id-6 div.sk-container {/* jupyter's `normalize.less` sets `[hidden] { display: none; }` but bootstrap.min.css set `[hidden] { display: none !important; }` so we also need the `!important` here to be able to override the default hidden behavior on the sphinx rendered scikit-learn.org. See: https://github.com/scikit-learn/scikit-learn/issues/21755 */display: inline-block !important;position: relative;}#sk-container-id-6 div.sk-text-repr-fallback {display: none;}</style><div id=\"sk-container-id-6\" class=\"sk-top-container\"><div class=\"sk-text-repr-fallback\"><pre>RFECV(cv=10, estimator=LogisticRegression(), scoring=&#x27;roc_auc&#x27;)</pre><b>In a Jupyter environment, please rerun this cell to show the HTML representation or trust the notebook. <br />On GitHub, the HTML representation is unable to render, please try loading this page with nbviewer.org.</b></div><div class=\"sk-container\" hidden><div class=\"sk-item sk-dashed-wrapped\"><div class=\"sk-label-container\"><div class=\"sk-label sk-toggleable\"><input class=\"sk-toggleable__control sk-hidden--visually\" id=\"sk-estimator-id-8\" type=\"checkbox\" ><label for=\"sk-estimator-id-8\" class=\"sk-toggleable__label sk-toggleable__label-arrow\">RFECV</label><div class=\"sk-toggleable__content\"><pre>RFECV(cv=10, estimator=LogisticRegression(), scoring=&#x27;roc_auc&#x27;)</pre></div></div></div><div class=\"sk-parallel\"><div class=\"sk-parallel-item\"><div class=\"sk-item\"><div class=\"sk-label-container\"><div class=\"sk-label sk-toggleable\"><input class=\"sk-toggleable__control sk-hidden--visually\" id=\"sk-estimator-id-9\" type=\"checkbox\" ><label for=\"sk-estimator-id-9\" class=\"sk-toggleable__label sk-toggleable__label-arrow\">estimator: LogisticRegression</label><div class=\"sk-toggleable__content\"><pre>LogisticRegression()</pre></div></div></div><div class=\"sk-serial\"><div class=\"sk-item\"><div class=\"sk-estimator sk-toggleable\"><input class=\"sk-toggleable__control sk-hidden--visually\" id=\"sk-estimator-id-10\" type=\"checkbox\" ><label for=\"sk-estimator-id-10\" class=\"sk-toggleable__label sk-toggleable__label-arrow\">LogisticRegression</label><div class=\"sk-toggleable__content\"><pre>LogisticRegression()</pre></div></div></div></div></div></div></div></div></div></div>"
      ],
      "text/plain": [
       "RFECV(cv=10, estimator=LogisticRegression(), scoring='roc_auc')"
      ]
     },
     "execution_count": 133,
     "metadata": {},
     "output_type": "execute_result"
    }
   ],
   "source": [
    "rfecv = RFECV(estimator=LogisticRegression(), step=1, cv=10, scoring='roc_auc')\n",
    "rfecv.fit(X_train, y_train)"
   ]
  },
  {
   "cell_type": "code",
   "execution_count": null,
   "metadata": {},
   "outputs": [
    {
     "name": "stdout",
     "output_type": "stream",
     "text": [
      "Optimal number of features: 8\n",
      "Selected features: ['absolute_magnitude_h', 'is_sentry_object', 'kilometers_estimated_diameter', 'orbit_id', 'orbit_class_type', 'perihelion_distance', 'aphelion_distance', 'orbit_class_description']\n",
      "[[0.81617208 0.82142795 0.82556505 0.80570664 0.82394026 0.8043443\n",
      "  0.82237935 0.82839101 0.79830276 0.80078174]\n",
      " [0.81676065 0.81995683 0.82553225 0.80511267 0.82228956 0.80492446\n",
      "  0.82373651 0.82875061 0.79948926 0.80214891]\n",
      " [0.9126323  0.89829405 0.89381507 0.88930502 0.89450747 0.89065527\n",
      "  0.89292757 0.90426482 0.8920419  0.88046175]\n",
      " [0.91147946 0.90482776 0.8912009  0.8957593  0.89571268 0.89108694\n",
      "  0.89144608 0.90480335 0.89382079 0.8824491 ]\n",
      " [0.91177808 0.90466891 0.89137702 0.89512734 0.89468704 0.89116291\n",
      "  0.8914599  0.90471823 0.89307727 0.88228059]\n",
      " [0.91294655 0.90540965 0.89210049 0.89585427 0.89476992 0.8918484\n",
      "  0.89208668 0.90552776 0.89323188 0.88244736]\n",
      " [0.9129535  0.9054062  0.89209013 0.89585427 0.89476992 0.89183804\n",
      "  0.89074333 0.90553123 0.89323188 0.88187409]\n",
      " [0.91460637 0.91004748 0.89134076 0.89660364 0.89538116 0.8947492\n",
      "  0.89345075 0.90725801 0.89518449 0.88275311]]\n",
      "Index(['absolute_magnitude_h', 'is_sentry_object',\n",
      "       'kilometers_estimated_diameter', 'orbit_id', 'orbit_class_type',\n",
      "       'perihelion_distance', 'aphelion_distance', 'orbit_class_description'],\n",
      "      dtype='object')\n"
     ]
    },
    {
     "name": "stderr",
     "output_type": "stream",
     "text": [
      "/workspace/.pyenv_mirror/user/current/lib/python3.8/site-packages/sklearn/utils/deprecation.py:103: FutureWarning: The `grid_scores_` attribute is deprecated in version 1.0 in favor of `cv_results_` and will be removed in version 1.2.\n",
      "  warnings.warn(msg, category=FutureWarning)\n"
     ]
    }
   ],
   "source": [
    "print(\"Optimal number of features: %d\" % rfecv.n_features_)\n",
    "print('Selected features: %s' % list(X_train.columns[rfecv.support_]))\n",
    "print(f'{rfecv.grid_scores_}')\n",
    "print(f'{X_train.columns}')"
   ]
  },
  {
   "cell_type": "code",
   "execution_count": null,
   "metadata": {},
   "outputs": [
    {
     "data": {
      "image/png": "[encoded data removed]",
      "text/plain": [
       "<Figure size 432x288 with 2 Axes>"
      ]
     },
     "metadata": {
      "needs_background": "light"
     },
     "output_type": "display_data"
    },
    {
     "name": "stdout",
     "output_type": "stream",
     "text": [
      "Accuraccy score: 0.9108333333333334\n",
      "classification report: \n",
      "              precision    recall  f1-score   support\n",
      "\n",
      "           0       0.91      1.00      0.95      2182\n",
      "           1       0.58      0.06      0.12       218\n",
      "\n",
      "    accuracy                           0.91      2400\n",
      "   macro avg       0.75      0.53      0.53      2400\n",
      "weighted avg       0.88      0.91      0.88      2400\n",
      "\n",
      "Mean ROC AUC: 0.898\n"
     ]
    }
   ],
   "source": [
    "clf = LogisticRegression(max_iter=1000)\n",
    "clf.fit(X_train,y_train)\n",
    "y_pred = clf.predict(X_valid)\n",
    "\n",
    "\n",
    "sns.heatmap(confusion_matrix(y_valid,y_pred), annot= True , fmt='d')\n",
    "plt.show()\n",
    "\n",
    "print(f'Accuraccy score: {accuracy_score(y_valid,y_pred)}')\n",
    "print(f'classification report: \\n{classification_report(y_valid,y_pred)}')\n",
    "\n",
    "cv = RepeatedStratifiedKFold(n_splits=10, n_repeats=3, random_state=1)\n",
    "scores = cross_val_score(clf, X_united, y_united, scoring='roc_auc', cv=cv, n_jobs=-1)\n",
    "print('Mean ROC AUC: %.3f' % np.mean(scores))\n",
    "\n"
   ]
  },
  {
   "cell_type": "markdown",
   "metadata": {},
   "source": [
    "##### Ahora aplicaremos diferentes tecnicas de balanceo al dataset, relativas a Random Forest y Logistic Regression.\n",
    "Fuente: https://www.aprendemachinelearning.com/clasificacion-con-datos-desbalanceados/\n",
    "Fuente: https://machinelearningmastery.com/bagging-and-random-forest-for-imbalanced-classification/"
   ]
  },
  {
   "cell_type": "markdown",
   "metadata": {},
   "source": [
    "#### Relativo a Logistic Regression"
   ]
  },
  {
   "cell_type": "code",
   "execution_count": null,
   "metadata": {},
   "outputs": [
    {
     "name": "stderr",
     "output_type": "stream",
     "text": [
      "/workspace/.pyenv_mirror/user/current/lib/python3.8/site-packages/sklearn/linear_model/_logistic.py:444: ConvergenceWarning: lbfgs failed to converge (status=1):\n",
      "STOP: TOTAL NO. of ITERATIONS REACHED LIMIT.\n",
      "\n",
      "Increase the number of iterations (max_iter) or scale the data as shown in:\n",
      "    https://scikit-learn.org/stable/modules/preprocessing.html\n",
      "Please also refer to the documentation for alternative solver options:\n",
      "    https://scikit-learn.org/stable/modules/linear_model.html#logistic-regression\n",
      "  n_iter_i = _check_optimize_result(\n",
      "/workspace/.pyenv_mirror/user/current/lib/python3.8/site-packages/sklearn/linear_model/_logistic.py:444: ConvergenceWarning: lbfgs failed to converge (status=1):\n",
      "STOP: TOTAL NO. of ITERATIONS REACHED LIMIT.\n",
      "\n",
      "Increase the number of iterations (max_iter) or scale the data as shown in:\n",
      "    https://scikit-learn.org/stable/modules/preprocessing.html\n",
      "Please also refer to the documentation for alternative solver options:\n",
      "    https://scikit-learn.org/stable/modules/linear_model.html#logistic-regression\n",
      "  n_iter_i = _check_optimize_result(\n",
      "/workspace/.pyenv_mirror/user/current/lib/python3.8/site-packages/sklearn/linear_model/_logistic.py:444: ConvergenceWarning: lbfgs failed to converge (status=1):\n",
      "STOP: TOTAL NO. of ITERATIONS REACHED LIMIT.\n",
      "\n",
      "Increase the number of iterations (max_iter) or scale the data as shown in:\n",
      "    https://scikit-learn.org/stable/modules/preprocessing.html\n",
      "Please also refer to the documentation for alternative solver options:\n",
      "    https://scikit-learn.org/stable/modules/linear_model.html#logistic-regression\n",
      "  n_iter_i = _check_optimize_result(\n",
      "/workspace/.pyenv_mirror/user/current/lib/python3.8/site-packages/sklearn/linear_model/_logistic.py:444: ConvergenceWarning: lbfgs failed to converge (status=1):\n",
      "STOP: TOTAL NO. of ITERATIONS REACHED LIMIT.\n",
      "\n",
      "Increase the number of iterations (max_iter) or scale the data as shown in:\n",
      "    https://scikit-learn.org/stable/modules/preprocessing.html\n",
      "Please also refer to the documentation for alternative solver options:\n",
      "    https://scikit-learn.org/stable/modules/linear_model.html#logistic-regression\n",
      "  n_iter_i = _check_optimize_result(\n",
      "/workspace/.pyenv_mirror/user/current/lib/python3.8/site-packages/sklearn/linear_model/_logistic.py:444: ConvergenceWarning: lbfgs failed to converge (status=1):\n",
      "STOP: TOTAL NO. of ITERATIONS REACHED LIMIT.\n",
      "\n",
      "Increase the number of iterations (max_iter) or scale the data as shown in:\n",
      "    https://scikit-learn.org/stable/modules/preprocessing.html\n",
      "Please also refer to the documentation for alternative solver options:\n",
      "    https://scikit-learn.org/stable/modules/linear_model.html#logistic-regression\n",
      "  n_iter_i = _check_optimize_result(\n",
      "/workspace/.pyenv_mirror/user/current/lib/python3.8/site-packages/sklearn/linear_model/_logistic.py:444: ConvergenceWarning: lbfgs failed to converge (status=1):\n",
      "STOP: TOTAL NO. of ITERATIONS REACHED LIMIT.\n",
      "\n",
      "Increase the number of iterations (max_iter) or scale the data as shown in:\n",
      "    https://scikit-learn.org/stable/modules/preprocessing.html\n",
      "Please also refer to the documentation for alternative solver options:\n",
      "    https://scikit-learn.org/stable/modules/linear_model.html#logistic-regression\n",
      "  n_iter_i = _check_optimize_result(\n",
      "/workspace/.pyenv_mirror/user/current/lib/python3.8/site-packages/sklearn/linear_model/_logistic.py:444: ConvergenceWarning: lbfgs failed to converge (status=1):\n",
      "STOP: TOTAL NO. of ITERATIONS REACHED LIMIT.\n",
      "\n",
      "Increase the number of iterations (max_iter) or scale the data as shown in:\n",
      "    https://scikit-learn.org/stable/modules/preprocessing.html\n",
      "Please also refer to the documentation for alternative solver options:\n",
      "    https://scikit-learn.org/stable/modules/linear_model.html#logistic-regression\n",
      "  n_iter_i = _check_optimize_result(\n",
      "/workspace/.pyenv_mirror/user/current/lib/python3.8/site-packages/sklearn/linear_model/_logistic.py:444: ConvergenceWarning: lbfgs failed to converge (status=1):\n",
      "STOP: TOTAL NO. of ITERATIONS REACHED LIMIT.\n",
      "\n",
      "Increase the number of iterations (max_iter) or scale the data as shown in:\n",
      "    https://scikit-learn.org/stable/modules/preprocessing.html\n",
      "Please also refer to the documentation for alternative solver options:\n",
      "    https://scikit-learn.org/stable/modules/linear_model.html#logistic-regression\n",
      "  n_iter_i = _check_optimize_result(\n",
      "/workspace/.pyenv_mirror/user/current/lib/python3.8/site-packages/sklearn/linear_model/_logistic.py:444: ConvergenceWarning: lbfgs failed to converge (status=1):\n",
      "STOP: TOTAL NO. of ITERATIONS REACHED LIMIT.\n",
      "\n",
      "Increase the number of iterations (max_iter) or scale the data as shown in:\n",
      "    https://scikit-learn.org/stable/modules/preprocessing.html\n",
      "Please also refer to the documentation for alternative solver options:\n",
      "    https://scikit-learn.org/stable/modules/linear_model.html#logistic-regression\n",
      "  n_iter_i = _check_optimize_result(\n",
      "/workspace/.pyenv_mirror/user/current/lib/python3.8/site-packages/sklearn/linear_model/_logistic.py:444: ConvergenceWarning: lbfgs failed to converge (status=1):\n",
      "STOP: TOTAL NO. of ITERATIONS REACHED LIMIT.\n",
      "\n",
      "Increase the number of iterations (max_iter) or scale the data as shown in:\n",
      "    https://scikit-learn.org/stable/modules/preprocessing.html\n",
      "Please also refer to the documentation for alternative solver options:\n",
      "    https://scikit-learn.org/stable/modules/linear_model.html#logistic-regression\n",
      "  n_iter_i = _check_optimize_result(\n",
      "/workspace/.pyenv_mirror/user/current/lib/python3.8/site-packages/sklearn/linear_model/_logistic.py:444: ConvergenceWarning: lbfgs failed to converge (status=1):\n",
      "STOP: TOTAL NO. of ITERATIONS REACHED LIMIT.\n",
      "\n",
      "Increase the number of iterations (max_iter) or scale the data as shown in:\n",
      "    https://scikit-learn.org/stable/modules/preprocessing.html\n",
      "Please also refer to the documentation for alternative solver options:\n",
      "    https://scikit-learn.org/stable/modules/linear_model.html#logistic-regression\n",
      "  n_iter_i = _check_optimize_result(\n",
      "/workspace/.pyenv_mirror/user/current/lib/python3.8/site-packages/sklearn/linear_model/_logistic.py:444: ConvergenceWarning: lbfgs failed to converge (status=1):\n",
      "STOP: TOTAL NO. of ITERATIONS REACHED LIMIT.\n",
      "\n",
      "Increase the number of iterations (max_iter) or scale the data as shown in:\n",
      "    https://scikit-learn.org/stable/modules/preprocessing.html\n",
      "Please also refer to the documentation for alternative solver options:\n",
      "    https://scikit-learn.org/stable/modules/linear_model.html#logistic-regression\n",
      "  n_iter_i = _check_optimize_result(\n"
     ]
    },
    {
     "data": {
      "image/png": "[encoded data removed]",
      "text/plain": [
       "<Figure size 432x288 with 2 Axes>"
      ]
     },
     "metadata": {
      "needs_background": "light"
     },
     "output_type": "display_data"
    },
    {
     "name": "stdout",
     "output_type": "stream",
     "text": [
      "Accuraccy score: 0.8554166666666667\n",
      "classification report: \n",
      "              precision    recall  f1-score   support\n",
      "\n",
      "           0       0.99      0.85      0.91      2182\n",
      "           1       0.38      0.92      0.54       218\n",
      "\n",
      "    accuracy                           0.86      2400\n",
      "   macro avg       0.68      0.89      0.73      2400\n",
      "weighted avg       0.94      0.86      0.88      2400\n",
      "\n",
      "Mean ROC AUC: 0.904\n"
     ]
    }
   ],
   "source": [
    "#1)Penalizacion\n",
    "\n",
    "lr_pen = LogisticRegression(C=1.0,penalty='l2',random_state=1,solver=\"newton-cg\",class_weight=\"balanced\", max_iter=10000)\n",
    "lr_pen.fit(X_train, y_train)\n",
    "\n",
    "pred_y = lr_pen.predict(X_valid)\n",
    "modelAnalysis(lr_pen, pred_y)"
   ]
  },
  {
   "cell_type": "code",
   "execution_count": null,
   "metadata": {},
   "outputs": [
    {
     "name": "stdout",
     "output_type": "stream",
     "text": [
      "Distribution before resampling Counter({0: 17527, 1: 1670})\n",
      "Distribution after resampling Counter({0: 5566, 1: 1670})\n"
     ]
    },
    {
     "data": {
      "image/png": "[encoded data removed]",
      "text/plain": [
       "<Figure size 432x288 with 2 Axes>"
      ]
     },
     "metadata": {
      "needs_background": "light"
     },
     "output_type": "display_data"
    },
    {
     "name": "stdout",
     "output_type": "stream",
     "text": [
      "Accuraccy score: 0.9108333333333334\n",
      "classification report: \n",
      "              precision    recall  f1-score   support\n",
      "\n",
      "           0       0.91      1.00      0.95      2182\n",
      "           1       0.58      0.06      0.12       218\n",
      "\n",
      "    accuracy                           0.91      2400\n",
      "   macro avg       0.75      0.53      0.53      2400\n",
      "weighted avg       0.88      0.91      0.88      2400\n",
      "\n",
      "Mean ROC AUC: 0.898\n"
     ]
    }
   ],
   "source": [
    "# 2) Subsampling en la clase mayoritaria\n",
    "\n",
    "from collections import Counter\n",
    "from imblearn.under_sampling import NearMiss\n",
    "\n",
    "us = NearMiss(sampling_strategy=0.3, n_neighbors=3, version=2)\n",
    "X_train_res, y_train_res = us.fit_resample(X_train, y_train)\n",
    " \n",
    "print(f\"Distribution before resampling {Counter(y_train)}\")\n",
    "print(f\"Distribution after resampling {Counter(y_train_res)}\")\n",
    " \n",
    "lr_us = LogisticRegression(C=1.0,penalty='l2',random_state=1,solver=\"newton-cg\")\n",
    "lr_us.fit(X_train, y_train)\n",
    "pred_y = lr_us.predict(X_valid)\n",
    "modelAnalysis(lr_us, pred_y)"
   ]
  },
  {
   "cell_type": "code",
   "execution_count": null,
   "metadata": {},
   "outputs": [
    {
     "name": "stdout",
     "output_type": "stream",
     "text": [
      "Distribution before resampling Counter({0: 17527, 1: 1670})\n",
      "Distribution after resampling Counter({0: 17527, 1: 5258})\n"
     ]
    },
    {
     "data": {
      "image/png": "[encoded data removed]",
      "text/plain": [
       "<Figure size 432x288 with 2 Axes>"
      ]
     },
     "metadata": {
      "needs_background": "light"
     },
     "output_type": "display_data"
    },
    {
     "name": "stdout",
     "output_type": "stream",
     "text": [
      "Accuraccy score: 0.8845833333333334\n",
      "classification report: \n",
      "              precision    recall  f1-score   support\n",
      "\n",
      "           0       0.96      0.91      0.94      2182\n",
      "           1       0.41      0.59      0.48       218\n",
      "\n",
      "    accuracy                           0.88      2400\n",
      "   macro avg       0.68      0.75      0.71      2400\n",
      "weighted avg       0.91      0.88      0.89      2400\n",
      "\n",
      "Mean ROC AUC: 0.898\n"
     ]
    }
   ],
   "source": [
    "# 3) Oversampling de la clase minoritaria\n",
    "\n",
    "from collections import Counter\n",
    "from imblearn.over_sampling import RandomOverSampler\n",
    "\n",
    "os = RandomOverSampler(sampling_strategy=0.3)\n",
    "X_train_res, y_train_res = os.fit_resample(X_train, y_train)\n",
    " \n",
    "print(f\"Distribution before resampling {Counter(y_train)}\")\n",
    "print(f\"Distribution after resampling {Counter(y_train_res)}\")\n",
    " \n",
    "lr_os = LogisticRegression(C=1.0,penalty='l2',random_state=1,solver=\"newton-cg\")\n",
    "lr_os.fit(X_train_res, y_train_res)\n",
    "pred_y = lr_os.predict(X_valid)\n",
    "modelAnalysis(lr_os, pred_y)"
   ]
  },
  {
   "cell_type": "code",
   "execution_count": null,
   "metadata": {},
   "outputs": [],
   "source": []
  },
  {
   "cell_type": "code",
   "execution_count": null,
   "metadata": {},
   "outputs": [],
   "source": [
    "########################################################################################################################################"
   ]
  },
  {
   "cell_type": "markdown",
   "metadata": {},
   "source": [
    "#### Relativo a Random Forest"
   ]
  },
  {
   "cell_type": "code",
   "execution_count": null,
   "metadata": {},
   "outputs": [
    {
     "name": "stdout",
     "output_type": "stream",
     "text": [
      "Mean ROC AUC: 0.920\n"
     ]
    }
   ],
   "source": [
    "# 1) Class Weighting\n",
    "\n",
    "# A simple technique for modifying a decision tree for imbalanced classification is to change\n",
    "# the weight that each class has when calculating the “impurity” score of a chosen split point.\n",
    "# Impurity measures how mixed the groups of samples are for a given split in the training dataset \n",
    "# and is typically measured with Gini or entropy. The calculation can be biased so that a mixture\n",
    "#  in favor of the minority class is favored, allowing some false positives for the majority class.\n",
    "# This modification of random forest is referred to as Weighted Random Forest.\n",
    "\n",
    "clf = RandomForestClassifier(n_estimators=10, class_weight='balanced', random_state=42)\n",
    "\n",
    "cv = RepeatedStratifiedKFold(n_splits=10, n_repeats=3, random_state=1)\n",
    "scores = cross_val_score(clf, X_united, y_united, scoring='roc_auc', cv=cv, n_jobs=-1)\n",
    "print('Mean ROC AUC: %.3f' % np.mean(scores))"
   ]
  },
  {
   "cell_type": "code",
   "execution_count": null,
   "metadata": {},
   "outputs": [
    {
     "name": "stdout",
     "output_type": "stream",
     "text": [
      "Mean ROC AUC: 0.921\n"
     ]
    }
   ],
   "source": [
    "# 2) Bootstrap Class Weighting\n",
    "\n",
    "# Given that each decision tree is constructed from a bootstrap sample \n",
    "# (e.g. random selection with replacement), the class distribution in \n",
    "# the data sample will be different for each tree. As such, it might be \n",
    "# interesting to change the class weighting based on the class distribution \n",
    "# in each bootstrap sample, instead of the entire training dataset. This can \n",
    "# be achieved by setting the class_weight argument to the value ‘balanced_subsample‘.\n",
    "\n",
    "clf = RandomForestClassifier(n_estimators=10, class_weight='balanced_subsample', random_state=42)\n",
    "\n",
    "cv = RepeatedStratifiedKFold(n_splits=10, n_repeats=3, random_state=1)\n",
    "scores = cross_val_score(clf, X_united, y_united, scoring='roc_auc', cv=cv, n_jobs=-1)\n",
    "print('Mean ROC AUC: %.3f' % np.mean(scores))"
   ]
  },
  {
   "cell_type": "code",
   "execution_count": null,
   "metadata": {},
   "outputs": [
    {
     "name": "stdout",
     "output_type": "stream",
     "text": [
      "Mean ROC AUC: 0.942\n"
     ]
    }
   ],
   "source": [
    "# 3) Random Undersampling\n",
    "\n",
    "# Another useful modification to random forest is to perform data resampling on the\n",
    "#  bootstrap sample in order to explicitly change the class distribution. The \n",
    "# BalancedRandomForestClassifier class from the imbalanced-learn library implements \n",
    "# this and performs random undersampling of the majority class in reach bootstrap sample. \n",
    "# This is generally referred to as Balanced Random Forest.\n",
    "from imblearn.ensemble import BalancedRandomForestClassifier\n",
    "\n",
    "clf = BalancedRandomForestClassifier(n_estimators=10)\n",
    "\n",
    "cv = RepeatedStratifiedKFold(n_splits=10, n_repeats=3, random_state=1)\n",
    "scores = cross_val_score(clf, X_united, y_united, scoring='roc_auc', cv=cv, n_jobs=-1)\n",
    "print('Mean ROC AUC: %.3f' % np.mean(scores))"
   ]
  },
  {
   "cell_type": "code",
   "execution_count": null,
   "metadata": {},
   "outputs": [
    {
     "name": "stdout",
     "output_type": "stream",
     "text": [
      "Mean ROC AUC: 0.951\n"
     ]
    }
   ],
   "source": [
    "# 4) Ensemble\n",
    "\n",
    "# The Easy Ensemble involves creating balanced samples of the training dataset by selecting all examples\n",
    "#  from the minority class and a subset from the majority class. Rather than using pruned decision trees, \n",
    "# boosted decision trees are used on each subset, specifically the AdaBoost algorithm. AdaBoost works by \n",
    "# first fitting a decision tree on the dataset, then determining the errors made by the tree and weighing \n",
    "# the examples in the dataset by those errors so that more attention is paid to the misclassified examples \n",
    "# and less to the correctly classified examples. A subsequent tree is then fit on the weighted dataset \n",
    "# intended to correct the errors. The process is then repeated for a given number of decision trees.\n",
    "\n",
    "from imblearn.ensemble import EasyEnsembleClassifier\n",
    "\n",
    "clf = EasyEnsembleClassifier(n_estimators=10)\n",
    "\n",
    "cv = RepeatedStratifiedKFold(n_splits=10, n_repeats=3, random_state=1)\n",
    "scores = cross_val_score(clf, X_united, y_united, scoring='roc_auc', cv=cv, n_jobs=-1)\n",
    "print('Mean ROC AUC: %.3f' % np.mean(scores))"
   ]
  },
  {
   "cell_type": "code",
   "execution_count": null,
   "metadata": {},
   "outputs": [],
   "source": []
  },
  {
   "cell_type": "code",
   "execution_count": null,
   "metadata": {},
   "outputs": [],
   "source": []
  },
  {
   "cell_type": "code",
   "execution_count": null,
   "metadata": {},
   "outputs": [],
   "source": []
  },
  {
   "cell_type": "markdown",
   "metadata": {},
   "source": [
    "## Aplicacion de Random Forest"
   ]
  },
  {
   "cell_type": "code",
   "execution_count": null,
   "metadata": {},
   "outputs": [],
   "source": []
  },
  {
   "cell_type": "code",
   "execution_count": null,
   "metadata": {},
   "outputs": [],
   "source": []
  },
  {
   "cell_type": "code",
   "execution_count": null,
   "metadata": {},
   "outputs": [],
   "source": []
  },
  {
   "cell_type": "code",
   "execution_count": null,
   "metadata": {},
   "outputs": [],
   "source": []
  },
  {
   "cell_type": "code",
   "execution_count": null,
   "metadata": {},
   "outputs": [],
   "source": []
  },
  {
   "cell_type": "code",
   "execution_count": null,
   "metadata": {},
   "outputs": [],
   "source": []
  },
  {
   "cell_type": "code",
   "execution_count": null,
   "metadata": {},
   "outputs": [],
   "source": []
  },
  {
   "cell_type": "code",
   "execution_count": null,
   "metadata": {},
   "outputs": [],
   "source": []
  },
  {
   "cell_type": "code",
   "execution_count": null,
   "metadata": {},
   "outputs": [],
   "source": []
  },
  {
   "cell_type": "code",
   "execution_count": null,
   "metadata": {},
   "outputs": [],
   "source": []
  }
 ],
 "metadata": {
  "kernelspec": {
   "display_name": "Python 3.8.13 64-bit ('3.8.13')",
   "language": "python",
   "name": "python3"
  },
  "language_info": {
   "codemirror_mode": {
    "name": "ipython",
    "version": 3
   },
   "file_extension": ".py",
   "mimetype": "text/x-python",
   "name": "python",
   "nbconvert_exporter": "python",
   "pygments_lexer": "ipython3",
   "version": "3.8.13"
  },
  "orig_nbformat": 4,
  "vscode": {
   "interpreter": {
    "hash": "110cc1dee26208153f2972f08a2ad52b6a56238dc66d48e87fb757ef2996db56"
   }
  }
 },
 "nbformat": 4,
 "nbformat_minor": 2
}
