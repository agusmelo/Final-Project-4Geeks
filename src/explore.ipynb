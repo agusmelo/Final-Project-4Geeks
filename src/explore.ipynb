{
 "cells": [
  {
   "cell_type": "code",
   "execution_count": 127,
   "metadata": {},
   "outputs": [
    {
     "name": "stdout",
     "output_type": "stream",
     "text": [
      "Requirement already satisfied: pip in /home/gitpod/.pyenv/versions/3.8.13/lib/python3.8/site-packages (22.2.2)\n",
      "Requirement already satisfied: pandas==1.4.2 in /home/gitpod/.pyenv/versions/3.8.13/lib/python3.8/site-packages (from -r ../requirements.txt (line 1)) (1.4.2)\n",
      "Requirement already satisfied: python-dotenv==0.20.0 in /home/gitpod/.pyenv/versions/3.8.13/lib/python3.8/site-packages (from -r ../requirements.txt (line 2)) (0.20.0)\n",
      "Requirement already satisfied: requests==2.27.1 in /home/gitpod/.pyenv/versions/3.8.13/lib/python3.8/site-packages (from -r ../requirements.txt (line 3)) (2.27.1)\n",
      "Requirement already satisfied: numpy>=1.18.5 in /home/gitpod/.pyenv/versions/3.8.13/lib/python3.8/site-packages (from -r ../requirements.txt (line 4)) (1.23.2)\n",
      "Requirement already satisfied: matplotlib>=3.2.2 in /home/gitpod/.pyenv/versions/3.8.13/lib/python3.8/site-packages (from -r ../requirements.txt (line 5)) (3.5.3)\n",
      "Requirement already satisfied: sklearn in /home/gitpod/.pyenv/versions/3.8.13/lib/python3.8/site-packages (from -r ../requirements.txt (line 6)) (0.0)\n",
      "Requirement already satisfied: seaborn in /home/gitpod/.pyenv/versions/3.8.13/lib/python3.8/site-packages (from -r ../requirements.txt (line 7)) (0.11.2)\n",
      "Requirement already satisfied: python-dateutil>=2.8.1 in /home/gitpod/.pyenv/versions/3.8.13/lib/python3.8/site-packages (from pandas==1.4.2->-r ../requirements.txt (line 1)) (2.8.2)\n",
      "Requirement already satisfied: pytz>=2020.1 in /home/gitpod/.pyenv/versions/3.8.13/lib/python3.8/site-packages (from pandas==1.4.2->-r ../requirements.txt (line 1)) (2022.2.1)\n",
      "Requirement already satisfied: idna<4,>=2.5 in /home/gitpod/.pyenv/versions/3.8.13/lib/python3.8/site-packages (from requests==2.27.1->-r ../requirements.txt (line 3)) (3.3)\n",
      "Requirement already satisfied: certifi>=2017.4.17 in /home/gitpod/.pyenv/versions/3.8.13/lib/python3.8/site-packages (from requests==2.27.1->-r ../requirements.txt (line 3)) (2022.6.15)\n",
      "Requirement already satisfied: urllib3<1.27,>=1.21.1 in /home/gitpod/.pyenv/versions/3.8.13/lib/python3.8/site-packages (from requests==2.27.1->-r ../requirements.txt (line 3)) (1.26.11)\n",
      "Requirement already satisfied: charset-normalizer~=2.0.0 in /home/gitpod/.pyenv/versions/3.8.13/lib/python3.8/site-packages (from requests==2.27.1->-r ../requirements.txt (line 3)) (2.0.12)\n",
      "Requirement already satisfied: pillow>=6.2.0 in /home/gitpod/.pyenv/versions/3.8.13/lib/python3.8/site-packages (from matplotlib>=3.2.2->-r ../requirements.txt (line 5)) (9.2.0)\n",
      "Requirement already satisfied: fonttools>=4.22.0 in /home/gitpod/.pyenv/versions/3.8.13/lib/python3.8/site-packages (from matplotlib>=3.2.2->-r ../requirements.txt (line 5)) (4.36.0)\n",
      "Requirement already satisfied: kiwisolver>=1.0.1 in /home/gitpod/.pyenv/versions/3.8.13/lib/python3.8/site-packages (from matplotlib>=3.2.2->-r ../requirements.txt (line 5)) (1.4.4)\n",
      "Requirement already satisfied: pyparsing>=2.2.1 in /home/gitpod/.pyenv/versions/3.8.13/lib/python3.8/site-packages (from matplotlib>=3.2.2->-r ../requirements.txt (line 5)) (3.0.9)\n",
      "Requirement already satisfied: packaging>=20.0 in /home/gitpod/.pyenv/versions/3.8.13/lib/python3.8/site-packages (from matplotlib>=3.2.2->-r ../requirements.txt (line 5)) (21.3)\n",
      "Requirement already satisfied: cycler>=0.10 in /home/gitpod/.pyenv/versions/3.8.13/lib/python3.8/site-packages (from matplotlib>=3.2.2->-r ../requirements.txt (line 5)) (0.11.0)\n",
      "Requirement already satisfied: scikit-learn in /home/gitpod/.pyenv/versions/3.8.13/lib/python3.8/site-packages (from sklearn->-r ../requirements.txt (line 6)) (1.1.2)\n",
      "Requirement already satisfied: scipy>=1.0 in /home/gitpod/.pyenv/versions/3.8.13/lib/python3.8/site-packages (from seaborn->-r ../requirements.txt (line 7)) (1.9.0)\n",
      "Requirement already satisfied: six>=1.5 in /home/gitpod/.pyenv/versions/3.8.13/lib/python3.8/site-packages (from python-dateutil>=2.8.1->pandas==1.4.2->-r ../requirements.txt (line 1)) (1.16.0)\n",
      "Requirement already satisfied: joblib>=1.0.0 in /home/gitpod/.pyenv/versions/3.8.13/lib/python3.8/site-packages (from scikit-learn->sklearn->-r ../requirements.txt (line 6)) (1.1.0)\n",
      "Requirement already satisfied: threadpoolctl>=2.0.0 in /home/gitpod/.pyenv/versions/3.8.13/lib/python3.8/site-packages (from scikit-learn->sklearn->-r ../requirements.txt (line 6)) (3.1.0)\n"
     ]
    }
   ],
   "source": [
    "!pip install --upgrade pip\n",
    "!pip install -r ../requirements.txt"
   ]
  },
  {
   "cell_type": "code",
   "execution_count": 128,
   "metadata": {},
   "outputs": [],
   "source": [
    "import pandas as pd\n",
    "import numpy as np\n",
    "import matplotlib.pyplot as plt\n",
    "import seaborn as sns\n",
    "from sklearn.impute import SimpleImputer"
   ]
  },
  {
   "cell_type": "code",
   "execution_count": 129,
   "metadata": {},
   "outputs": [],
   "source": [
    "# Fuente: https://www.kaggle.com/datasets/adityaramachandran27/nasa-near-earth-objects-information"
   ]
  },
  {
   "cell_type": "code",
   "execution_count": 130,
   "metadata": {},
   "outputs": [
    {
     "name": "stdout",
     "output_type": "stream",
     "text": [
      "Archive:  ../data/nasa_neo.zip\n",
      "replace NASA Near-Earth Objects.csv? [y]es, [n]o, [A]ll, [N]one, [r]ename: ^C\n",
      "mv: cannot stat 'nasa_neo.csv': No such file or directory\n"
     ]
    }
   ],
   "source": [
    "!unzip ../data/nasa_neo.zip\n",
    "!mv nasa_neo.csv ../data"
   ]
  },
  {
   "cell_type": "code",
   "execution_count": 146,
   "metadata": {},
   "outputs": [],
   "source": [
    "df_raw = pd.read_csv('../data/nasa_neo.csv')"
   ]
  },
  {
   "cell_type": "markdown",
   "metadata": {},
   "source": [
    "### Objetivos de estudio\n",
    "\n",
    "- Analizar el dataset, buscar correlaciones entre variables y transformar datos\n",
    "- Evaluar como solucionar la problematica de que el dataset es desbalanceado en la columna target de interes\n",
    "- Aplicar algoritmos de clasificacion para determinar si un NEO tiene peligro potencial de impacto"
   ]
  },
  {
   "cell_type": "markdown",
   "metadata": {},
   "source": [
    "### Diccionario de datos:\n",
    "\n",
    "- Unnamed: 0: Default index\n",
    "\n",
    "- id: A unique ID given by NASA\n",
    "\n",
    "- neo_reference_id: A unique ID given by NASA to all NEO, same as the ID\n",
    "\n",
    "- name: Official name given by NASA\n",
    "\n",
    "- name_limited: Normal name without the scientific notations\n",
    "\n",
    "- designation: The number used in the official name given by NASA\n",
    "\n",
    "- absolute_magnitude_h: Absolute magnitude (M) is a measure of the luminosity of a celestial object, on an inverse logarithmic astronomical\n",
    "\n",
    "- is_potentially_hazardous_asteroid: Boolean value which tells if the object poses a threat to earth or not\n",
    "\n",
    "- is_sentry_object: Boolean value which tells if the object is present in the sentry tracking system or not (Sentry: https://en.wikipedia.org/wiki/Sentry_(monitoring_system))\n",
    "\n",
    "- kilometers_estimated_diameter_min: Minimum estimated diameter in kilometer\n",
    "\n",
    "- kilometers_estimated_diameter_max: Maximum estimated diameter in kilometer\n",
    "\n",
    "- orbit_id: A unique ID for the orbit of the object\n",
    "\n",
    "- orbit_class_type: Classification of the object orbit into classes\n",
    "\n",
    "    - (AMO is referring to Amor asteroids: near-Earth asteroids. The orbital perihelion of these objects is close to, but greater than, the orbital aphelion of Earth (a > 1.0 AU and 1.017 AU < q < 1.3 AU).\n",
    "\n",
    "    - APO is referring to Apollo asteroids: near-Earth asteroid orbits which cross the Earth's orbit (a > 1.0 AU and q < 1.017 AU).)\n",
    "\n",
    "    - (Abajo hay mas info sobre el tema, incluyendo las orbitas de tipo ATE e IEO)\n",
    "\n",
    "- perihelion_distance: Has the perihelion distance (the point nearest to the Earth in the path of an orbiting celestial body)\n",
    "\n",
    "- aphelion_distance: Has the aphelion distance (the point in the orbit of a planet, asteroid, or object at which it is furthest from the Earth)\n",
    "\n",
    "- first_observation_date: Date when the object was first observed\n",
    "\n",
    "- last_observation_date: Date when the object was last observed\n",
    "\n",
    "- orbit_class_description: The description of the orbit\n",
    "\n",
    "(Diccionario extrído de la fuente)"
   ]
  },
  {
   "cell_type": "markdown",
   "metadata": {},
   "source": [
    "Asteroids are dynamically classified as \"Near-Earth\" if their perihelion distance is less than 1.3 AU. They are further divided into groups based on their semi-major axis (a), perihelion distance (q), and aphelion distance (Q).\n",
    "\n",
    "- Apollos (APO) cross Earth's orbit and have a semi-major axis of more than 1 AU\n",
    "- Amors (AMO) have orbits strictly outside Earth's orbit\n",
    "- Atens (ATE) cross Earth's orbit and have a semi-major axis of less than 1 AU\n",
    "- Atiras (IEO) have orbits strictly inside Earth's orbit\n",
    "\n",
    "(Fuente: https://www.comet-toolbox.com/neos.html)"
   ]
  },
  {
   "cell_type": "code",
   "execution_count": 147,
   "metadata": {},
   "outputs": [
    {
     "name": "stdout",
     "output_type": "stream",
     "text": [
      "<class 'pandas.core.frame.DataFrame'>\n",
      "RangeIndex: 24000 entries, 0 to 23999\n",
      "Data columns (total 18 columns):\n",
      " #   Column                             Non-Null Count  Dtype  \n",
      "---  ------                             --------------  -----  \n",
      " 0   Unnamed: 0                         24000 non-null  int64  \n",
      " 1   id                                 24000 non-null  int64  \n",
      " 2   neo_reference_id                   24000 non-null  int64  \n",
      " 3   name                               24000 non-null  object \n",
      " 4   name_limited                       144 non-null    object \n",
      " 5   designation                        24000 non-null  object \n",
      " 6   absolute_magnitude_h               23992 non-null  float64\n",
      " 7   is_potentially_hazardous_asteroid  24000 non-null  bool   \n",
      " 8   is_sentry_object                   24000 non-null  bool   \n",
      " 9   kilometers_estimated_diameter_min  23992 non-null  float64\n",
      " 10  kilometers_estimated_diameter_max  23992 non-null  float64\n",
      " 11  orbit_id                           24000 non-null  object \n",
      " 12  orbit_class_type                   24000 non-null  object \n",
      " 13  perihelion_distance                24000 non-null  float64\n",
      " 14  aphelion_distance                  24000 non-null  float64\n",
      " 15  first_observation_date             24000 non-null  object \n",
      " 16  last_observation_date              24000 non-null  object \n",
      " 17  orbit_class_description            24000 non-null  object \n",
      "dtypes: bool(2), float64(5), int64(3), object(8)\n",
      "memory usage: 3.0+ MB\n"
     ]
    }
   ],
   "source": [
    "# info del dataset\n",
    "\n",
    "df_raw.info()"
   ]
  },
  {
   "cell_type": "markdown",
   "metadata": {},
   "source": [
    "Observar que hay datos faltantes en columnas como 'absolute_magnitude_h ' y 'name_limited'. En el segundo caso es porque NASA no le asigna nombres propios a todos los cuerpos"
   ]
  },
  {
   "cell_type": "code",
   "execution_count": 148,
   "metadata": {},
   "outputs": [],
   "source": [
    "# Drop de columna Unnamed (index de sobra)\n",
    "\n",
    "df_raw.drop(columns = ['Unnamed: 0'], inplace = True)"
   ]
  },
  {
   "cell_type": "code",
   "execution_count": 149,
   "metadata": {},
   "outputs": [
    {
     "data": {
      "text/html": [
       "<div>\n",
       "<style scoped>\n",
       "    .dataframe tbody tr th:only-of-type {\n",
       "        vertical-align: middle;\n",
       "    }\n",
       "\n",
       "    .dataframe tbody tr th {\n",
       "        vertical-align: top;\n",
       "    }\n",
       "\n",
       "    .dataframe thead th {\n",
       "        text-align: right;\n",
       "    }\n",
       "</style>\n",
       "<table border=\"1\" class=\"dataframe\">\n",
       "  <thead>\n",
       "    <tr style=\"text-align: right;\">\n",
       "      <th></th>\n",
       "      <th>id</th>\n",
       "      <th>neo_reference_id</th>\n",
       "      <th>absolute_magnitude_h</th>\n",
       "      <th>kilometers_estimated_diameter_min</th>\n",
       "      <th>kilometers_estimated_diameter_max</th>\n",
       "      <th>perihelion_distance</th>\n",
       "      <th>aphelion_distance</th>\n",
       "    </tr>\n",
       "  </thead>\n",
       "  <tbody>\n",
       "    <tr>\n",
       "      <th>count</th>\n",
       "      <td>2.400000e+04</td>\n",
       "      <td>2.400000e+04</td>\n",
       "      <td>23992.000000</td>\n",
       "      <td>23992.000000</td>\n",
       "      <td>23992.000000</td>\n",
       "      <td>24000.000000</td>\n",
       "      <td>24000.000000</td>\n",
       "    </tr>\n",
       "    <tr>\n",
       "      <th>mean</th>\n",
       "      <td>7.275111e+06</td>\n",
       "      <td>7.275111e+06</td>\n",
       "      <td>22.942274</td>\n",
       "      <td>0.167777</td>\n",
       "      <td>0.375160</td>\n",
       "      <td>0.915225</td>\n",
       "      <td>2.653104</td>\n",
       "    </tr>\n",
       "    <tr>\n",
       "      <th>std</th>\n",
       "      <td>1.333987e+07</td>\n",
       "      <td>1.333987e+07</td>\n",
       "      <td>2.952871</td>\n",
       "      <td>0.293000</td>\n",
       "      <td>0.655169</td>\n",
       "      <td>0.232201</td>\n",
       "      <td>4.468233</td>\n",
       "    </tr>\n",
       "    <tr>\n",
       "      <th>min</th>\n",
       "      <td>2.001981e+06</td>\n",
       "      <td>2.001981e+06</td>\n",
       "      <td>12.580000</td>\n",
       "      <td>0.000609</td>\n",
       "      <td>0.001362</td>\n",
       "      <td>0.070431</td>\n",
       "      <td>0.653754</td>\n",
       "    </tr>\n",
       "    <tr>\n",
       "      <th>25%</th>\n",
       "      <td>3.409962e+06</td>\n",
       "      <td>3.409962e+06</td>\n",
       "      <td>20.650000</td>\n",
       "      <td>0.024241</td>\n",
       "      <td>0.054205</td>\n",
       "      <td>0.785150</td>\n",
       "      <td>1.706281</td>\n",
       "    </tr>\n",
       "    <tr>\n",
       "      <th>50%</th>\n",
       "      <td>3.703790e+06</td>\n",
       "      <td>3.703790e+06</td>\n",
       "      <td>23.200000</td>\n",
       "      <td>0.060891</td>\n",
       "      <td>0.136157</td>\n",
       "      <td>0.965325</td>\n",
       "      <td>2.480109</td>\n",
       "    </tr>\n",
       "    <tr>\n",
       "      <th>75%</th>\n",
       "      <td>3.803897e+06</td>\n",
       "      <td>3.803897e+06</td>\n",
       "      <td>25.200000</td>\n",
       "      <td>0.197040</td>\n",
       "      <td>0.440595</td>\n",
       "      <td>1.068984</td>\n",
       "      <td>3.397965</td>\n",
       "    </tr>\n",
       "    <tr>\n",
       "      <th>max</th>\n",
       "      <td>5.408749e+07</td>\n",
       "      <td>5.408749e+07</td>\n",
       "      <td>33.200000</td>\n",
       "      <td>8.101305</td>\n",
       "      <td>18.115068</td>\n",
       "      <td>1.299988</td>\n",
       "      <td>631.895456</td>\n",
       "    </tr>\n",
       "  </tbody>\n",
       "</table>\n",
       "</div>"
      ],
      "text/plain": [
       "                 id  neo_reference_id  absolute_magnitude_h  \\\n",
       "count  2.400000e+04      2.400000e+04          23992.000000   \n",
       "mean   7.275111e+06      7.275111e+06             22.942274   \n",
       "std    1.333987e+07      1.333987e+07              2.952871   \n",
       "min    2.001981e+06      2.001981e+06             12.580000   \n",
       "25%    3.409962e+06      3.409962e+06             20.650000   \n",
       "50%    3.703790e+06      3.703790e+06             23.200000   \n",
       "75%    3.803897e+06      3.803897e+06             25.200000   \n",
       "max    5.408749e+07      5.408749e+07             33.200000   \n",
       "\n",
       "       kilometers_estimated_diameter_min  kilometers_estimated_diameter_max  \\\n",
       "count                       23992.000000                       23992.000000   \n",
       "mean                            0.167777                           0.375160   \n",
       "std                             0.293000                           0.655169   \n",
       "min                             0.000609                           0.001362   \n",
       "25%                             0.024241                           0.054205   \n",
       "50%                             0.060891                           0.136157   \n",
       "75%                             0.197040                           0.440595   \n",
       "max                             8.101305                          18.115068   \n",
       "\n",
       "       perihelion_distance  aphelion_distance  \n",
       "count         24000.000000       24000.000000  \n",
       "mean              0.915225           2.653104  \n",
       "std               0.232201           4.468233  \n",
       "min               0.070431           0.653754  \n",
       "25%               0.785150           1.706281  \n",
       "50%               0.965325           2.480109  \n",
       "75%               1.068984           3.397965  \n",
       "max               1.299988         631.895456  "
      ]
     },
     "execution_count": 149,
     "metadata": {},
     "output_type": "execute_result"
    }
   ],
   "source": [
    "df_raw.describe()"
   ]
  },
  {
   "cell_type": "code",
   "execution_count": 135,
   "metadata": {},
   "outputs": [
    {
     "data": {
      "text/html": [
       "<div>\n",
       "<style scoped>\n",
       "    .dataframe tbody tr th:only-of-type {\n",
       "        vertical-align: middle;\n",
       "    }\n",
       "\n",
       "    .dataframe tbody tr th {\n",
       "        vertical-align: top;\n",
       "    }\n",
       "\n",
       "    .dataframe thead th {\n",
       "        text-align: right;\n",
       "    }\n",
       "</style>\n",
       "<table border=\"1\" class=\"dataframe\">\n",
       "  <thead>\n",
       "    <tr style=\"text-align: right;\">\n",
       "      <th></th>\n",
       "      <th>name</th>\n",
       "      <th>name_limited</th>\n",
       "      <th>designation</th>\n",
       "      <th>is_potentially_hazardous_asteroid</th>\n",
       "      <th>is_sentry_object</th>\n",
       "      <th>orbit_id</th>\n",
       "      <th>orbit_class_type</th>\n",
       "      <th>first_observation_date</th>\n",
       "      <th>last_observation_date</th>\n",
       "      <th>orbit_class_description</th>\n",
       "    </tr>\n",
       "  </thead>\n",
       "  <tbody>\n",
       "    <tr>\n",
       "      <th>count</th>\n",
       "      <td>24000</td>\n",
       "      <td>144</td>\n",
       "      <td>24000</td>\n",
       "      <td>24000</td>\n",
       "      <td>24000</td>\n",
       "      <td>24000</td>\n",
       "      <td>24000</td>\n",
       "      <td>24000</td>\n",
       "      <td>24000</td>\n",
       "      <td>24000</td>\n",
       "    </tr>\n",
       "    <tr>\n",
       "      <th>unique</th>\n",
       "      <td>24000</td>\n",
       "      <td>144</td>\n",
       "      <td>24000</td>\n",
       "      <td>2</td>\n",
       "      <td>2</td>\n",
       "      <td>352</td>\n",
       "      <td>4</td>\n",
       "      <td>5964</td>\n",
       "      <td>5016</td>\n",
       "      <td>4</td>\n",
       "    </tr>\n",
       "    <tr>\n",
       "      <th>top</th>\n",
       "      <td>1981 Midas (1973 EA)</td>\n",
       "      <td>Midas</td>\n",
       "      <td>1981</td>\n",
       "      <td>False</td>\n",
       "      <td>False</td>\n",
       "      <td>7</td>\n",
       "      <td>APO</td>\n",
       "      <td>2014-04-23</td>\n",
       "      <td>2022-04-15</td>\n",
       "      <td>Near-Earth asteroid orbits which cross the Ear...</td>\n",
       "    </tr>\n",
       "    <tr>\n",
       "      <th>freq</th>\n",
       "      <td>1</td>\n",
       "      <td>1</td>\n",
       "      <td>1</td>\n",
       "      <td>21906</td>\n",
       "      <td>22934</td>\n",
       "      <td>1485</td>\n",
       "      <td>13245</td>\n",
       "      <td>67</td>\n",
       "      <td>40</td>\n",
       "      <td>13245</td>\n",
       "    </tr>\n",
       "  </tbody>\n",
       "</table>\n",
       "</div>"
      ],
      "text/plain": [
       "                        name name_limited designation  \\\n",
       "count                  24000          144       24000   \n",
       "unique                 24000          144       24000   \n",
       "top     1981 Midas (1973 EA)        Midas        1981   \n",
       "freq                       1            1           1   \n",
       "\n",
       "       is_potentially_hazardous_asteroid is_sentry_object orbit_id  \\\n",
       "count                              24000            24000    24000   \n",
       "unique                                 2                2      352   \n",
       "top                                False            False        7   \n",
       "freq                               21906            22934     1485   \n",
       "\n",
       "       orbit_class_type first_observation_date last_observation_date  \\\n",
       "count             24000                  24000                 24000   \n",
       "unique                4                   5964                  5016   \n",
       "top                 APO             2014-04-23            2022-04-15   \n",
       "freq              13245                     67                    40   \n",
       "\n",
       "                                  orbit_class_description  \n",
       "count                                               24000  \n",
       "unique                                                  4  \n",
       "top     Near-Earth asteroid orbits which cross the Ear...  \n",
       "freq                                                13245  "
      ]
     },
     "execution_count": 135,
     "metadata": {},
     "output_type": "execute_result"
    }
   ],
   "source": [
    "df_raw.describe(include = ['object','bool'])"
   ]
  },
  {
   "cell_type": "markdown",
   "metadata": {},
   "source": [
    "Podemos ver que la asignacion de nombres por parte de la NASA es unica, ya que en las columnas 'name', 'name_limited' y 'designation' tenemos todos valores unicos. Vamos a chequear tambien en la columna 'id' si se cumple"
   ]
  },
  {
   "cell_type": "code",
   "execution_count": 150,
   "metadata": {},
   "outputs": [
    {
     "data": {
      "text/plain": [
       "False"
      ]
     },
     "execution_count": 150,
     "metadata": {},
     "output_type": "execute_result"
    }
   ],
   "source": [
    "df_raw['id'].duplicated().any()"
   ]
  },
  {
   "cell_type": "code",
   "execution_count": 137,
   "metadata": {},
   "outputs": [
    {
     "data": {
      "text/html": [
       "<div>\n",
       "<style scoped>\n",
       "    .dataframe tbody tr th:only-of-type {\n",
       "        vertical-align: middle;\n",
       "    }\n",
       "\n",
       "    .dataframe tbody tr th {\n",
       "        vertical-align: top;\n",
       "    }\n",
       "\n",
       "    .dataframe thead th {\n",
       "        text-align: right;\n",
       "    }\n",
       "</style>\n",
       "<table border=\"1\" class=\"dataframe\">\n",
       "  <thead>\n",
       "    <tr style=\"text-align: right;\">\n",
       "      <th></th>\n",
       "      <th>id</th>\n",
       "      <th>neo_reference_id</th>\n",
       "      <th>name</th>\n",
       "      <th>name_limited</th>\n",
       "      <th>designation</th>\n",
       "      <th>absolute_magnitude_h</th>\n",
       "      <th>is_potentially_hazardous_asteroid</th>\n",
       "      <th>is_sentry_object</th>\n",
       "      <th>kilometers_estimated_diameter_min</th>\n",
       "      <th>kilometers_estimated_diameter_max</th>\n",
       "      <th>orbit_id</th>\n",
       "      <th>orbit_class_type</th>\n",
       "      <th>perihelion_distance</th>\n",
       "      <th>aphelion_distance</th>\n",
       "      <th>first_observation_date</th>\n",
       "      <th>last_observation_date</th>\n",
       "      <th>orbit_class_description</th>\n",
       "    </tr>\n",
       "  </thead>\n",
       "  <tbody>\n",
       "    <tr>\n",
       "      <th>23712</th>\n",
       "      <td>54054560</td>\n",
       "      <td>54054560</td>\n",
       "      <td>(2020 SZ2)</td>\n",
       "      <td>NaN</td>\n",
       "      <td>2020 SZ2</td>\n",
       "      <td>29.4</td>\n",
       "      <td>False</td>\n",
       "      <td>False</td>\n",
       "      <td>0.003504</td>\n",
       "      <td>0.007835</td>\n",
       "      <td>2</td>\n",
       "      <td>APO</td>\n",
       "      <td>0.886686</td>\n",
       "      <td>2.434870</td>\n",
       "      <td>2020-09-20</td>\n",
       "      <td>2020-09-21</td>\n",
       "      <td>Near-Earth asteroid orbits which cross the Ear...</td>\n",
       "    </tr>\n",
       "    <tr>\n",
       "      <th>10913</th>\n",
       "      <td>3669145</td>\n",
       "      <td>3669145</td>\n",
       "      <td>(2014 HT46)</td>\n",
       "      <td>NaN</td>\n",
       "      <td>2014 HT46</td>\n",
       "      <td>26.6</td>\n",
       "      <td>False</td>\n",
       "      <td>False</td>\n",
       "      <td>0.012722</td>\n",
       "      <td>0.028447</td>\n",
       "      <td>16</td>\n",
       "      <td>APO</td>\n",
       "      <td>0.982939</td>\n",
       "      <td>1.580889</td>\n",
       "      <td>2014-04-23</td>\n",
       "      <td>2014-05-05</td>\n",
       "      <td>Near-Earth asteroid orbits which cross the Ear...</td>\n",
       "    </tr>\n",
       "    <tr>\n",
       "      <th>5130</th>\n",
       "      <td>3353633</td>\n",
       "      <td>3353633</td>\n",
       "      <td>(2006 UE64)</td>\n",
       "      <td>NaN</td>\n",
       "      <td>2006 UE64</td>\n",
       "      <td>28.0</td>\n",
       "      <td>False</td>\n",
       "      <td>False</td>\n",
       "      <td>0.006677</td>\n",
       "      <td>0.014929</td>\n",
       "      <td>9</td>\n",
       "      <td>APO</td>\n",
       "      <td>0.812747</td>\n",
       "      <td>1.827571</td>\n",
       "      <td>2006-10-23</td>\n",
       "      <td>2006-10-26</td>\n",
       "      <td>Near-Earth asteroid orbits which cross the Ear...</td>\n",
       "    </tr>\n",
       "    <tr>\n",
       "      <th>22152</th>\n",
       "      <td>3991642</td>\n",
       "      <td>3991642</td>\n",
       "      <td>(2020 CA3)</td>\n",
       "      <td>NaN</td>\n",
       "      <td>2020 CA3</td>\n",
       "      <td>25.2</td>\n",
       "      <td>False</td>\n",
       "      <td>False</td>\n",
       "      <td>0.024241</td>\n",
       "      <td>0.054205</td>\n",
       "      <td>11</td>\n",
       "      <td>APO</td>\n",
       "      <td>0.974674</td>\n",
       "      <td>1.767450</td>\n",
       "      <td>2020-02-15</td>\n",
       "      <td>2020-03-07</td>\n",
       "      <td>Near-Earth asteroid orbits which cross the Ear...</td>\n",
       "    </tr>\n",
       "    <tr>\n",
       "      <th>10615</th>\n",
       "      <td>3656919</td>\n",
       "      <td>3656919</td>\n",
       "      <td>(2014 BG3)</td>\n",
       "      <td>NaN</td>\n",
       "      <td>2014 BG3</td>\n",
       "      <td>21.1</td>\n",
       "      <td>False</td>\n",
       "      <td>False</td>\n",
       "      <td>0.160160</td>\n",
       "      <td>0.358129</td>\n",
       "      <td>20</td>\n",
       "      <td>APO</td>\n",
       "      <td>0.733851</td>\n",
       "      <td>1.851787</td>\n",
       "      <td>2014-01-21</td>\n",
       "      <td>2020-01-30</td>\n",
       "      <td>Near-Earth asteroid orbits which cross the Ear...</td>\n",
       "    </tr>\n",
       "  </tbody>\n",
       "</table>\n",
       "</div>"
      ],
      "text/plain": [
       "             id  neo_reference_id         name name_limited designation  \\\n",
       "23712  54054560          54054560   (2020 SZ2)          NaN    2020 SZ2   \n",
       "10913   3669145           3669145  (2014 HT46)          NaN   2014 HT46   \n",
       "5130    3353633           3353633  (2006 UE64)          NaN   2006 UE64   \n",
       "22152   3991642           3991642   (2020 CA3)          NaN    2020 CA3   \n",
       "10615   3656919           3656919   (2014 BG3)          NaN    2014 BG3   \n",
       "\n",
       "       absolute_magnitude_h  is_potentially_hazardous_asteroid  \\\n",
       "23712                  29.4                              False   \n",
       "10913                  26.6                              False   \n",
       "5130                   28.0                              False   \n",
       "22152                  25.2                              False   \n",
       "10615                  21.1                              False   \n",
       "\n",
       "       is_sentry_object  kilometers_estimated_diameter_min  \\\n",
       "23712             False                           0.003504   \n",
       "10913             False                           0.012722   \n",
       "5130              False                           0.006677   \n",
       "22152             False                           0.024241   \n",
       "10615             False                           0.160160   \n",
       "\n",
       "       kilometers_estimated_diameter_max orbit_id orbit_class_type  \\\n",
       "23712                           0.007835        2              APO   \n",
       "10913                           0.028447       16              APO   \n",
       "5130                            0.014929        9              APO   \n",
       "22152                           0.054205       11              APO   \n",
       "10615                           0.358129       20              APO   \n",
       "\n",
       "       perihelion_distance  aphelion_distance first_observation_date  \\\n",
       "23712             0.886686           2.434870             2020-09-20   \n",
       "10913             0.982939           1.580889             2014-04-23   \n",
       "5130              0.812747           1.827571             2006-10-23   \n",
       "22152             0.974674           1.767450             2020-02-15   \n",
       "10615             0.733851           1.851787             2014-01-21   \n",
       "\n",
       "      last_observation_date                            orbit_class_description  \n",
       "23712            2020-09-21  Near-Earth asteroid orbits which cross the Ear...  \n",
       "10913            2014-05-05  Near-Earth asteroid orbits which cross the Ear...  \n",
       "5130             2006-10-26  Near-Earth asteroid orbits which cross the Ear...  \n",
       "22152            2020-03-07  Near-Earth asteroid orbits which cross the Ear...  \n",
       "10615            2020-01-30  Near-Earth asteroid orbits which cross the Ear...  "
      ]
     },
     "execution_count": 137,
     "metadata": {},
     "output_type": "execute_result"
    }
   ],
   "source": [
    "df_raw.sample(5)"
   ]
  },
  {
   "cell_type": "markdown",
   "metadata": {},
   "source": [
    "#### Observaciones\n",
    "\n",
    "- Las columnas 'id' y 'neo_reference_id' son identicas, asi que nos podemos quedar solo con una de ellas\n",
    "- La columna 'name_limited' es simplemente la extraccion del nombre propio del cuerpo (si es que lo tiene), dato que ya esta en la columna 'name', por lo que no nos presenta informacion relevante, mas alla de sacar la proporcion de cuerpos a los que la NASA le ha asignado un valor propio. \n",
    "- Algo similar sucede con la columna 'designation', la cual tambien es una parte del nombre oficial establecido, y el dato completo del nombre esta en la columna 'name'"
   ]
  },
  {
   "cell_type": "code",
   "execution_count": 151,
   "metadata": {},
   "outputs": [],
   "source": [
    "df_raw.drop(columns = ['neo_reference_id', 'name_limited', 'designation'], inplace = True)"
   ]
  },
  {
   "cell_type": "code",
   "execution_count": 152,
   "metadata": {},
   "outputs": [
    {
     "data": {
      "image/png": "[encoded data removed]",
      "text/plain": [
       "<Figure size 432x288 with 1 Axes>"
      ]
     },
     "metadata": {
      "needs_background": "light"
     },
     "output_type": "display_data"
    }
   ],
   "source": [
    "# is_potentially_hazardous_asteroid\n",
    "\n",
    "ax = sns.countplot(x = df_raw['is_potentially_hazardous_asteroid'])\n",
    "ax.bar_label(ax.containers[0])\n",
    "plt.title('Proporcion True/False en la columna is_potentially_hazardous_asteroid')\n",
    "plt.show()"
   ]
  },
  {
   "cell_type": "code",
   "execution_count": 140,
   "metadata": {},
   "outputs": [
    {
     "data": {
      "image/png": "[encoded data removed]",
      "text/plain": [
       "<Figure size 432x288 with 1 Axes>"
      ]
     },
     "metadata": {
      "needs_background": "light"
     },
     "output_type": "display_data"
    }
   ],
   "source": [
    "# is_sentry_object\n",
    "\n",
    "ax = sns.countplot(x = df_raw['is_sentry_object'])\n",
    "ax.bar_label(ax.containers[0])\n",
    "plt.title('Proporcion True/False en la columna is_sentry_object')\n",
    "plt.show()"
   ]
  },
  {
   "cell_type": "code",
   "execution_count": 141,
   "metadata": {},
   "outputs": [
    {
     "data": {
      "image/png": "[encoded data removed]",
      "text/plain": [
       "<Figure size 432x288 with 1 Axes>"
      ]
     },
     "metadata": {
      "needs_background": "light"
     },
     "output_type": "display_data"
    }
   ],
   "source": [
    "ax = sns.countplot(data = df_raw, x = 'is_sentry_object', hue = 'is_potentially_hazardous_asteroid')\n",
    "ax.bar_label(ax.containers[0])\n",
    "ax.bar_label(ax.containers[1])\n",
    "plt.title('Proporcion True/False en la columna is_sentry_object, separado is_potentially_hazardous_asteroid')\n",
    "plt.show()"
   ]
  },
  {
   "cell_type": "code",
   "execution_count": 142,
   "metadata": {},
   "outputs": [],
   "source": [
    "# Hay registros que son potencialmente peligrosos, pero que no se encuentran en el sistema de monitoreo Sentry"
   ]
  },
  {
   "cell_type": "code",
   "execution_count": 143,
   "metadata": {},
   "outputs": [
    {
     "data": {
      "image/png": "[encoded data removed]",
      "text/plain": [
       "<Figure size 432x288 with 1 Axes>"
      ]
     },
     "metadata": {
      "needs_background": "light"
     },
     "output_type": "display_data"
    }
   ],
   "source": [
    "# Distribucion de categorias en columna 'orbit_class_type'\n",
    "\n",
    "ax = sns.countplot(x = df_raw['orbit_class_type'])\n",
    "ax.bar_label(ax.containers[0])\n",
    "plt.title('Proporciones en la columna orbit_class_type')\n",
    "plt.show()"
   ]
  },
  {
   "cell_type": "code",
   "execution_count": 144,
   "metadata": {},
   "outputs": [
    {
     "data": {
      "image/png": "[encoded data removed]",
      "text/plain": [
       "<Figure size 432x288 with 1 Axes>"
      ]
     },
     "metadata": {
      "needs_background": "light"
     },
     "output_type": "display_data"
    }
   ],
   "source": [
    "ax = sns.countplot(data = df_raw, x = 'orbit_class_type', hue = 'is_potentially_hazardous_asteroid')\n",
    "ax.bar_label(ax.containers[0])\n",
    "ax.bar_label(ax.containers[1])\n",
    "plt.title('Proporciones en la columna orbit_class_type, separado por is_potentially_hazardous_asteroid')\n",
    "plt.show()"
   ]
  },
  {
   "cell_type": "code",
   "execution_count": 145,
   "metadata": {},
   "outputs": [
    {
     "data": {
      "image/png": "[encoded data removed]",
      "text/plain": [
       "<Figure size 432x288 with 1 Axes>"
      ]
     },
     "metadata": {
      "needs_background": "light"
     },
     "output_type": "display_data"
    }
   ],
   "source": [
    "# Distribucion de valores de la columna 'absolute_magnitude_h'\n",
    "\n",
    "df_raw['absolute_magnitude_h'].hist(bins = 20)\n",
    "plt.show()"
   ]
  },
  {
   "cell_type": "code",
   "execution_count": null,
   "metadata": {},
   "outputs": [
    {
     "data": {
      "image/png": "[encoded data removed]",
      "text/plain": [
       "<Figure size 432x288 with 1 Axes>"
      ]
     },
     "metadata": {
      "needs_background": "light"
     },
     "output_type": "display_data"
    }
   ],
   "source": [
    "# Distribucion de valorea de la columna 'kilometers_estimated_diameter_min'\n",
    "\n",
    "df_raw['kilometers_estimated_diameter_min'].hist(bins=50)\n",
    "plt.show()\n",
    "\n",
    "# El mayor valor registrado es 8.1013048824"
   ]
  },
  {
   "cell_type": "code",
   "execution_count": null,
   "metadata": {},
   "outputs": [
    {
     "data": {
      "image/png": "[encoded data removed]",
      "text/plain": [
       "<Figure size 432x288 with 1 Axes>"
      ]
     },
     "metadata": {
      "needs_background": "light"
     },
     "output_type": "display_data"
    }
   ],
   "source": [
    "# Se acotan superiormente los valores de la columna para graficar y ver mejor la distribucion, ya que esta presenta distribucion\n",
    "# con marcado sesgo positivo\n",
    "\n",
    "df_raw[df_raw['kilometers_estimated_diameter_min'] < 2]['kilometers_estimated_diameter_min'].hist(bins=20)\n",
    "plt.show()"
   ]
  },
  {
   "cell_type": "code",
   "execution_count": null,
   "metadata": {},
   "outputs": [
    {
     "data": {
      "image/png": "[encoded data removed]",
      "text/plain": [
       "<Figure size 432x288 with 1 Axes>"
      ]
     },
     "metadata": {
      "needs_background": "light"
     },
     "output_type": "display_data"
    }
   ],
   "source": [
    "# distribucion de valores de la columna 'kilometers_estimated_diameter_max'\n",
    "\n",
    "df_raw['kilometers_estimated_diameter_max'].hist(bins=50)\n",
    "plt.show()\n",
    "\n",
    "# El mayor valor registrado es 18.1150684236"
   ]
  },
  {
   "cell_type": "code",
   "execution_count": null,
   "metadata": {},
   "outputs": [
    {
     "data": {
      "image/png": "[encoded data removed]",
      "text/plain": [
       "<Figure size 432x288 with 1 Axes>"
      ]
     },
     "metadata": {
      "needs_background": "light"
     },
     "output_type": "display_data"
    }
   ],
   "source": [
    "# Igual que antes, se acotan los valores para poder apreciar mejor la grafica, debido al marcado sesgo positivo de la\n",
    "# distribucion\n",
    "\n",
    "df_raw[df_raw['kilometers_estimated_diameter_max'] < 2]['kilometers_estimated_diameter_max'].hist(bins=20)\n",
    "plt.show()"
   ]
  },
  {
   "cell_type": "code",
   "execution_count": null,
   "metadata": {},
   "outputs": [
    {
     "data": {
      "image/png": "[encoded data removed]",
      "text/plain": [
       "<Figure size 432x288 with 1 Axes>"
      ]
     },
     "metadata": {
      "needs_background": "light"
     },
     "output_type": "display_data"
    }
   ],
   "source": [
    "# Distribucion de valores de la columna 'perihelion_distance'\n",
    "\n",
    "df_raw['perihelion_distance'].hist(bins=20)\n",
    "plt.show()\n",
    "\n",
    "# La distribucion de esta columna en cambio presenta sesgo negativo"
   ]
  },
  {
   "cell_type": "code",
   "execution_count": null,
   "metadata": {},
   "outputs": [
    {
     "data": {
      "image/png": "[encoded data removed]",
      "text/plain": [
       "<Figure size 432x288 with 1 Axes>"
      ]
     },
     "metadata": {
      "needs_background": "light"
     },
     "output_type": "display_data"
    }
   ],
   "source": [
    "# Distribucion de valores de la columna 'aphelion_distance'\n",
    "\n",
    "df_raw['aphelion_distance'].hist(bins=20)\n",
    "plt.show()\n",
    "\n",
    "# El vmayor valor registrado es 631.8954563363584"
   ]
  },
  {
   "cell_type": "code",
   "execution_count": null,
   "metadata": {},
   "outputs": [
    {
     "data": {
      "image/png": "[encoded data removed]",
      "text/plain": [
       "<Figure size 432x288 with 1 Axes>"
      ]
     },
     "metadata": {
      "needs_background": "light"
     },
     "output_type": "display_data"
    }
   ],
   "source": [
    "# Se acotan los valores de la columna para poder apreciar mejor la distribucion\n",
    "\n",
    "df_raw[df_raw['aphelion_distance'] < 10]['aphelion_distance'].hist(bins=20)\n",
    "plt.show()\n",
    "\n",
    "# Efectivamente esta distribucion tambien presenta sesgo positivo"
   ]
  },
  {
   "cell_type": "code",
   "execution_count": null,
   "metadata": {},
   "outputs": [
    {
     "name": "stdout",
     "output_type": "stream",
     "text": [
      "<class 'pandas.core.frame.DataFrame'>\n",
      "RangeIndex: 24000 entries, 0 to 23999\n",
      "Data columns (total 14 columns):\n",
      " #   Column                             Non-Null Count  Dtype  \n",
      "---  ------                             --------------  -----  \n",
      " 0   id                                 24000 non-null  int64  \n",
      " 1   name                               24000 non-null  object \n",
      " 2   absolute_magnitude_h               23992 non-null  float64\n",
      " 3   is_potentially_hazardous_asteroid  24000 non-null  bool   \n",
      " 4   is_sentry_object                   24000 non-null  bool   \n",
      " 5   kilometers_estimated_diameter_min  23992 non-null  float64\n",
      " 6   kilometers_estimated_diameter_max  23992 non-null  float64\n",
      " 7   orbit_id                           24000 non-null  object \n",
      " 8   orbit_class_type                   24000 non-null  object \n",
      " 9   perihelion_distance                24000 non-null  float64\n",
      " 10  aphelion_distance                  24000 non-null  float64\n",
      " 11  first_observation_date             24000 non-null  object \n",
      " 12  last_observation_date              24000 non-null  object \n",
      " 13  orbit_class_description            24000 non-null  object \n",
      "dtypes: bool(2), float64(5), int64(1), object(6)\n",
      "memory usage: 2.2+ MB\n"
     ]
    }
   ],
   "source": [
    "df_raw.info()"
   ]
  },
  {
   "cell_type": "markdown",
   "metadata": {},
   "source": [
    "#### Transformacion de datos\n",
    "\n",
    "- Vamos a convertir a datatime dtype a las columnas 'first_observation_date' y 'last_observation_date'\n",
    "- Las columnas 'is_potentially_hazardous_asteroid' y 'is_sentry_object' se encodean en 0 y 1\n",
    "- La columna 'orbit_class_type' puede encodearse en 0, 1, 2 y 3 por tener 4 categorias diferentes\n",
    "- La columnas 'orbit_id' podrian pasarse a tipo numerico, verificarlo\n",
    "- Hay columnas que tienen datos faltantes, analizar situacion"
   ]
  },
  {
   "cell_type": "code",
   "execution_count": 159,
   "metadata": {},
   "outputs": [],
   "source": [
    "# df_raw['first_observation_date'] = pd.to_datetime(df_raw['first_observation_date']) - Error: Unknown string format: 2008-??-??\n",
    "\n",
    "# Hay un valor en la columna 'first_observation_date' que vale '2008-??-??', por lo cual\n",
    "# no es posible convertirlo a datetime tipo de dato. Entonces procedemos a borrar ese registro"
   ]
  },
  {
   "cell_type": "code",
   "execution_count": 160,
   "metadata": {},
   "outputs": [
    {
     "data": {
      "text/html": [
       "<div>\n",
       "<style scoped>\n",
       "    .dataframe tbody tr th:only-of-type {\n",
       "        vertical-align: middle;\n",
       "    }\n",
       "\n",
       "    .dataframe tbody tr th {\n",
       "        vertical-align: top;\n",
       "    }\n",
       "\n",
       "    .dataframe thead th {\n",
       "        text-align: right;\n",
       "    }\n",
       "</style>\n",
       "<table border=\"1\" class=\"dataframe\">\n",
       "  <thead>\n",
       "    <tr style=\"text-align: right;\">\n",
       "      <th></th>\n",
       "      <th>id</th>\n",
       "      <th>name</th>\n",
       "      <th>absolute_magnitude_h</th>\n",
       "      <th>is_potentially_hazardous_asteroid</th>\n",
       "      <th>is_sentry_object</th>\n",
       "      <th>kilometers_estimated_diameter_min</th>\n",
       "      <th>kilometers_estimated_diameter_max</th>\n",
       "      <th>orbit_id</th>\n",
       "      <th>orbit_class_type</th>\n",
       "      <th>perihelion_distance</th>\n",
       "      <th>aphelion_distance</th>\n",
       "      <th>first_observation_date</th>\n",
       "      <th>last_observation_date</th>\n",
       "      <th>orbit_class_description</th>\n",
       "    </tr>\n",
       "  </thead>\n",
       "  <tbody>\n",
       "    <tr>\n",
       "      <th>20702</th>\n",
       "      <td>3843794</td>\n",
       "      <td>(2019 RN1)</td>\n",
       "      <td>20.6</td>\n",
       "      <td>False</td>\n",
       "      <td>False</td>\n",
       "      <td>0.20163</td>\n",
       "      <td>0.450858</td>\n",
       "      <td>MPO508629</td>\n",
       "      <td>AMO</td>\n",
       "      <td>1.077174</td>\n",
       "      <td>1.865083</td>\n",
       "      <td>2008-??-??</td>\n",
       "      <td>2019-09-06</td>\n",
       "      <td>Near-Earth asteroid orbits similar to that of ...</td>\n",
       "    </tr>\n",
       "  </tbody>\n",
       "</table>\n",
       "</div>"
      ],
      "text/plain": [
       "            id        name  absolute_magnitude_h  \\\n",
       "20702  3843794  (2019 RN1)                  20.6   \n",
       "\n",
       "       is_potentially_hazardous_asteroid  is_sentry_object  \\\n",
       "20702                              False             False   \n",
       "\n",
       "       kilometers_estimated_diameter_min  kilometers_estimated_diameter_max  \\\n",
       "20702                            0.20163                           0.450858   \n",
       "\n",
       "        orbit_id orbit_class_type  perihelion_distance  aphelion_distance  \\\n",
       "20702  MPO508629              AMO             1.077174           1.865083   \n",
       "\n",
       "      first_observation_date last_observation_date  \\\n",
       "20702             2008-??-??            2019-09-06   \n",
       "\n",
       "                                 orbit_class_description  \n",
       "20702  Near-Earth asteroid orbits similar to that of ...  "
      ]
     },
     "execution_count": 160,
     "metadata": {},
     "output_type": "execute_result"
    }
   ],
   "source": [
    "df_raw[df_raw['first_observation_date'] == '2008-??-??']\n",
    "\n",
    "# El registro a eliminar corresponde a la categoria mayoritaria de la columna 'is_potentially_hazardous_asteroid' "
   ]
  },
  {
   "cell_type": "code",
   "execution_count": 161,
   "metadata": {},
   "outputs": [],
   "source": [
    "df_raw = df_raw.drop(df_raw[df_raw['first_observation_date'] == '2008-??-??'].index[0])"
   ]
  },
  {
   "cell_type": "code",
   "execution_count": 162,
   "metadata": {},
   "outputs": [],
   "source": [
    "# Transformando a datetime tipo de dato\n",
    "\n",
    "df_raw['first_observation_date'] = pd.to_datetime(df_raw['first_observation_date'])\n",
    "df_raw['last_observation_date'] = pd.to_datetime(df_raw['last_observation_date'])\n"
   ]
  },
  {
   "cell_type": "code",
   "execution_count": 163,
   "metadata": {},
   "outputs": [],
   "source": [
    "# Transformacion a 0 y 1 de las columnas 'is_potentially_hazardous_asteroid' y 'is_sentry_object'\n",
    "\n",
    "df_raw['is_potentially_hazardous_asteroid'] = pd.Categorical(df_raw['is_potentially_hazardous_asteroid'])\n",
    "df_raw['is_potentially_hazardous_asteroid'] = df_raw['is_potentially_hazardous_asteroid'].cat.codes\n",
    "\n",
    "df_raw['is_sentry_object'] = pd.Categorical(df_raw['is_sentry_object'])\n",
    "df_raw['is_sentry_object'] = df_raw['is_sentry_object'].cat.codes"
   ]
  },
  {
   "cell_type": "code",
   "execution_count": 164,
   "metadata": {},
   "outputs": [],
   "source": [
    "# Transformando las categorias de 'orbit_class_type' a 0, 1, 2 y 3\n",
    "\n",
    "df_raw['orbit_class_type'] = pd.Categorical(df_raw['orbit_class_type'])\n",
    "df_raw['orbit_class_type'] = df_raw['orbit_class_type'].cat.codes"
   ]
  },
  {
   "cell_type": "code",
   "execution_count": 165,
   "metadata": {},
   "outputs": [
    {
     "data": {
      "text/plain": [
       "18779      6\n",
       "11532     44\n",
       "15584      4\n",
       "14083     14\n",
       "20605      7\n",
       "5129      13\n",
       "656      153\n",
       "2018      41\n",
       "4535      11\n",
       "13708     21\n",
       "Name: orbit_id, dtype: object"
      ]
     },
     "execution_count": 165,
     "metadata": {},
     "output_type": "execute_result"
    }
   ],
   "source": [
    "# Verificando valores de la columna 'orbit_id'\n",
    "\n",
    "df_raw['orbit_id'].sample(10)"
   ]
  },
  {
   "cell_type": "code",
   "execution_count": 166,
   "metadata": {},
   "outputs": [
    {
     "data": {
      "text/html": [
       "<div>\n",
       "<style scoped>\n",
       "    .dataframe tbody tr th:only-of-type {\n",
       "        vertical-align: middle;\n",
       "    }\n",
       "\n",
       "    .dataframe tbody tr th {\n",
       "        vertical-align: top;\n",
       "    }\n",
       "\n",
       "    .dataframe thead th {\n",
       "        text-align: right;\n",
       "    }\n",
       "</style>\n",
       "<table border=\"1\" class=\"dataframe\">\n",
       "  <thead>\n",
       "    <tr style=\"text-align: right;\">\n",
       "      <th></th>\n",
       "      <th>id</th>\n",
       "      <th>name</th>\n",
       "      <th>absolute_magnitude_h</th>\n",
       "      <th>is_potentially_hazardous_asteroid</th>\n",
       "      <th>is_sentry_object</th>\n",
       "      <th>kilometers_estimated_diameter_min</th>\n",
       "      <th>kilometers_estimated_diameter_max</th>\n",
       "      <th>orbit_id</th>\n",
       "      <th>orbit_class_type</th>\n",
       "      <th>perihelion_distance</th>\n",
       "      <th>aphelion_distance</th>\n",
       "      <th>first_observation_date</th>\n",
       "      <th>last_observation_date</th>\n",
       "      <th>orbit_class_description</th>\n",
       "    </tr>\n",
       "  </thead>\n",
       "  <tbody>\n",
       "    <tr>\n",
       "      <th>10055</th>\n",
       "      <td>3645194</td>\n",
       "      <td>(2013 NE24)</td>\n",
       "      <td>27.3</td>\n",
       "      <td>0</td>\n",
       "      <td>0</td>\n",
       "      <td>0.009216</td>\n",
       "      <td>0.020608</td>\n",
       "      <td>E2021-CI3</td>\n",
       "      <td>1</td>\n",
       "      <td>0.944657</td>\n",
       "      <td>4.634736</td>\n",
       "      <td>2013-07-14</td>\n",
       "      <td>2013-07-15</td>\n",
       "      <td>Near-Earth asteroid orbits which cross the Ear...</td>\n",
       "    </tr>\n",
       "    <tr>\n",
       "      <th>14813</th>\n",
       "      <td>3759689</td>\n",
       "      <td>(2016 RM41)</td>\n",
       "      <td>25.3</td>\n",
       "      <td>0</td>\n",
       "      <td>0</td>\n",
       "      <td>0.023150</td>\n",
       "      <td>0.051765</td>\n",
       "      <td>MPO392510</td>\n",
       "      <td>0</td>\n",
       "      <td>1.050360</td>\n",
       "      <td>4.923787</td>\n",
       "      <td>2016-09-10</td>\n",
       "      <td>2016-09-11</td>\n",
       "      <td>Near-Earth asteroid orbits similar to that of ...</td>\n",
       "    </tr>\n",
       "  </tbody>\n",
       "</table>\n",
       "</div>"
      ],
      "text/plain": [
       "            id         name  absolute_magnitude_h  \\\n",
       "10055  3645194  (2013 NE24)                  27.3   \n",
       "14813  3759689  (2016 RM41)                  25.3   \n",
       "\n",
       "       is_potentially_hazardous_asteroid  is_sentry_object  \\\n",
       "10055                                  0                 0   \n",
       "14813                                  0                 0   \n",
       "\n",
       "       kilometers_estimated_diameter_min  kilometers_estimated_diameter_max  \\\n",
       "10055                           0.009216                           0.020608   \n",
       "14813                           0.023150                           0.051765   \n",
       "\n",
       "        orbit_id  orbit_class_type  perihelion_distance  aphelion_distance  \\\n",
       "10055  E2021-CI3                 1             0.944657           4.634736   \n",
       "14813  MPO392510                 0             1.050360           4.923787   \n",
       "\n",
       "      first_observation_date last_observation_date  \\\n",
       "10055             2013-07-14            2013-07-15   \n",
       "14813             2016-09-10            2016-09-11   \n",
       "\n",
       "                                 orbit_class_description  \n",
       "10055  Near-Earth asteroid orbits which cross the Ear...  \n",
       "14813  Near-Earth asteroid orbits similar to that of ...  "
      ]
     },
     "execution_count": 166,
     "metadata": {},
     "output_type": "execute_result"
    }
   ],
   "source": [
    "df_raw[np.logical_not(df_raw['orbit_id'].str.isnumeric())]\n",
    "\n",
    "# El dataset contiene solamente dos valores no numericos en la columna orbit_id, y ademas pertenecen a la categoria mayoritaria de nuestro target, por lo que podemos eliminarlas"
   ]
  },
  {
   "cell_type": "code",
   "execution_count": 167,
   "metadata": {},
   "outputs": [],
   "source": [
    "df_raw = df_raw.drop(df_raw[df_raw['orbit_id'] == 'E2021-CI3'].index[0])\n",
    "df_raw = df_raw.drop(df_raw[df_raw['orbit_id'] == 'MPO392510'].index[0])"
   ]
  },
  {
   "cell_type": "code",
   "execution_count": 168,
   "metadata": {},
   "outputs": [],
   "source": [
    "df_raw['orbit_id'] = pd.to_numeric(df_raw['orbit_id'])"
   ]
  },
  {
   "cell_type": "code",
   "execution_count": 169,
   "metadata": {},
   "outputs": [],
   "source": [
    "# Terminar de transformar a cateorica las columnas 'name' y 'orbit_class_description'\n",
    "\n",
    "df_raw['name'] = pd.Categorical(df_raw['name'])\n",
    "df_raw['orbit_class_description'] = pd.Categorical(df_raw['orbit_class_description'])"
   ]
  },
  {
   "cell_type": "code",
   "execution_count": 170,
   "metadata": {},
   "outputs": [
    {
     "name": "stdout",
     "output_type": "stream",
     "text": [
      "<class 'pandas.core.frame.DataFrame'>\n",
      "Int64Index: 23997 entries, 0 to 23999\n",
      "Data columns (total 14 columns):\n",
      " #   Column                             Non-Null Count  Dtype         \n",
      "---  ------                             --------------  -----         \n",
      " 0   id                                 23997 non-null  int64         \n",
      " 1   name                               23997 non-null  category      \n",
      " 2   absolute_magnitude_h               23989 non-null  float64       \n",
      " 3   is_potentially_hazardous_asteroid  23997 non-null  int8          \n",
      " 4   is_sentry_object                   23997 non-null  int8          \n",
      " 5   kilometers_estimated_diameter_min  23989 non-null  float64       \n",
      " 6   kilometers_estimated_diameter_max  23989 non-null  float64       \n",
      " 7   orbit_id                           23997 non-null  int64         \n",
      " 8   orbit_class_type                   23997 non-null  int8          \n",
      " 9   perihelion_distance                23997 non-null  float64       \n",
      " 10  aphelion_distance                  23997 non-null  float64       \n",
      " 11  first_observation_date             23997 non-null  datetime64[ns]\n",
      " 12  last_observation_date              23997 non-null  datetime64[ns]\n",
      " 13  orbit_class_description            23997 non-null  category      \n",
      "dtypes: category(2), datetime64[ns](2), float64(5), int64(2), int8(3)\n",
      "memory usage: 2.7 MB\n"
     ]
    }
   ],
   "source": [
    "df_raw.info()\n",
    "\n",
    "# Las columnas 'absolute_magnitude_h', 'kilometers_estimated_diameter_min' y 'kilometers_estimated_diameter_max' presentan valores faltantes\n",
    "# Se procede a llenarlos con las mediana de su columna correspondiente"
   ]
  },
  {
   "cell_type": "code",
   "execution_count": 171,
   "metadata": {},
   "outputs": [],
   "source": [
    "# Sustituyendo los valores faltantes de las columnas 'absolute_magnitude_h', 'kilometers_estimated_diameter_min'\n",
    "# y 'kilometers_estimated_diameter_max' por sus respectivas medianas\n",
    "# Esto porque las columnas 'kilometers_estimated_diameter_min' y 'kilometers_estimated_diameter_max' presentan distribuciones\n",
    "# con sesgo positivo importante.\n",
    "\n",
    "imputer_median1 = SimpleImputer(strategy='median', missing_values=np.nan)\n",
    "df_raw['absolute_magnitude_h'] = imputer_median1.fit_transform(df_raw[['absolute_magnitude_h']])\n",
    "\n",
    "imputer_median2 = SimpleImputer(strategy='median', missing_values=np.nan)\n",
    "df_raw['kilometers_estimated_diameter_min'] = imputer_median2.fit_transform(df_raw[['kilometers_estimated_diameter_min']])\n",
    "\n",
    "imputer_median3 = SimpleImputer(strategy='median', missing_values=np.nan)\n",
    "df_raw['kilometers_estimated_diameter_max'] = imputer_median3.fit_transform(df_raw[['kilometers_estimated_diameter_max']])"
   ]
  },
  {
   "cell_type": "code",
   "execution_count": 172,
   "metadata": {},
   "outputs": [
    {
     "name": "stdout",
     "output_type": "stream",
     "text": [
      "<class 'pandas.core.frame.DataFrame'>\n",
      "Int64Index: 23997 entries, 0 to 23999\n",
      "Data columns (total 14 columns):\n",
      " #   Column                             Non-Null Count  Dtype         \n",
      "---  ------                             --------------  -----         \n",
      " 0   id                                 23997 non-null  int64         \n",
      " 1   name                               23997 non-null  category      \n",
      " 2   absolute_magnitude_h               23997 non-null  float64       \n",
      " 3   is_potentially_hazardous_asteroid  23997 non-null  int8          \n",
      " 4   is_sentry_object                   23997 non-null  int8          \n",
      " 5   kilometers_estimated_diameter_min  23997 non-null  float64       \n",
      " 6   kilometers_estimated_diameter_max  23997 non-null  float64       \n",
      " 7   orbit_id                           23997 non-null  int64         \n",
      " 8   orbit_class_type                   23997 non-null  int8          \n",
      " 9   perihelion_distance                23997 non-null  float64       \n",
      " 10  aphelion_distance                  23997 non-null  float64       \n",
      " 11  first_observation_date             23997 non-null  datetime64[ns]\n",
      " 12  last_observation_date              23997 non-null  datetime64[ns]\n",
      " 13  orbit_class_description            23997 non-null  category      \n",
      "dtypes: category(2), datetime64[ns](2), float64(5), int64(2), int8(3)\n",
      "memory usage: 2.7 MB\n"
     ]
    }
   ],
   "source": [
    "df_raw.info()"
   ]
  },
  {
   "cell_type": "code",
   "execution_count": null,
   "metadata": {},
   "outputs": [
    {
     "data": {
      "text/html": [
       "<div>\n",
       "<style scoped>\n",
       "    .dataframe tbody tr th:only-of-type {\n",
       "        vertical-align: middle;\n",
       "    }\n",
       "\n",
       "    .dataframe tbody tr th {\n",
       "        vertical-align: top;\n",
       "    }\n",
       "\n",
       "    .dataframe thead th {\n",
       "        text-align: right;\n",
       "    }\n",
       "</style>\n",
       "<table border=\"1\" class=\"dataframe\">\n",
       "  <thead>\n",
       "    <tr style=\"text-align: right;\">\n",
       "      <th></th>\n",
       "      <th>id</th>\n",
       "      <th>name</th>\n",
       "      <th>absolute_magnitude_h</th>\n",
       "      <th>is_potentially_hazardous_asteroid</th>\n",
       "      <th>is_sentry_object</th>\n",
       "      <th>kilometers_estimated_diameter_min</th>\n",
       "      <th>kilometers_estimated_diameter_max</th>\n",
       "      <th>orbit_id</th>\n",
       "      <th>orbit_class_type</th>\n",
       "      <th>perihelion_distance</th>\n",
       "      <th>aphelion_distance</th>\n",
       "      <th>first_observation_date</th>\n",
       "      <th>last_observation_date</th>\n",
       "      <th>orbit_class_description</th>\n",
       "    </tr>\n",
       "  </thead>\n",
       "  <tbody>\n",
       "    <tr>\n",
       "      <th>11085</th>\n",
       "      <td>3670717</td>\n",
       "      <td>(2014 JL25)</td>\n",
       "      <td>23.0</td>\n",
       "      <td>0</td>\n",
       "      <td>0</td>\n",
       "      <td>0.066766</td>\n",
       "      <td>0.149293</td>\n",
       "      <td>28</td>\n",
       "      <td>APO</td>\n",
       "      <td>0.994993</td>\n",
       "      <td>4.799721</td>\n",
       "      <td>2014-05-04</td>\n",
       "      <td>2014-06-06</td>\n",
       "      <td>Near-Earth asteroid orbits which cross the Ear...</td>\n",
       "    </tr>\n",
       "    <tr>\n",
       "      <th>3880</th>\n",
       "      <td>3160741</td>\n",
       "      <td>(2003 SS84)</td>\n",
       "      <td>21.8</td>\n",
       "      <td>1</td>\n",
       "      <td>0</td>\n",
       "      <td>0.116026</td>\n",
       "      <td>0.259442</td>\n",
       "      <td>44</td>\n",
       "      <td>APO</td>\n",
       "      <td>0.827258</td>\n",
       "      <td>3.034454</td>\n",
       "      <td>2003-09-20</td>\n",
       "      <td>2020-03-22</td>\n",
       "      <td>Near-Earth asteroid orbits which cross the Ear...</td>\n",
       "    </tr>\n",
       "    <tr>\n",
       "      <th>8588</th>\n",
       "      <td>3589298</td>\n",
       "      <td>(2011 WN46)</td>\n",
       "      <td>21.1</td>\n",
       "      <td>1</td>\n",
       "      <td>0</td>\n",
       "      <td>0.160160</td>\n",
       "      <td>0.358129</td>\n",
       "      <td>6</td>\n",
       "      <td>APO</td>\n",
       "      <td>0.670818</td>\n",
       "      <td>1.620694</td>\n",
       "      <td>2011-11-27</td>\n",
       "      <td>2011-12-07</td>\n",
       "      <td>Near-Earth asteroid orbits which cross the Ear...</td>\n",
       "    </tr>\n",
       "    <tr>\n",
       "      <th>23808</th>\n",
       "      <td>54054750</td>\n",
       "      <td>(2020 TJ)</td>\n",
       "      <td>24.9</td>\n",
       "      <td>0</td>\n",
       "      <td>0</td>\n",
       "      <td>0.027833</td>\n",
       "      <td>0.062236</td>\n",
       "      <td>8</td>\n",
       "      <td>APO</td>\n",
       "      <td>1.007556</td>\n",
       "      <td>2.233612</td>\n",
       "      <td>2020-10-05</td>\n",
       "      <td>2020-10-23</td>\n",
       "      <td>Near-Earth asteroid orbits which cross the Ear...</td>\n",
       "    </tr>\n",
       "    <tr>\n",
       "      <th>19413</th>\n",
       "      <td>3837824</td>\n",
       "      <td>(2019 AL10)</td>\n",
       "      <td>25.2</td>\n",
       "      <td>0</td>\n",
       "      <td>0</td>\n",
       "      <td>0.024241</td>\n",
       "      <td>0.054205</td>\n",
       "      <td>5</td>\n",
       "      <td>AMO</td>\n",
       "      <td>1.036728</td>\n",
       "      <td>2.430705</td>\n",
       "      <td>2019-01-11</td>\n",
       "      <td>2019-02-05</td>\n",
       "      <td>Near-Earth asteroid orbits similar to that of ...</td>\n",
       "    </tr>\n",
       "  </tbody>\n",
       "</table>\n",
       "</div>"
      ],
      "text/plain": [
       "             id         name  absolute_magnitude_h  \\\n",
       "11085   3670717  (2014 JL25)                  23.0   \n",
       "3880    3160741  (2003 SS84)                  21.8   \n",
       "8588    3589298  (2011 WN46)                  21.1   \n",
       "23808  54054750    (2020 TJ)                  24.9   \n",
       "19413   3837824  (2019 AL10)                  25.2   \n",
       "\n",
       "       is_potentially_hazardous_asteroid  is_sentry_object  \\\n",
       "11085                                  0                 0   \n",
       "3880                                   1                 0   \n",
       "8588                                   1                 0   \n",
       "23808                                  0                 0   \n",
       "19413                                  0                 0   \n",
       "\n",
       "       kilometers_estimated_diameter_min  kilometers_estimated_diameter_max  \\\n",
       "11085                           0.066766                           0.149293   \n",
       "3880                            0.116026                           0.259442   \n",
       "8588                            0.160160                           0.358129   \n",
       "23808                           0.027833                           0.062236   \n",
       "19413                           0.024241                           0.054205   \n",
       "\n",
       "       orbit_id orbit_class_type  perihelion_distance  aphelion_distance  \\\n",
       "11085        28              APO             0.994993           4.799721   \n",
       "3880         44              APO             0.827258           3.034454   \n",
       "8588          6              APO             0.670818           1.620694   \n",
       "23808         8              APO             1.007556           2.233612   \n",
       "19413         5              AMO             1.036728           2.430705   \n",
       "\n",
       "      first_observation_date last_observation_date  \\\n",
       "11085             2014-05-04            2014-06-06   \n",
       "3880              2003-09-20            2020-03-22   \n",
       "8588              2011-11-27            2011-12-07   \n",
       "23808             2020-10-05            2020-10-23   \n",
       "19413             2019-01-11            2019-02-05   \n",
       "\n",
       "                                 orbit_class_description  \n",
       "11085  Near-Earth asteroid orbits which cross the Ear...  \n",
       "3880   Near-Earth asteroid orbits which cross the Ear...  \n",
       "8588   Near-Earth asteroid orbits which cross the Ear...  \n",
       "23808  Near-Earth asteroid orbits which cross the Ear...  \n",
       "19413  Near-Earth asteroid orbits similar to that of ...  "
      ]
     },
     "execution_count": 104,
     "metadata": {},
     "output_type": "execute_result"
    }
   ],
   "source": [
    "df_raw.sample(5)"
   ]
  },
  {
   "cell_type": "code",
   "execution_count": 173,
   "metadata": {},
   "outputs": [
    {
     "data": {
      "text/plain": [
       "['Near-Earth asteroid orbits which cross the Ea..., 'Near-Earth asteroid orbits similar to that of..., 'Near-Earth asteroid orbits similar to that of..., 'An asteroid orbit contained entirely within t...]\n",
       "Categories (4, object): ['An asteroid orbit contained entirely within t..., 'Near-Earth asteroid orbits similar to that of..., 'Near-Earth asteroid orbits similar to that of..., 'Near-Earth asteroid orbits which cross the Ea...]"
      ]
     },
     "execution_count": 173,
     "metadata": {},
     "output_type": "execute_result"
    }
   ],
   "source": [
    "# Vamos a hacer un analisis de la columna 'orbit_class_description' para observar las descripciones y evaluar si pueden haber aportes valiosos de informacion\n",
    "\n",
    "df_raw['orbit_class_description'].unique()"
   ]
  },
  {
   "cell_type": "code",
   "execution_count": 174,
   "metadata": {},
   "outputs": [],
   "source": [
    "# La columna solo contiene 4 tipos de descripciones, entonces vamos a encodearla\n",
    "\n",
    "df_raw['orbit_class_description'] = pd.Categorical(df_raw['orbit_class_description'])\n",
    "df_raw['orbit_class_description'] = df_raw['orbit_class_description'].cat.codes"
   ]
  },
  {
   "cell_type": "code",
   "execution_count": null,
   "metadata": {},
   "outputs": [
    {
     "data": {
      "image/png": "[encoded data removed]",
      "text/plain": [
       "<Figure size 864x720 with 2 Axes>"
      ]
     },
     "metadata": {
      "needs_background": "light"
     },
     "output_type": "display_data"
    }
   ],
   "source": [
    "# Correlaciones\n",
    "\n",
    "fig, ax = plt.subplots(figsize = (12,10))\n",
    "sns.heatmap(df_raw.corr(), annot = True, ax=ax)\n",
    "plt.show()"
   ]
  },
  {
   "cell_type": "code",
   "execution_count": null,
   "metadata": {},
   "outputs": [
    {
     "data": {
      "image/png": "[encoded data removed]",
      "text/plain": [
       "<Figure size 864x720 with 2 Axes>"
      ]
     },
     "metadata": {
      "needs_background": "light"
     },
     "output_type": "display_data"
    }
   ],
   "source": [
    "# Buscar correlaciones con columnas de identificacion (id y orbit_id) no tiene sentido asi que volvemos a hacer la correlacion sin ellas\n",
    "\n",
    "df_wo_ids = df_raw.drop(columns = ['id', 'orbit_id'])\n",
    "\n",
    "fig, ax = plt.subplots(figsize = (12,10))\n",
    "sns.heatmap(df_wo_ids.corr(), annot = True, ax=ax)\n",
    "plt.show()"
   ]
  },
  {
   "cell_type": "markdown",
   "metadata": {},
   "source": [
    "#### Observaciones:\n",
    "(Consideramos fuerte correlacion por encima de 0.75 (o por debajo de -0.75))\n",
    "\n",
    "No hay correlaciones fuertes respecto a nuestro target\n",
    "\n",
    "Las columnas 'kilometers_estimated_diameter_min' y 'kilometers_estimated_diameter_max' presentan las mismas correlaciones con las demas variables, ya que sus valores son muy similares, por lo que para la aplicacion de algoritmos de clasificacion solo es necesario quedarnos con una de ellas"
   ]
  },
  {
   "cell_type": "code",
   "execution_count": null,
   "metadata": {},
   "outputs": [
    {
     "data": {
      "text/plain": [
       "0.20735343592599492"
      ]
     },
     "execution_count": 121,
     "metadata": {},
     "output_type": "execute_result"
    }
   ],
   "source": [
    "diff = df_raw['kilometers_estimated_diameter_max'] - df_raw['kilometers_estimated_diameter_min']\n",
    "diff.mean()\n",
    "\n",
    "#Aqui corroboramos que la diferencia entre ambas columnas es muy pequeña, como habiamos mencionado anteriormente"
   ]
  },
  {
   "cell_type": "code",
   "execution_count": 175,
   "metadata": {},
   "outputs": [],
   "source": [
    "# Vamos a eliminar la columna kilometers_estimated_diameter_min y renombrar kilometers_estimated_diameter_max a kilometers_estimated_diameter\n",
    "\n",
    "df_raw.drop(columns = ['kilometers_estimated_diameter_min'], inplace = True)\n",
    "df_raw.rename(columns = {'kilometers_estimated_diameter_max':'kilometers_estimated_diameter'}, inplace = True)"
   ]
  },
  {
   "cell_type": "code",
   "execution_count": 176,
   "metadata": {},
   "outputs": [
    {
     "name": "stdout",
     "output_type": "stream",
     "text": [
      "<class 'pandas.core.frame.DataFrame'>\n",
      "Int64Index: 23997 entries, 0 to 23999\n",
      "Data columns (total 13 columns):\n",
      " #   Column                             Non-Null Count  Dtype         \n",
      "---  ------                             --------------  -----         \n",
      " 0   id                                 23997 non-null  int64         \n",
      " 1   name                               23997 non-null  category      \n",
      " 2   absolute_magnitude_h               23997 non-null  float64       \n",
      " 3   is_potentially_hazardous_asteroid  23997 non-null  int8          \n",
      " 4   is_sentry_object                   23997 non-null  int8          \n",
      " 5   kilometers_estimated_diameter      23997 non-null  float64       \n",
      " 6   orbit_id                           23997 non-null  int64         \n",
      " 7   orbit_class_type                   23997 non-null  int8          \n",
      " 8   perihelion_distance                23997 non-null  float64       \n",
      " 9   aphelion_distance                  23997 non-null  float64       \n",
      " 10  first_observation_date             23997 non-null  datetime64[ns]\n",
      " 11  last_observation_date              23997 non-null  datetime64[ns]\n",
      " 12  orbit_class_description            23997 non-null  int8          \n",
      "dtypes: category(1), datetime64[ns](2), float64(4), int64(2), int8(4)\n",
      "memory usage: 2.5 MB\n"
     ]
    }
   ],
   "source": [
    "df_raw.info()"
   ]
  },
  {
   "cell_type": "code",
   "execution_count": null,
   "metadata": {},
   "outputs": [],
   "source": []
  },
  {
   "cell_type": "code",
   "execution_count": null,
   "metadata": {},
   "outputs": [],
   "source": []
  },
  {
   "cell_type": "code",
   "execution_count": null,
   "metadata": {},
   "outputs": [],
   "source": []
  },
  {
   "cell_type": "code",
   "execution_count": null,
   "metadata": {},
   "outputs": [],
   "source": []
  },
  {
   "cell_type": "code",
   "execution_count": null,
   "metadata": {},
   "outputs": [],
   "source": []
  },
  {
   "cell_type": "code",
   "execution_count": null,
   "metadata": {},
   "outputs": [],
   "source": [
    "# ATACAR IMBALANCED SITUATION\n",
    "\n",
    "# Para el resampling, lo saque del code de decision tree\n",
    "\n",
    "# df_majority = df[(df[\"Outcome\"]==0)]\n",
    "# df_minority = df[(df[\"Outcome\"]==1)]\n",
    "# df_minority_upsampled = resample(df_minority,replace=True,n_samples=400,random_state=42)\n",
    "# df = pd.concat([df_minority_upsampled,df_majority])\n",
    "# df[\"Outcome\"].value_counts()"
   ]
  },
  {
   "cell_type": "markdown",
   "metadata": {},
   "source": [
    "## Aplicacion de Decision Tree"
   ]
  },
  {
   "cell_type": "markdown",
   "metadata": {},
   "source": []
  },
  {
   "cell_type": "markdown",
   "metadata": {},
   "source": []
  },
  {
   "cell_type": "code",
   "execution_count": null,
   "metadata": {},
   "outputs": [],
   "source": []
  },
  {
   "cell_type": "code",
   "execution_count": null,
   "metadata": {},
   "outputs": [],
   "source": []
  },
  {
   "cell_type": "markdown",
   "metadata": {},
   "source": [
    "## Aplicacion de Random Forest"
   ]
  },
  {
   "cell_type": "code",
   "execution_count": null,
   "metadata": {},
   "outputs": [],
   "source": []
  },
  {
   "cell_type": "code",
   "execution_count": null,
   "metadata": {},
   "outputs": [],
   "source": []
  },
  {
   "cell_type": "code",
   "execution_count": null,
   "metadata": {},
   "outputs": [],
   "source": []
  },
  {
   "cell_type": "code",
   "execution_count": null,
   "metadata": {},
   "outputs": [],
   "source": []
  },
  {
   "cell_type": "code",
   "execution_count": null,
   "metadata": {},
   "outputs": [],
   "source": []
  },
  {
   "cell_type": "code",
   "execution_count": null,
   "metadata": {},
   "outputs": [],
   "source": []
  },
  {
   "cell_type": "markdown",
   "metadata": {},
   "source": [
    "## Aplicacion de XGBoost"
   ]
  },
  {
   "cell_type": "code",
   "execution_count": null,
   "metadata": {},
   "outputs": [],
   "source": []
  },
  {
   "cell_type": "code",
   "execution_count": null,
   "metadata": {},
   "outputs": [],
   "source": []
  },
  {
   "cell_type": "code",
   "execution_count": null,
   "metadata": {},
   "outputs": [],
   "source": []
  },
  {
   "cell_type": "code",
   "execution_count": null,
   "metadata": {},
   "outputs": [],
   "source": []
  }
 ],
 "metadata": {
  "kernelspec": {
   "display_name": "Python 3.8.13 64-bit ('3.8.13')",
   "language": "python",
   "name": "python3"
  },
  "language_info": {
   "codemirror_mode": {
    "name": "ipython",
    "version": 3
   },
   "file_extension": ".py",
   "mimetype": "text/x-python",
   "name": "python",
   "nbconvert_exporter": "python",
   "pygments_lexer": "ipython3",
   "version": "3.8.13"
  },
  "orig_nbformat": 4,
  "vscode": {
   "interpreter": {
    "hash": "110cc1dee26208153f2972f08a2ad52b6a56238dc66d48e87fb757ef2996db56"
   }
  }
 },
 "nbformat": 4,
 "nbformat_minor": 2
}
